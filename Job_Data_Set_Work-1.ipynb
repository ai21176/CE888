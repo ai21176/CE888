{
  "cells": [
    {
      "cell_type": "markdown",
      "metadata": {
        "id": "GQh6QCOCtDOF"
      },
      "source": [
        "# Job Dataset"
      ]
    },
    {
      "cell_type": "markdown",
      "metadata": {
        "id": "MF0S-YEEtKKP"
      },
      "source": [
        "## 1. Load, clean, and explore the datasets provided"
      ]
    },
    {
      "cell_type": "code",
      "execution_count": null,
      "metadata": {
        "colab": {
          "base_uri": "https://localhost:8080/"
        },
        "id": "KVjoPRdPtEgp",
        "outputId": "d1f5bb5e-e6b4-45d6-acdf-6cfdb9c8e6bb"
      },
      "outputs": [
        {
          "output_type": "execute_result",
          "data": {
            "text/plain": [
              "x1     0\n",
              "x2     0\n",
              "x3     0\n",
              "x4     0\n",
              "x5     0\n",
              "x6     0\n",
              "x7     0\n",
              "x8     0\n",
              "x9     0\n",
              "x10    0\n",
              "x11    0\n",
              "x12    0\n",
              "x13    0\n",
              "x14    0\n",
              "x15    0\n",
              "x16    0\n",
              "x17    0\n",
              "t      0\n",
              "y      0\n",
              "e      0\n",
              "dtype: int64"
            ]
          },
          "metadata": {},
          "execution_count": 1
        }
      ],
      "source": [
        "import pandas as pd\n",
        "job=pd.read_csv(\"https://raw.githubusercontent.com/dmachlanski/CE888_2022/main/project/data/jobs.csv\",on_bad_lines='skip')\n",
        "job.head(7)\n",
        "job.isnull().sum()"
      ]
    },
    {
      "cell_type": "code",
      "execution_count": null,
      "metadata": {
        "colab": {
          "base_uri": "https://localhost:8080/",
          "height": 677
        },
        "id": "CYi3mNfWtEkc",
        "outputId": "12319ead-074a-4d11-e8b0-091132978f45"
      },
      "outputs": [
        {
          "output_type": "execute_result",
          "data": {
            "text/plain": [
              "      count          mean       std       min       25%       50%       75%  \\\n",
              "x1   3212.0  2.382901e-16  1.000000 -1.461095 -0.802463 -0.332011  0.797073   \n",
              "x2   3212.0 -3.820971e-16  1.000000 -3.986840 -0.579611  0.101835  0.442558   \n",
              "x3   3212.0  3.742217e-01  0.483997  0.000000  0.000000  0.000000  1.000000   \n",
              "x4   3212.0  4.887920e-02  0.215649  0.000000  0.000000  0.000000  0.000000   \n",
              "x5   3212.0  7.079701e-01  0.454767  0.000000  0.000000  1.000000  1.000000   \n",
              "x6   3212.0  4.118929e-01  0.492253  0.000000  0.000000  0.000000  1.000000   \n",
              "x7   3212.0 -1.200783e-16  1.000000 -1.147411 -0.892339 -0.085212  0.550661   \n",
              "x8   3212.0  4.956600e-17  1.000000 -1.110467 -0.913914 -0.083460  0.562908   \n",
              "x9   3212.0 -6.083414e-18  1.000000 -1.164047 -0.785284 -0.435556  0.673018   \n",
              "x10  3212.0  1.757408e-14  1.000000 -0.948832 -0.743407 -0.499853  0.526738   \n",
              "x11  3212.0 -2.638422e-16  1.000000 -2.143974 -0.670730 -0.022502  0.345809   \n",
              "x12  3212.0 -1.168292e-17  1.000000 -0.558057 -0.542381 -0.286221  0.136659   \n",
              "x13  3212.0  9.429291e-17  1.000000 -0.518815 -0.509838 -0.273737  0.131830   \n",
              "x14  3212.0  1.687422e-01  0.374582  0.000000  0.000000  0.000000  0.000000   \n",
              "x15  3212.0  1.674969e-01  0.373477  0.000000  0.000000  0.000000  0.000000   \n",
              "x16  3212.0  1.901758e-16  1.000000 -0.979981 -0.814237 -0.203502  0.453978   \n",
              "x17  3212.0  1.089664e-02  0.103833  0.000000  0.000000  0.000000  0.000000   \n",
              "t    3212.0  9.246575e-02  0.289727  0.000000  0.000000  0.000000  0.000000   \n",
              "y    3212.0  8.499377e-01  0.357188  0.000000  1.000000  1.000000  1.000000   \n",
              "e    3212.0  2.247821e-01  0.417504  0.000000  0.000000  0.000000  0.000000   \n",
              "\n",
              "           max  \n",
              "x1    2.114337  \n",
              "x2    1.805449  \n",
              "x3    1.000000  \n",
              "x4    1.000000  \n",
              "x5    1.000000  \n",
              "x6    1.000000  \n",
              "x7    8.751987  \n",
              "x8   10.165068  \n",
              "x9    2.446737  \n",
              "x10   2.773336  \n",
              "x11   2.113702  \n",
              "x12  23.052841  \n",
              "x13  29.022641  \n",
              "x14   1.000000  \n",
              "x15   1.000000  \n",
              "x16   7.136030  \n",
              "x17   1.000000  \n",
              "t     1.000000  \n",
              "y     1.000000  \n",
              "e     1.000000  "
            ],
            "text/html": [
              "\n",
              "  <div id=\"df-2e40daf7-52a8-4271-8eea-2f254c574790\">\n",
              "    <div class=\"colab-df-container\">\n",
              "      <div>\n",
              "<style scoped>\n",
              "    .dataframe tbody tr th:only-of-type {\n",
              "        vertical-align: middle;\n",
              "    }\n",
              "\n",
              "    .dataframe tbody tr th {\n",
              "        vertical-align: top;\n",
              "    }\n",
              "\n",
              "    .dataframe thead th {\n",
              "        text-align: right;\n",
              "    }\n",
              "</style>\n",
              "<table border=\"1\" class=\"dataframe\">\n",
              "  <thead>\n",
              "    <tr style=\"text-align: right;\">\n",
              "      <th></th>\n",
              "      <th>count</th>\n",
              "      <th>mean</th>\n",
              "      <th>std</th>\n",
              "      <th>min</th>\n",
              "      <th>25%</th>\n",
              "      <th>50%</th>\n",
              "      <th>75%</th>\n",
              "      <th>max</th>\n",
              "    </tr>\n",
              "  </thead>\n",
              "  <tbody>\n",
              "    <tr>\n",
              "      <th>x1</th>\n",
              "      <td>3212.0</td>\n",
              "      <td>2.382901e-16</td>\n",
              "      <td>1.000000</td>\n",
              "      <td>-1.461095</td>\n",
              "      <td>-0.802463</td>\n",
              "      <td>-0.332011</td>\n",
              "      <td>0.797073</td>\n",
              "      <td>2.114337</td>\n",
              "    </tr>\n",
              "    <tr>\n",
              "      <th>x2</th>\n",
              "      <td>3212.0</td>\n",
              "      <td>-3.820971e-16</td>\n",
              "      <td>1.000000</td>\n",
              "      <td>-3.986840</td>\n",
              "      <td>-0.579611</td>\n",
              "      <td>0.101835</td>\n",
              "      <td>0.442558</td>\n",
              "      <td>1.805449</td>\n",
              "    </tr>\n",
              "    <tr>\n",
              "      <th>x3</th>\n",
              "      <td>3212.0</td>\n",
              "      <td>3.742217e-01</td>\n",
              "      <td>0.483997</td>\n",
              "      <td>0.000000</td>\n",
              "      <td>0.000000</td>\n",
              "      <td>0.000000</td>\n",
              "      <td>1.000000</td>\n",
              "      <td>1.000000</td>\n",
              "    </tr>\n",
              "    <tr>\n",
              "      <th>x4</th>\n",
              "      <td>3212.0</td>\n",
              "      <td>4.887920e-02</td>\n",
              "      <td>0.215649</td>\n",
              "      <td>0.000000</td>\n",
              "      <td>0.000000</td>\n",
              "      <td>0.000000</td>\n",
              "      <td>0.000000</td>\n",
              "      <td>1.000000</td>\n",
              "    </tr>\n",
              "    <tr>\n",
              "      <th>x5</th>\n",
              "      <td>3212.0</td>\n",
              "      <td>7.079701e-01</td>\n",
              "      <td>0.454767</td>\n",
              "      <td>0.000000</td>\n",
              "      <td>0.000000</td>\n",
              "      <td>1.000000</td>\n",
              "      <td>1.000000</td>\n",
              "      <td>1.000000</td>\n",
              "    </tr>\n",
              "    <tr>\n",
              "      <th>x6</th>\n",
              "      <td>3212.0</td>\n",
              "      <td>4.118929e-01</td>\n",
              "      <td>0.492253</td>\n",
              "      <td>0.000000</td>\n",
              "      <td>0.000000</td>\n",
              "      <td>0.000000</td>\n",
              "      <td>1.000000</td>\n",
              "      <td>1.000000</td>\n",
              "    </tr>\n",
              "    <tr>\n",
              "      <th>x7</th>\n",
              "      <td>3212.0</td>\n",
              "      <td>-1.200783e-16</td>\n",
              "      <td>1.000000</td>\n",
              "      <td>-1.147411</td>\n",
              "      <td>-0.892339</td>\n",
              "      <td>-0.085212</td>\n",
              "      <td>0.550661</td>\n",
              "      <td>8.751987</td>\n",
              "    </tr>\n",
              "    <tr>\n",
              "      <th>x8</th>\n",
              "      <td>3212.0</td>\n",
              "      <td>4.956600e-17</td>\n",
              "      <td>1.000000</td>\n",
              "      <td>-1.110467</td>\n",
              "      <td>-0.913914</td>\n",
              "      <td>-0.083460</td>\n",
              "      <td>0.562908</td>\n",
              "      <td>10.165068</td>\n",
              "    </tr>\n",
              "    <tr>\n",
              "      <th>x9</th>\n",
              "      <td>3212.0</td>\n",
              "      <td>-6.083414e-18</td>\n",
              "      <td>1.000000</td>\n",
              "      <td>-1.164047</td>\n",
              "      <td>-0.785284</td>\n",
              "      <td>-0.435556</td>\n",
              "      <td>0.673018</td>\n",
              "      <td>2.446737</td>\n",
              "    </tr>\n",
              "    <tr>\n",
              "      <th>x10</th>\n",
              "      <td>3212.0</td>\n",
              "      <td>1.757408e-14</td>\n",
              "      <td>1.000000</td>\n",
              "      <td>-0.948832</td>\n",
              "      <td>-0.743407</td>\n",
              "      <td>-0.499853</td>\n",
              "      <td>0.526738</td>\n",
              "      <td>2.773336</td>\n",
              "    </tr>\n",
              "    <tr>\n",
              "      <th>x11</th>\n",
              "      <td>3212.0</td>\n",
              "      <td>-2.638422e-16</td>\n",
              "      <td>1.000000</td>\n",
              "      <td>-2.143974</td>\n",
              "      <td>-0.670730</td>\n",
              "      <td>-0.022502</td>\n",
              "      <td>0.345809</td>\n",
              "      <td>2.113702</td>\n",
              "    </tr>\n",
              "    <tr>\n",
              "      <th>x12</th>\n",
              "      <td>3212.0</td>\n",
              "      <td>-1.168292e-17</td>\n",
              "      <td>1.000000</td>\n",
              "      <td>-0.558057</td>\n",
              "      <td>-0.542381</td>\n",
              "      <td>-0.286221</td>\n",
              "      <td>0.136659</td>\n",
              "      <td>23.052841</td>\n",
              "    </tr>\n",
              "    <tr>\n",
              "      <th>x13</th>\n",
              "      <td>3212.0</td>\n",
              "      <td>9.429291e-17</td>\n",
              "      <td>1.000000</td>\n",
              "      <td>-0.518815</td>\n",
              "      <td>-0.509838</td>\n",
              "      <td>-0.273737</td>\n",
              "      <td>0.131830</td>\n",
              "      <td>29.022641</td>\n",
              "    </tr>\n",
              "    <tr>\n",
              "      <th>x14</th>\n",
              "      <td>3212.0</td>\n",
              "      <td>1.687422e-01</td>\n",
              "      <td>0.374582</td>\n",
              "      <td>0.000000</td>\n",
              "      <td>0.000000</td>\n",
              "      <td>0.000000</td>\n",
              "      <td>0.000000</td>\n",
              "      <td>1.000000</td>\n",
              "    </tr>\n",
              "    <tr>\n",
              "      <th>x15</th>\n",
              "      <td>3212.0</td>\n",
              "      <td>1.674969e-01</td>\n",
              "      <td>0.373477</td>\n",
              "      <td>0.000000</td>\n",
              "      <td>0.000000</td>\n",
              "      <td>0.000000</td>\n",
              "      <td>0.000000</td>\n",
              "      <td>1.000000</td>\n",
              "    </tr>\n",
              "    <tr>\n",
              "      <th>x16</th>\n",
              "      <td>3212.0</td>\n",
              "      <td>1.901758e-16</td>\n",
              "      <td>1.000000</td>\n",
              "      <td>-0.979981</td>\n",
              "      <td>-0.814237</td>\n",
              "      <td>-0.203502</td>\n",
              "      <td>0.453978</td>\n",
              "      <td>7.136030</td>\n",
              "    </tr>\n",
              "    <tr>\n",
              "      <th>x17</th>\n",
              "      <td>3212.0</td>\n",
              "      <td>1.089664e-02</td>\n",
              "      <td>0.103833</td>\n",
              "      <td>0.000000</td>\n",
              "      <td>0.000000</td>\n",
              "      <td>0.000000</td>\n",
              "      <td>0.000000</td>\n",
              "      <td>1.000000</td>\n",
              "    </tr>\n",
              "    <tr>\n",
              "      <th>t</th>\n",
              "      <td>3212.0</td>\n",
              "      <td>9.246575e-02</td>\n",
              "      <td>0.289727</td>\n",
              "      <td>0.000000</td>\n",
              "      <td>0.000000</td>\n",
              "      <td>0.000000</td>\n",
              "      <td>0.000000</td>\n",
              "      <td>1.000000</td>\n",
              "    </tr>\n",
              "    <tr>\n",
              "      <th>y</th>\n",
              "      <td>3212.0</td>\n",
              "      <td>8.499377e-01</td>\n",
              "      <td>0.357188</td>\n",
              "      <td>0.000000</td>\n",
              "      <td>1.000000</td>\n",
              "      <td>1.000000</td>\n",
              "      <td>1.000000</td>\n",
              "      <td>1.000000</td>\n",
              "    </tr>\n",
              "    <tr>\n",
              "      <th>e</th>\n",
              "      <td>3212.0</td>\n",
              "      <td>2.247821e-01</td>\n",
              "      <td>0.417504</td>\n",
              "      <td>0.000000</td>\n",
              "      <td>0.000000</td>\n",
              "      <td>0.000000</td>\n",
              "      <td>0.000000</td>\n",
              "      <td>1.000000</td>\n",
              "    </tr>\n",
              "  </tbody>\n",
              "</table>\n",
              "</div>\n",
              "      <button class=\"colab-df-convert\" onclick=\"convertToInteractive('df-2e40daf7-52a8-4271-8eea-2f254c574790')\"\n",
              "              title=\"Convert this dataframe to an interactive table.\"\n",
              "              style=\"display:none;\">\n",
              "        \n",
              "  <svg xmlns=\"http://www.w3.org/2000/svg\" height=\"24px\"viewBox=\"0 0 24 24\"\n",
              "       width=\"24px\">\n",
              "    <path d=\"M0 0h24v24H0V0z\" fill=\"none\"/>\n",
              "    <path d=\"M18.56 5.44l.94 2.06.94-2.06 2.06-.94-2.06-.94-.94-2.06-.94 2.06-2.06.94zm-11 1L8.5 8.5l.94-2.06 2.06-.94-2.06-.94L8.5 2.5l-.94 2.06-2.06.94zm10 10l.94 2.06.94-2.06 2.06-.94-2.06-.94-.94-2.06-.94 2.06-2.06.94z\"/><path d=\"M17.41 7.96l-1.37-1.37c-.4-.4-.92-.59-1.43-.59-.52 0-1.04.2-1.43.59L10.3 9.45l-7.72 7.72c-.78.78-.78 2.05 0 2.83L4 21.41c.39.39.9.59 1.41.59.51 0 1.02-.2 1.41-.59l7.78-7.78 2.81-2.81c.8-.78.8-2.07 0-2.86zM5.41 20L4 18.59l7.72-7.72 1.47 1.35L5.41 20z\"/>\n",
              "  </svg>\n",
              "      </button>\n",
              "      \n",
              "  <style>\n",
              "    .colab-df-container {\n",
              "      display:flex;\n",
              "      flex-wrap:wrap;\n",
              "      gap: 12px;\n",
              "    }\n",
              "\n",
              "    .colab-df-convert {\n",
              "      background-color: #E8F0FE;\n",
              "      border: none;\n",
              "      border-radius: 50%;\n",
              "      cursor: pointer;\n",
              "      display: none;\n",
              "      fill: #1967D2;\n",
              "      height: 32px;\n",
              "      padding: 0 0 0 0;\n",
              "      width: 32px;\n",
              "    }\n",
              "\n",
              "    .colab-df-convert:hover {\n",
              "      background-color: #E2EBFA;\n",
              "      box-shadow: 0px 1px 2px rgba(60, 64, 67, 0.3), 0px 1px 3px 1px rgba(60, 64, 67, 0.15);\n",
              "      fill: #174EA6;\n",
              "    }\n",
              "\n",
              "    [theme=dark] .colab-df-convert {\n",
              "      background-color: #3B4455;\n",
              "      fill: #D2E3FC;\n",
              "    }\n",
              "\n",
              "    [theme=dark] .colab-df-convert:hover {\n",
              "      background-color: #434B5C;\n",
              "      box-shadow: 0px 1px 3px 1px rgba(0, 0, 0, 0.15);\n",
              "      filter: drop-shadow(0px 1px 2px rgba(0, 0, 0, 0.3));\n",
              "      fill: #FFFFFF;\n",
              "    }\n",
              "  </style>\n",
              "\n",
              "      <script>\n",
              "        const buttonEl =\n",
              "          document.querySelector('#df-2e40daf7-52a8-4271-8eea-2f254c574790 button.colab-df-convert');\n",
              "        buttonEl.style.display =\n",
              "          google.colab.kernel.accessAllowed ? 'block' : 'none';\n",
              "\n",
              "        async function convertToInteractive(key) {\n",
              "          const element = document.querySelector('#df-2e40daf7-52a8-4271-8eea-2f254c574790');\n",
              "          const dataTable =\n",
              "            await google.colab.kernel.invokeFunction('convertToInteractive',\n",
              "                                                     [key], {});\n",
              "          if (!dataTable) return;\n",
              "\n",
              "          const docLinkHtml = 'Like what you see? Visit the ' +\n",
              "            '<a target=\"_blank\" href=https://colab.research.google.com/notebooks/data_table.ipynb>data table notebook</a>'\n",
              "            + ' to learn more about interactive tables.';\n",
              "          element.innerHTML = '';\n",
              "          dataTable['output_type'] = 'display_data';\n",
              "          await google.colab.output.renderOutput(dataTable, element);\n",
              "          const docLink = document.createElement('div');\n",
              "          docLink.innerHTML = docLinkHtml;\n",
              "          element.appendChild(docLink);\n",
              "        }\n",
              "      </script>\n",
              "    </div>\n",
              "  </div>\n",
              "  "
            ]
          },
          "metadata": {},
          "execution_count": 2
        }
      ],
      "source": [
        "job.describe().T"
      ]
    },
    {
      "cell_type": "markdown",
      "metadata": {
        "id": "z0YczKGrtZ-I"
      },
      "source": [
        "## • Can you identify the causal questions for each dataset?\n",
        " - What would be the job outcome if we gave this person training t1?\n",
        "\n",
        " ## Select appropriate evaluation metrics for each dataset. Justify your choices. Things to consider:\n",
        "- • Granularity of predictions and measured errors (average vs. individual).\n",
        "- • Whether the dataset includes counterfactual outcomes (or true individual effects).\n",
        "\n",
        "#### the data has 17 factors (x) that are effecting the output. It has one treatment, one outcome and one observation information hence it has low granularity\n",
        "#### Each individual output is important and hence the error will be based on some individual importance\n",
        "#### Jobs dataset has True Individual Effects \n",
        "\n",
        "We can use Polisy risk, ATE and ATT as well. Since Polisy risk is a better meaurement of accuracy we will go with it"
      ]
    },
    {
      "cell_type": "markdown",
      "metadata": {
        "id": "jxO4oYhTtxh0"
      },
      "source": [
        "## Simple learners\n",
        "#### (a) Choose at least one regression model that provides feature importances. Examples: linear regression, decision tree, random forest, boosted trees. \n",
        "- Taking into account the model and the dataset, preprocess the data if needed.\n",
        "- In your report, make sure that you justify your choice of regressor. All models have strengths and weaknesses — what makes the one you chose more appealing?\n",
        "\n",
        "1. Decison Tree Regression because of available feature imporrtance function\n",
        "## From the description it can be seen that dataset is imbalanced so undersampling technique is applied to balance the dataset"
      ]
    },
    {
      "cell_type": "code",
      "execution_count": null,
      "metadata": {
        "colab": {
          "base_uri": "https://localhost:8080/",
          "height": 597
        },
        "id": "OCERQgN2tUxF",
        "outputId": "a783b1b8-63cc-4417-e35a-719b133e29a9"
      },
      "outputs": [
        {
          "output_type": "stream",
          "name": "stderr",
          "text": [
            "/usr/local/lib/python3.7/dist-packages/ipykernel_launcher.py:5: UserWarning: Pandas doesn't allow columns to be created via a new attribute name - see https://pandas.pydata.org/pandas-docs/stable/indexing.html#attribute-access\n",
            "  \"\"\"\n"
          ]
        },
        {
          "output_type": "display_data",
          "data": {
            "text/html": [
              "<html>\n",
              "<head><meta charset=\"utf-8\" /></head>\n",
              "<body>\n",
              "    <div>            <script src=\"https://cdnjs.cloudflare.com/ajax/libs/mathjax/2.7.5/MathJax.js?config=TeX-AMS-MML_SVG\"></script><script type=\"text/javascript\">if (window.MathJax) {MathJax.Hub.Config({SVG: {font: \"STIX-Web\"}});}</script>                <script type=\"text/javascript\">window.PlotlyConfig = {MathJaxConfig: 'local'};</script>\n",
              "        <script src=\"https://cdn.plot.ly/plotly-2.8.3.min.js\"></script>                <div id=\"c5f2f6df-c907-4c8a-81b0-393ee62cc906\" class=\"plotly-graph-div\" style=\"height:525px; width:100%;\"></div>            <script type=\"text/javascript\">                                    window.PLOTLYENV=window.PLOTLYENV || {};                                    if (document.getElementById(\"c5f2f6df-c907-4c8a-81b0-393ee62cc906\")) {                    Plotly.newPlot(                        \"c5f2f6df-c907-4c8a-81b0-393ee62cc906\",                        [{\"alignmentgroup\":\"True\",\"hovertemplate\":\"Indicated Job Training=%{x}<br>count=%{y}<extra></extra>\",\"legendgroup\":\"\",\"marker\":{\"color\":\"#636efa\",\"pattern\":{\"shape\":\"\"}},\"name\":\"\",\"offsetgroup\":\"\",\"orientation\":\"v\",\"showlegend\":false,\"textposition\":\"auto\",\"x\":[1.0,0.0],\"xaxis\":\"x\",\"y\":[2730,482],\"yaxis\":\"y\",\"type\":\"bar\"}],                        {\"template\":{\"data\":{\"bar\":[{\"error_x\":{\"color\":\"#2a3f5f\"},\"error_y\":{\"color\":\"#2a3f5f\"},\"marker\":{\"line\":{\"color\":\"#E5ECF6\",\"width\":0.5},\"pattern\":{\"fillmode\":\"overlay\",\"size\":10,\"solidity\":0.2}},\"type\":\"bar\"}],\"barpolar\":[{\"marker\":{\"line\":{\"color\":\"#E5ECF6\",\"width\":0.5},\"pattern\":{\"fillmode\":\"overlay\",\"size\":10,\"solidity\":0.2}},\"type\":\"barpolar\"}],\"carpet\":[{\"aaxis\":{\"endlinecolor\":\"#2a3f5f\",\"gridcolor\":\"white\",\"linecolor\":\"white\",\"minorgridcolor\":\"white\",\"startlinecolor\":\"#2a3f5f\"},\"baxis\":{\"endlinecolor\":\"#2a3f5f\",\"gridcolor\":\"white\",\"linecolor\":\"white\",\"minorgridcolor\":\"white\",\"startlinecolor\":\"#2a3f5f\"},\"type\":\"carpet\"}],\"choropleth\":[{\"colorbar\":{\"outlinewidth\":0,\"ticks\":\"\"},\"type\":\"choropleth\"}],\"contour\":[{\"colorbar\":{\"outlinewidth\":0,\"ticks\":\"\"},\"colorscale\":[[0.0,\"#0d0887\"],[0.1111111111111111,\"#46039f\"],[0.2222222222222222,\"#7201a8\"],[0.3333333333333333,\"#9c179e\"],[0.4444444444444444,\"#bd3786\"],[0.5555555555555556,\"#d8576b\"],[0.6666666666666666,\"#ed7953\"],[0.7777777777777778,\"#fb9f3a\"],[0.8888888888888888,\"#fdca26\"],[1.0,\"#f0f921\"]],\"type\":\"contour\"}],\"contourcarpet\":[{\"colorbar\":{\"outlinewidth\":0,\"ticks\":\"\"},\"type\":\"contourcarpet\"}],\"heatmap\":[{\"colorbar\":{\"outlinewidth\":0,\"ticks\":\"\"},\"colorscale\":[[0.0,\"#0d0887\"],[0.1111111111111111,\"#46039f\"],[0.2222222222222222,\"#7201a8\"],[0.3333333333333333,\"#9c179e\"],[0.4444444444444444,\"#bd3786\"],[0.5555555555555556,\"#d8576b\"],[0.6666666666666666,\"#ed7953\"],[0.7777777777777778,\"#fb9f3a\"],[0.8888888888888888,\"#fdca26\"],[1.0,\"#f0f921\"]],\"type\":\"heatmap\"}],\"heatmapgl\":[{\"colorbar\":{\"outlinewidth\":0,\"ticks\":\"\"},\"colorscale\":[[0.0,\"#0d0887\"],[0.1111111111111111,\"#46039f\"],[0.2222222222222222,\"#7201a8\"],[0.3333333333333333,\"#9c179e\"],[0.4444444444444444,\"#bd3786\"],[0.5555555555555556,\"#d8576b\"],[0.6666666666666666,\"#ed7953\"],[0.7777777777777778,\"#fb9f3a\"],[0.8888888888888888,\"#fdca26\"],[1.0,\"#f0f921\"]],\"type\":\"heatmapgl\"}],\"histogram\":[{\"marker\":{\"pattern\":{\"fillmode\":\"overlay\",\"size\":10,\"solidity\":0.2}},\"type\":\"histogram\"}],\"histogram2d\":[{\"colorbar\":{\"outlinewidth\":0,\"ticks\":\"\"},\"colorscale\":[[0.0,\"#0d0887\"],[0.1111111111111111,\"#46039f\"],[0.2222222222222222,\"#7201a8\"],[0.3333333333333333,\"#9c179e\"],[0.4444444444444444,\"#bd3786\"],[0.5555555555555556,\"#d8576b\"],[0.6666666666666666,\"#ed7953\"],[0.7777777777777778,\"#fb9f3a\"],[0.8888888888888888,\"#fdca26\"],[1.0,\"#f0f921\"]],\"type\":\"histogram2d\"}],\"histogram2dcontour\":[{\"colorbar\":{\"outlinewidth\":0,\"ticks\":\"\"},\"colorscale\":[[0.0,\"#0d0887\"],[0.1111111111111111,\"#46039f\"],[0.2222222222222222,\"#7201a8\"],[0.3333333333333333,\"#9c179e\"],[0.4444444444444444,\"#bd3786\"],[0.5555555555555556,\"#d8576b\"],[0.6666666666666666,\"#ed7953\"],[0.7777777777777778,\"#fb9f3a\"],[0.8888888888888888,\"#fdca26\"],[1.0,\"#f0f921\"]],\"type\":\"histogram2dcontour\"}],\"mesh3d\":[{\"colorbar\":{\"outlinewidth\":0,\"ticks\":\"\"},\"type\":\"mesh3d\"}],\"parcoords\":[{\"line\":{\"colorbar\":{\"outlinewidth\":0,\"ticks\":\"\"}},\"type\":\"parcoords\"}],\"pie\":[{\"automargin\":true,\"type\":\"pie\"}],\"scatter\":[{\"marker\":{\"colorbar\":{\"outlinewidth\":0,\"ticks\":\"\"}},\"type\":\"scatter\"}],\"scatter3d\":[{\"line\":{\"colorbar\":{\"outlinewidth\":0,\"ticks\":\"\"}},\"marker\":{\"colorbar\":{\"outlinewidth\":0,\"ticks\":\"\"}},\"type\":\"scatter3d\"}],\"scattercarpet\":[{\"marker\":{\"colorbar\":{\"outlinewidth\":0,\"ticks\":\"\"}},\"type\":\"scattercarpet\"}],\"scattergeo\":[{\"marker\":{\"colorbar\":{\"outlinewidth\":0,\"ticks\":\"\"}},\"type\":\"scattergeo\"}],\"scattergl\":[{\"marker\":{\"colorbar\":{\"outlinewidth\":0,\"ticks\":\"\"}},\"type\":\"scattergl\"}],\"scattermapbox\":[{\"marker\":{\"colorbar\":{\"outlinewidth\":0,\"ticks\":\"\"}},\"type\":\"scattermapbox\"}],\"scatterpolar\":[{\"marker\":{\"colorbar\":{\"outlinewidth\":0,\"ticks\":\"\"}},\"type\":\"scatterpolar\"}],\"scatterpolargl\":[{\"marker\":{\"colorbar\":{\"outlinewidth\":0,\"ticks\":\"\"}},\"type\":\"scatterpolargl\"}],\"scatterternary\":[{\"marker\":{\"colorbar\":{\"outlinewidth\":0,\"ticks\":\"\"}},\"type\":\"scatterternary\"}],\"surface\":[{\"colorbar\":{\"outlinewidth\":0,\"ticks\":\"\"},\"colorscale\":[[0.0,\"#0d0887\"],[0.1111111111111111,\"#46039f\"],[0.2222222222222222,\"#7201a8\"],[0.3333333333333333,\"#9c179e\"],[0.4444444444444444,\"#bd3786\"],[0.5555555555555556,\"#d8576b\"],[0.6666666666666666,\"#ed7953\"],[0.7777777777777778,\"#fb9f3a\"],[0.8888888888888888,\"#fdca26\"],[1.0,\"#f0f921\"]],\"type\":\"surface\"}],\"table\":[{\"cells\":{\"fill\":{\"color\":\"#EBF0F8\"},\"line\":{\"color\":\"white\"}},\"header\":{\"fill\":{\"color\":\"#C8D4E3\"},\"line\":{\"color\":\"white\"}},\"type\":\"table\"}]},\"layout\":{\"annotationdefaults\":{\"arrowcolor\":\"#2a3f5f\",\"arrowhead\":0,\"arrowwidth\":1},\"autotypenumbers\":\"strict\",\"coloraxis\":{\"colorbar\":{\"outlinewidth\":0,\"ticks\":\"\"}},\"colorscale\":{\"diverging\":[[0,\"#8e0152\"],[0.1,\"#c51b7d\"],[0.2,\"#de77ae\"],[0.3,\"#f1b6da\"],[0.4,\"#fde0ef\"],[0.5,\"#f7f7f7\"],[0.6,\"#e6f5d0\"],[0.7,\"#b8e186\"],[0.8,\"#7fbc41\"],[0.9,\"#4d9221\"],[1,\"#276419\"]],\"sequential\":[[0.0,\"#0d0887\"],[0.1111111111111111,\"#46039f\"],[0.2222222222222222,\"#7201a8\"],[0.3333333333333333,\"#9c179e\"],[0.4444444444444444,\"#bd3786\"],[0.5555555555555556,\"#d8576b\"],[0.6666666666666666,\"#ed7953\"],[0.7777777777777778,\"#fb9f3a\"],[0.8888888888888888,\"#fdca26\"],[1.0,\"#f0f921\"]],\"sequentialminus\":[[0.0,\"#0d0887\"],[0.1111111111111111,\"#46039f\"],[0.2222222222222222,\"#7201a8\"],[0.3333333333333333,\"#9c179e\"],[0.4444444444444444,\"#bd3786\"],[0.5555555555555556,\"#d8576b\"],[0.6666666666666666,\"#ed7953\"],[0.7777777777777778,\"#fb9f3a\"],[0.8888888888888888,\"#fdca26\"],[1.0,\"#f0f921\"]]},\"colorway\":[\"#636efa\",\"#EF553B\",\"#00cc96\",\"#ab63fa\",\"#FFA15A\",\"#19d3f3\",\"#FF6692\",\"#B6E880\",\"#FF97FF\",\"#FECB52\"],\"font\":{\"color\":\"#2a3f5f\"},\"geo\":{\"bgcolor\":\"white\",\"lakecolor\":\"white\",\"landcolor\":\"#E5ECF6\",\"showlakes\":true,\"showland\":true,\"subunitcolor\":\"white\"},\"hoverlabel\":{\"align\":\"left\"},\"hovermode\":\"closest\",\"mapbox\":{\"style\":\"light\"},\"paper_bgcolor\":\"white\",\"plot_bgcolor\":\"#E5ECF6\",\"polar\":{\"angularaxis\":{\"gridcolor\":\"white\",\"linecolor\":\"white\",\"ticks\":\"\"},\"bgcolor\":\"#E5ECF6\",\"radialaxis\":{\"gridcolor\":\"white\",\"linecolor\":\"white\",\"ticks\":\"\"}},\"scene\":{\"xaxis\":{\"backgroundcolor\":\"#E5ECF6\",\"gridcolor\":\"white\",\"gridwidth\":2,\"linecolor\":\"white\",\"showbackground\":true,\"ticks\":\"\",\"zerolinecolor\":\"white\"},\"yaxis\":{\"backgroundcolor\":\"#E5ECF6\",\"gridcolor\":\"white\",\"gridwidth\":2,\"linecolor\":\"white\",\"showbackground\":true,\"ticks\":\"\",\"zerolinecolor\":\"white\"},\"zaxis\":{\"backgroundcolor\":\"#E5ECF6\",\"gridcolor\":\"white\",\"gridwidth\":2,\"linecolor\":\"white\",\"showbackground\":true,\"ticks\":\"\",\"zerolinecolor\":\"white\"}},\"shapedefaults\":{\"line\":{\"color\":\"#2a3f5f\"}},\"ternary\":{\"aaxis\":{\"gridcolor\":\"white\",\"linecolor\":\"white\",\"ticks\":\"\"},\"baxis\":{\"gridcolor\":\"white\",\"linecolor\":\"white\",\"ticks\":\"\"},\"bgcolor\":\"#E5ECF6\",\"caxis\":{\"gridcolor\":\"white\",\"linecolor\":\"white\",\"ticks\":\"\"}},\"title\":{\"x\":0.05},\"xaxis\":{\"automargin\":true,\"gridcolor\":\"white\",\"linecolor\":\"white\",\"ticks\":\"\",\"title\":{\"standoff\":15},\"zerolinecolor\":\"white\",\"zerolinewidth\":2},\"yaxis\":{\"automargin\":true,\"gridcolor\":\"white\",\"linecolor\":\"white\",\"ticks\":\"\",\"title\":{\"standoff\":15},\"zerolinecolor\":\"white\",\"zerolinewidth\":2}}},\"xaxis\":{\"anchor\":\"y\",\"domain\":[0.0,1.0],\"title\":{\"text\":\"Indicated Job Training\"}},\"yaxis\":{\"anchor\":\"x\",\"domain\":[0.0,1.0],\"title\":{\"text\":\"count\"}},\"legend\":{\"tracegroupgap\":0},\"title\":{\"text\":\"Status of the Indicated Job Training before using SMOTE\"},\"barmode\":\"relative\"},                        {\"responsive\": true}                    ).then(function(){\n",
              "                            \n",
              "var gd = document.getElementById('c5f2f6df-c907-4c8a-81b0-393ee62cc906');\n",
              "var x = new MutationObserver(function (mutations, observer) {{\n",
              "        var display = window.getComputedStyle(gd).display;\n",
              "        if (!display || display === 'none') {{\n",
              "            console.log([gd, 'removed!']);\n",
              "            Plotly.purge(gd);\n",
              "            observer.disconnect();\n",
              "        }}\n",
              "}});\n",
              "\n",
              "// Listen for the removal of the full notebook cells\n",
              "var notebookContainer = gd.closest('#notebook-container');\n",
              "if (notebookContainer) {{\n",
              "    x.observe(notebookContainer, {childList: true});\n",
              "}}\n",
              "\n",
              "// Listen for the clearing of the current output cell\n",
              "var outputEl = gd.closest('.output');\n",
              "if (outputEl) {{\n",
              "    x.observe(outputEl, {childList: true});\n",
              "}}\n",
              "\n",
              "                        })                };                            </script>        </div>\n",
              "</body>\n",
              "</html>"
            ]
          },
          "metadata": {}
        }
      ],
      "source": [
        "import plotly.express as px\n",
        "test = pd.DataFrame(job['y'].value_counts(normalize=False))\n",
        "test = test.reset_index()\n",
        "test.columns = ['Indicated Job Training','count']\n",
        "test.machine_status = test['Indicated Job Training'].astype(str)\n",
        "fig = px.bar(test, x='Indicated Job Training', y='count',title= \"Status of the Indicated Job Training before using SMOTE\")\n",
        "fig.show()"
      ]
    },
    {
      "cell_type": "code",
      "execution_count": null,
      "metadata": {
        "colab": {
          "base_uri": "https://localhost:8080/",
          "height": 576
        },
        "id": "nI6YEy46tUzH",
        "outputId": "9a5a9e82-8e1f-4c6d-c957-0d8ba5c7e5d7"
      },
      "outputs": [
        {
          "output_type": "stream",
          "name": "stdout",
          "text": [
            "x1, Score: 0.02118\n",
            "x2, Score: 0.02455\n",
            "x3, Score: 0.04856\n",
            "x4, Score: 0.02457\n",
            "x5, Score: 0.50735\n",
            "x6, Score: 0.00019\n",
            "x7, Score: 0.11988\n",
            "x8, Score: 0.11545\n",
            "x9, Score: 0.03094\n",
            "x10, Score: 0.02294\n",
            "x11, Score: 0.02883\n",
            "x12, Score: 0.02135\n",
            "x13, Score: 0.00828\n",
            "x14, Score: 0.00109\n",
            "x15, Score: 0.00221\n",
            "x16, Score: 0.02263\n",
            "x17, Score: 0.00000\n"
          ]
        },
        {
          "output_type": "display_data",
          "data": {
            "text/plain": [
              "<Figure size 432x288 with 1 Axes>"
            ],
            "image/png": "[encoded data removed]"
          },
          "metadata": {
            "needs_background": "light"
          }
        }
      ],
      "source": [
        "# decision tree for feature importance on a regression problem\n",
        "from sklearn.datasets import make_regression\n",
        "from sklearn.tree import DecisionTreeRegressor,DecisionTreeClassifier\n",
        "from matplotlib import pyplot\n",
        "# define dataset\n",
        "X, y = job[job.columns[:17]],job['e']\n",
        "from imblearn.under_sampling import RandomUnderSampler\n",
        "rus = RandomUnderSampler(random_state=0)\n",
        "rus.fit(X, y)\n",
        "X, y = rus.fit_resample(X, y)\n",
        "# define the model\n",
        "model = DecisionTreeRegressor()\n",
        "# fit the model\n",
        "model.fit(X, y)\n",
        "# get importance\n",
        "importance = model.feature_importances_\n",
        "# summarize feature importance\n",
        "for i,v in enumerate(importance):\n",
        "\tprint('x%0d, Score: %.5f' % (i+1,v))\n",
        "# plot feature importance\n",
        "pyplot.bar([x for x in range(len(importance))], importance)\n",
        "pyplot.title(\"Feature Importance for Jobs dataset using Decision Tree Regressor\")\n",
        "pyplot.ylabel(\"Feature Score\")\n",
        "pyplot.ylabel(\"Feature Number\")\n",
        "pyplot.show()"
      ]
    },
    {
      "cell_type": "code",
      "execution_count": null,
      "metadata": {
        "id": "PljiDi7nuw6t"
      },
      "outputs": [],
      "source": [
        ""
      ]
    },
    {
      "cell_type": "code",
      "execution_count": null,
      "metadata": {
        "colab": {
          "base_uri": "https://localhost:8080/",
          "height": 583
        },
        "id": "F5BN7hCruyMh",
        "outputId": "c9e41b57-947d-4a34-a76c-8c17cf861cc1"
      },
      "outputs": [
        {
          "output_type": "execute_result",
          "data": {
            "text/plain": [
              "   Feature Name     Score\n",
              "4            x5  0.507353\n",
              "6            x7  0.119879\n",
              "7            x8  0.115449\n",
              "2            x3  0.048557\n",
              "8            x9  0.030943\n",
              "10          x11  0.028827\n",
              "3            x4  0.024571\n",
              "1            x2  0.024549\n",
              "9           x10  0.022943\n",
              "15          x16  0.022626\n",
              "11          x12  0.021355\n",
              "0            x1  0.021178\n",
              "12          x13  0.008281\n",
              "14          x15  0.002209\n",
              "13          x14  0.001086\n",
              "5            x6  0.000195\n",
              "16          x17       0.0"
            ],
            "text/html": [
              "\n",
              "  <div id=\"df-fca76357-72a3-4d5c-9d0c-73ec30caf27e\">\n",
              "    <div class=\"colab-df-container\">\n",
              "      <div>\n",
              "<style scoped>\n",
              "    .dataframe tbody tr th:only-of-type {\n",
              "        vertical-align: middle;\n",
              "    }\n",
              "\n",
              "    .dataframe tbody tr th {\n",
              "        vertical-align: top;\n",
              "    }\n",
              "\n",
              "    .dataframe thead th {\n",
              "        text-align: right;\n",
              "    }\n",
              "</style>\n",
              "<table border=\"1\" class=\"dataframe\">\n",
              "  <thead>\n",
              "    <tr style=\"text-align: right;\">\n",
              "      <th></th>\n",
              "      <th>Feature Name</th>\n",
              "      <th>Score</th>\n",
              "    </tr>\n",
              "  </thead>\n",
              "  <tbody>\n",
              "    <tr>\n",
              "      <th>4</th>\n",
              "      <td>x5</td>\n",
              "      <td>0.507353</td>\n",
              "    </tr>\n",
              "    <tr>\n",
              "      <th>6</th>\n",
              "      <td>x7</td>\n",
              "      <td>0.119879</td>\n",
              "    </tr>\n",
              "    <tr>\n",
              "      <th>7</th>\n",
              "      <td>x8</td>\n",
              "      <td>0.115449</td>\n",
              "    </tr>\n",
              "    <tr>\n",
              "      <th>2</th>\n",
              "      <td>x3</td>\n",
              "      <td>0.048557</td>\n",
              "    </tr>\n",
              "    <tr>\n",
              "      <th>8</th>\n",
              "      <td>x9</td>\n",
              "      <td>0.030943</td>\n",
              "    </tr>\n",
              "    <tr>\n",
              "      <th>10</th>\n",
              "      <td>x11</td>\n",
              "      <td>0.028827</td>\n",
              "    </tr>\n",
              "    <tr>\n",
              "      <th>3</th>\n",
              "      <td>x4</td>\n",
              "      <td>0.024571</td>\n",
              "    </tr>\n",
              "    <tr>\n",
              "      <th>1</th>\n",
              "      <td>x2</td>\n",
              "      <td>0.024549</td>\n",
              "    </tr>\n",
              "    <tr>\n",
              "      <th>9</th>\n",
              "      <td>x10</td>\n",
              "      <td>0.022943</td>\n",
              "    </tr>\n",
              "    <tr>\n",
              "      <th>15</th>\n",
              "      <td>x16</td>\n",
              "      <td>0.022626</td>\n",
              "    </tr>\n",
              "    <tr>\n",
              "      <th>11</th>\n",
              "      <td>x12</td>\n",
              "      <td>0.021355</td>\n",
              "    </tr>\n",
              "    <tr>\n",
              "      <th>0</th>\n",
              "      <td>x1</td>\n",
              "      <td>0.021178</td>\n",
              "    </tr>\n",
              "    <tr>\n",
              "      <th>12</th>\n",
              "      <td>x13</td>\n",
              "      <td>0.008281</td>\n",
              "    </tr>\n",
              "    <tr>\n",
              "      <th>14</th>\n",
              "      <td>x15</td>\n",
              "      <td>0.002209</td>\n",
              "    </tr>\n",
              "    <tr>\n",
              "      <th>13</th>\n",
              "      <td>x14</td>\n",
              "      <td>0.001086</td>\n",
              "    </tr>\n",
              "    <tr>\n",
              "      <th>5</th>\n",
              "      <td>x6</td>\n",
              "      <td>0.000195</td>\n",
              "    </tr>\n",
              "    <tr>\n",
              "      <th>16</th>\n",
              "      <td>x17</td>\n",
              "      <td>0.0</td>\n",
              "    </tr>\n",
              "  </tbody>\n",
              "</table>\n",
              "</div>\n",
              "      <button class=\"colab-df-convert\" onclick=\"convertToInteractive('df-fca76357-72a3-4d5c-9d0c-73ec30caf27e')\"\n",
              "              title=\"Convert this dataframe to an interactive table.\"\n",
              "              style=\"display:none;\">\n",
              "        \n",
              "  <svg xmlns=\"http://www.w3.org/2000/svg\" height=\"24px\"viewBox=\"0 0 24 24\"\n",
              "       width=\"24px\">\n",
              "    <path d=\"M0 0h24v24H0V0z\" fill=\"none\"/>\n",
              "    <path d=\"M18.56 5.44l.94 2.06.94-2.06 2.06-.94-2.06-.94-.94-2.06-.94 2.06-2.06.94zm-11 1L8.5 8.5l.94-2.06 2.06-.94-2.06-.94L8.5 2.5l-.94 2.06-2.06.94zm10 10l.94 2.06.94-2.06 2.06-.94-2.06-.94-.94-2.06-.94 2.06-2.06.94z\"/><path d=\"M17.41 7.96l-1.37-1.37c-.4-.4-.92-.59-1.43-.59-.52 0-1.04.2-1.43.59L10.3 9.45l-7.72 7.72c-.78.78-.78 2.05 0 2.83L4 21.41c.39.39.9.59 1.41.59.51 0 1.02-.2 1.41-.59l7.78-7.78 2.81-2.81c.8-.78.8-2.07 0-2.86zM5.41 20L4 18.59l7.72-7.72 1.47 1.35L5.41 20z\"/>\n",
              "  </svg>\n",
              "      </button>\n",
              "      \n",
              "  <style>\n",
              "    .colab-df-container {\n",
              "      display:flex;\n",
              "      flex-wrap:wrap;\n",
              "      gap: 12px;\n",
              "    }\n",
              "\n",
              "    .colab-df-convert {\n",
              "      background-color: #E8F0FE;\n",
              "      border: none;\n",
              "      border-radius: 50%;\n",
              "      cursor: pointer;\n",
              "      display: none;\n",
              "      fill: #1967D2;\n",
              "      height: 32px;\n",
              "      padding: 0 0 0 0;\n",
              "      width: 32px;\n",
              "    }\n",
              "\n",
              "    .colab-df-convert:hover {\n",
              "      background-color: #E2EBFA;\n",
              "      box-shadow: 0px 1px 2px rgba(60, 64, 67, 0.3), 0px 1px 3px 1px rgba(60, 64, 67, 0.15);\n",
              "      fill: #174EA6;\n",
              "    }\n",
              "\n",
              "    [theme=dark] .colab-df-convert {\n",
              "      background-color: #3B4455;\n",
              "      fill: #D2E3FC;\n",
              "    }\n",
              "\n",
              "    [theme=dark] .colab-df-convert:hover {\n",
              "      background-color: #434B5C;\n",
              "      box-shadow: 0px 1px 3px 1px rgba(0, 0, 0, 0.15);\n",
              "      filter: drop-shadow(0px 1px 2px rgba(0, 0, 0, 0.3));\n",
              "      fill: #FFFFFF;\n",
              "    }\n",
              "  </style>\n",
              "\n",
              "      <script>\n",
              "        const buttonEl =\n",
              "          document.querySelector('#df-fca76357-72a3-4d5c-9d0c-73ec30caf27e button.colab-df-convert');\n",
              "        buttonEl.style.display =\n",
              "          google.colab.kernel.accessAllowed ? 'block' : 'none';\n",
              "\n",
              "        async function convertToInteractive(key) {\n",
              "          const element = document.querySelector('#df-fca76357-72a3-4d5c-9d0c-73ec30caf27e');\n",
              "          const dataTable =\n",
              "            await google.colab.kernel.invokeFunction('convertToInteractive',\n",
              "                                                     [key], {});\n",
              "          if (!dataTable) return;\n",
              "\n",
              "          const docLinkHtml = 'Like what you see? Visit the ' +\n",
              "            '<a target=\"_blank\" href=https://colab.research.google.com/notebooks/data_table.ipynb>data table notebook</a>'\n",
              "            + ' to learn more about interactive tables.';\n",
              "          element.innerHTML = '';\n",
              "          dataTable['output_type'] = 'display_data';\n",
              "          await google.colab.output.renderOutput(dataTable, element);\n",
              "          const docLink = document.createElement('div');\n",
              "          docLink.innerHTML = docLinkHtml;\n",
              "          element.appendChild(docLink);\n",
              "        }\n",
              "      </script>\n",
              "    </div>\n",
              "  </div>\n",
              "  "
            ]
          },
          "metadata": {},
          "execution_count": 5
        }
      ],
      "source": [
        "Features_Importance=pd.DataFrame([job.columns[:17],importance]).T\n",
        "Features_Importance.columns=['Feature Name','Score']\n",
        "Features_Importance.sort_values(\"Score\",ascending=False)"
      ]
    },
    {
      "cell_type": "markdown",
      "metadata": {
        "id": "8xENOzBpuj1X"
      },
      "source": [
        "## Train the model(s) of your choice on both datasets using all available features (including treatment)."
      ]
    },
    {
      "cell_type": "code",
      "execution_count": null,
      "metadata": {
        "id": "Hoz0m_dOtU2R"
      },
      "outputs": [],
      "source": [
        "X=job[job.columns[:18]]\n",
        "y=job['e']"
      ]
    },
    {
      "cell_type": "markdown",
      "metadata": {
        "id": "Dn2XliZovZuI"
      },
      "source": [
        "## b) Train the model(s) of your choice on both datasets using all available features (including treatment). \n",
        "### (c) Make effect predictions and compute relevant metrics.\n",
        "- Make predictions yˆ1 and yˆ0 by setting treatment to 1 and 0 respectively. Obtain effect estimates as yˆ1 − yˆ0."
      ]
    },
    {
      "cell_type": "code",
      "execution_count": null,
      "metadata": {
        "id": "kd30TJXdvYWz"
      },
      "outputs": [],
      "source": [
        "model = DecisionTreeRegressor()\n",
        "# fit the model\n",
        "model.fit(X, y)\n",
        "# get importance\n",
        "pred_regre=model.predict(X)"
      ]
    },
    {
      "cell_type": "code",
      "execution_count": null,
      "metadata": {
        "colab": {
          "base_uri": "https://localhost:8080/"
        },
        "id": "3QnQT-YyxLca",
        "outputId": "6314f06e-8613-45de-d374-e825e3d8edb1"
      },
      "outputs": [
        {
          "output_type": "execute_result",
          "data": {
            "text/plain": [
              "3212"
            ]
          },
          "metadata": {},
          "execution_count": 8
        }
      ],
      "source": [
        "len(pred_regre)"
      ]
    },
    {
      "cell_type": "code",
      "execution_count": null,
      "metadata": {
        "id": "X8ygbQb3wn0l"
      },
      "outputs": [],
      "source": [
        "# Make effect predictions and compute relevant metrics."
      ]
    },
    {
      "cell_type": "code",
      "execution_count": null,
      "metadata": {
        "id": "1tXFmFVfwAT1"
      },
      "outputs": [],
      "source": [
        "pred_regre[pred_regre>0.5]=1\n",
        "pred_regre[pred_regre<=0.5]=0"
      ]
    },
    {
      "cell_type": "code",
      "execution_count": null,
      "metadata": {
        "colab": {
          "base_uri": "https://localhost:8080/"
        },
        "id": "KPZ9d8sExI7j",
        "outputId": "592f6319-6ec0-41a9-e198-c5ccaa596edd"
      },
      "outputs": [
        {
          "output_type": "execute_result",
          "data": {
            "text/plain": [
              "3212"
            ]
          },
          "metadata": {},
          "execution_count": 11
        }
      ],
      "source": [
        "len(pred_regre)"
      ]
    },
    {
      "cell_type": "code",
      "execution_count": null,
      "metadata": {
        "id": "WCFtNXBOwBm_"
      },
      "outputs": [],
      "source": [
        "def policy_risk(effect_pred, yf, t, e):\n",
        "    \"\"\"\n",
        "    Computes the risk of the policy defined by predicted effect\n",
        "    :param effect_pred: predicted treatment effect value\n",
        "    :param yf: factual (observed) outcome\n",
        "    :param t: treatment status (treated/control)\n",
        "    :param e: whether belongs to the experimental group\n",
        "    :return: policy risk\n",
        "    \"\"\"\n",
        "    # Consider only the cases for which we have experimental data (i.e., e > 0)\n",
        "    t_e = t[e > 0]\n",
        "    yf_e = yf[e > 0]\n",
        "    effect_pred_e = effect_pred[e > 0]\n",
        "\n",
        "    if np.any(np.isnan(effect_pred_e)):\n",
        "        return np.nan\n",
        "\n",
        "    policy = effect_pred_e > 0.0\n",
        "    treat_overlap = (policy == t_e) * (t_e > 0)\n",
        "    control_overlap = (policy == t_e) * (t_e < 1)\n",
        "\n",
        "    if np.sum(treat_overlap) == 0:\n",
        "        treat_value = 0\n",
        "    else:\n",
        "        treat_value = np.mean(yf_e[treat_overlap])\n",
        "\n",
        "    if np.sum(control_overlap) == 0:\n",
        "        control_value = 0\n",
        "    else:\n",
        "        control_value = np.mean(yf_e[control_overlap])\n",
        "\n",
        "    pit = np.mean(policy)\n",
        "    policy_value = pit * treat_value + (1.0 - pit) * control_value\n",
        "\n",
        "    return 1.0 - policy_value"
      ]
    },
    {
      "cell_type": "code",
      "execution_count": null,
      "metadata": {
        "id": "6ZG2j2_TxBPV"
      },
      "outputs": [],
      "source": [
        "import numpy as np"
      ]
    },
    {
      "cell_type": "code",
      "execution_count": null,
      "metadata": {
        "colab": {
          "base_uri": "https://localhost:8080/"
        },
        "id": "w8Fhbi9Wwxm2",
        "outputId": "39775618-f8eb-4b9e-9ba3-5af77e79e59f"
      },
      "outputs": [
        {
          "output_type": "execute_result",
          "data": {
            "text/plain": [
              "0.22666181668951746"
            ]
          },
          "metadata": {},
          "execution_count": 14
        }
      ],
      "source": [
        "policy_risk(pred_regre,job['y'],job['t'],job['e'])"
      ]
    },
    {
      "cell_type": "markdown",
      "metadata": {
        "id": "i8wor18_xlhe"
      },
      "source": [
        "d) Perform hyperparameter optimisation for your model(s) using grid search and appropriate\n",
        "modeling techniques.\n"
      ]
    },
    {
      "cell_type": "code",
      "execution_count": null,
      "metadata": {
        "id": "kJP67OGhyJke"
      },
      "outputs": [],
      "source": [
        "from sklearn.model_selection import RepeatedKFold\n",
        "from sklearn.model_selection import RandomizedSearchCV\n",
        "from sklearn.model_selection import RepeatedStratifiedKFold"
      ]
    },
    {
      "cell_type": "code",
      "execution_count": null,
      "metadata": {
        "colab": {
          "base_uri": "https://localhost:8080/"
        },
        "id": "-NAZfVHJwas6",
        "outputId": "2bea59db-7b57-4913-f801-fbbcb74220e7"
      },
      "outputs": [
        {
          "output_type": "stream",
          "name": "stdout",
          "text": [
            "Best: 0.933581 using {'criterion': 'entropy', 'max_features': 'auto', 'splitter': 'random'}\n",
            "0.928912 (0.014166) with: {'criterion': 'gini', 'max_features': 'auto', 'splitter': 'best'}\n",
            "0.929950 (0.015302) with: {'criterion': 'gini', 'max_features': 'auto', 'splitter': 'random'}\n",
            "0.929016 (0.016091) with: {'criterion': 'gini', 'max_features': 'sqrt', 'splitter': 'best'}\n",
            "0.932852 (0.014071) with: {'criterion': 'gini', 'max_features': 'sqrt', 'splitter': 'random'}\n",
            "0.926004 (0.015412) with: {'criterion': 'gini', 'max_features': 'log2', 'splitter': 'best'}\n",
            "0.932854 (0.013525) with: {'criterion': 'gini', 'max_features': 'log2', 'splitter': 'random'}\n",
            "0.930365 (0.011269) with: {'criterion': 'entropy', 'max_features': 'auto', 'splitter': 'best'}\n",
            "0.933581 (0.014482) with: {'criterion': 'entropy', 'max_features': 'auto', 'splitter': 'random'}\n",
            "0.931614 (0.014389) with: {'criterion': 'entropy', 'max_features': 'sqrt', 'splitter': 'best'}\n",
            "0.930155 (0.017928) with: {'criterion': 'entropy', 'max_features': 'sqrt', 'splitter': 'random'}\n",
            "0.933168 (0.015346) with: {'criterion': 'entropy', 'max_features': 'log2', 'splitter': 'best'}\n",
            "0.933270 (0.014509) with: {'criterion': 'entropy', 'max_features': 'log2', 'splitter': 'random'}\n"
          ]
        }
      ],
      "source": [
        "X=job[job.columns[:18]]\n",
        "y=job['e']\n",
        "from sklearn.model_selection import GridSearchCV\n",
        "model = DecisionTreeClassifier()\n",
        "criterion = [\"gini\", \"entropy\"]\n",
        "max_features = ['auto', 'sqrt', 'log2']\n",
        "splitter = ['best', 'random']\n",
        "# define grid search\n",
        "grid = dict(criterion=criterion,max_features=max_features,splitter=splitter)\n",
        "cv = RepeatedStratifiedKFold(n_splits=10, n_repeats=3, random_state=1)\n",
        "grid_search = GridSearchCV(estimator=model, param_grid=grid, n_jobs=-1, cv=cv, scoring='accuracy',error_score=0)\n",
        "grid_result = grid_search.fit(X, y)\n",
        "# summarize results\n",
        "print(\"Best: %f using %s\" % (grid_result.best_score_, grid_result.best_params_))\n",
        "means = grid_result.cv_results_['mean_test_score']\n",
        "stds = grid_result.cv_results_['std_test_score']\n",
        "params = grid_result.cv_results_['params']\n",
        "for mean, stdev, param in zip(means, stds, params):\n",
        "    print(\"%f (%f) with: %r\" % (mean, stdev, param))"
      ]
    },
    {
      "cell_type": "code",
      "execution_count": null,
      "metadata": {
        "id": "BR72-6hfzjfq"
      },
      "outputs": [],
      "source": [
        "## e) Report the performance (chosen metric(s)) of your model(s) using 10-fold cross-validation or a training/validation/test split"
      ]
    },
    {
      "cell_type": "code",
      "execution_count": null,
      "metadata": {
        "id": "GmJ2Ky_R0EXj"
      },
      "outputs": [],
      "source": [
        "from sklearn.model_selection import cross_val_score\n",
        "clf = DecisionTreeClassifier(criterion='entropy',max_features='sqrt',splitter='best')\n",
        "scores = cross_val_score(clf, X, y, cv=10)"
      ]
    },
    {
      "cell_type": "markdown",
      "metadata": {
        "id": "i178Ck4x43QI"
      },
      "source": [
        ""
      ]
    },
    {
      "cell_type": "code",
      "execution_count": null,
      "metadata": {
        "colab": {
          "base_uri": "https://localhost:8080/"
        },
        "id": "laNjVJnA0qlN",
        "outputId": "0f3e9b1f-f39a-4639-e55f-3adf01f3bb14"
      },
      "outputs": [
        {
          "output_type": "execute_result",
          "data": {
            "text/plain": [
              "array([0.92546584, 0.90372671, 0.91588785, 0.92211838, 0.9376947 ,\n",
              "       0.95950156, 0.92834891, 0.90654206, 0.94080997, 0.94080997])"
            ]
          },
          "metadata": {},
          "execution_count": 19
        }
      ],
      "source": [
        "scores"
      ]
    },
    {
      "cell_type": "code",
      "execution_count": null,
      "metadata": {
        "id": "8rG9Ojlw5Vp2"
      },
      "outputs": [],
      "source": [
        "from sklearn.model_selection import train_test_split\n"
      ]
    },
    {
      "cell_type": "code",
      "execution_count": null,
      "metadata": {
        "id": "28i-ZvdI5JnO"
      },
      "outputs": [],
      "source": [
        "X=job[job.columns[:18]]"
      ]
    },
    {
      "cell_type": "code",
      "execution_count": null,
      "metadata": {
        "colab": {
          "base_uri": "https://localhost:8080/",
          "height": 37
        },
        "id": "4eSTnwYA5K8b",
        "outputId": "b4ff11f1-770f-48cc-8414-8c42e4234fdb"
      },
      "outputs": [
        {
          "output_type": "execute_result",
          "data": {
            "text/plain": [
              "0.2420718816067653"
            ],
            "image/png": "[encoded data removed]",
            "text/latex": "$\\displaystyle 0.242071881606765$"
          },
          "metadata": {},
          "execution_count": 54
        }
      ],
      "source": [
        "X_train, X_test, y_train, y_test, Out_x,out_y = train_test_split(X, y,job['y'], test_size=0.33, random_state=1)\n",
        "model = DecisionTreeClassifier(criterion='entropy',max_features='sqrt',splitter='best')\n",
        "# fit the model\n",
        "model.fit(X_train, y_train)\n",
        "# get importance\n",
        "pred_regre=model.predict(X_test)\n",
        "policy_risk(pred_regre,out_y,X_test['t'],y_test)"
      ]
    },
    {
      "cell_type": "code",
      "source": [
        "X_test"
      ],
      "metadata": {
        "colab": {
          "base_uri": "https://localhost:8080/",
          "height": 424
        },
        "id": "dnp0eGrtEV6x",
        "outputId": "44d5ddfd-ed78-409e-a0f5-185b305aa621"
      },
      "execution_count": null,
      "outputs": [
        {
          "output_type": "execute_result",
          "data": {
            "text/plain": [
              "            x1        x2   x3   x4   x5   x6        x7        x8        x9  \\\n",
              "1721 -0.143830  0.442558  0.0  0.0  1.0  0.0  0.124337  0.692182 -0.277188   \n",
              "2857 -1.178824  0.101835  1.0  0.0  0.0  0.0 -0.628415 -0.679216 -1.017557   \n",
              "171  -0.520192  0.101835  1.0  0.0  0.0  0.0 -0.992531 -1.084760 -0.583365   \n",
              "2370 -0.049740  0.101835  0.0  0.0  1.0  0.0 -1.147411 -1.110467 -0.194045   \n",
              "700   1.361615  1.805449  0.0  0.0  1.0  0.0  0.196595 -0.392280  1.369836   \n",
              "...        ...       ...  ...  ...  ...  ...       ...       ...       ...   \n",
              "1993 -0.708372  0.101835  1.0  0.0  0.0  0.0 -0.909157 -0.913210 -0.720617   \n",
              "124  -1.084734 -0.238888  1.0  0.0  1.0  1.0 -0.449437 -0.590173 -0.963448   \n",
              "2111  0.138440  0.783281  1.0  0.0  1.0  0.0 -1.147411 -1.110467 -0.019840   \n",
              "2713 -1.272914 -0.238888  1.0  0.0  0.0  1.0 -1.033965 -1.110467 -1.069026   \n",
              "338  -0.990643 -0.579611  0.0  0.0  0.0  1.0  0.866023 -0.349285 -0.906700   \n",
              "\n",
              "           x10       x11       x12       x13  x14  x15       x16  x17  \n",
              "1721 -0.375322  0.345809 -0.168387  0.236242  0.0  0.0  0.135970  0.0  \n",
              "2857 -0.877667 -0.022502 -0.493160 -0.475602  0.0  0.0 -0.559598  0.0  \n",
              "171  -0.608340 -0.022502 -0.552277 -0.518662  0.0  0.0 -0.854529  0.0  \n",
              "2370 -0.306693 -0.022502 -0.558057 -0.518815  1.0  1.0 -0.979981  0.0  \n",
              "700   1.331331  2.113702 -0.122848 -0.398967  0.0  0.0  0.562256  0.0  \n",
              "...        ...       ...       ...       ...  ...  ...       ...  ...  \n",
              "1993 -0.701889 -0.022502 -0.544380 -0.509774  0.0  0.0 -0.786997  0.0  \n",
              "124  -0.848598 -0.361348 -0.440683 -0.455914  0.0  0.0 -0.461739  0.0  \n",
              "2111 -0.156019  0.743585 -0.558057 -0.518815  1.0  1.0 -0.979981  0.0  \n",
              "2713 -0.903971 -0.361348 -0.554956 -0.518815  0.0  1.0 -0.895748  0.0  \n",
              "338  -0.816623 -0.670730  0.418662 -0.384187  0.0  0.0  0.379078  0.0  \n",
              "\n",
              "[1060 rows x 17 columns]"
            ],
            "text/html": [
              "\n",
              "  <div id=\"df-635ece5f-090f-4b08-85a8-8c332e398c09\">\n",
              "    <div class=\"colab-df-container\">\n",
              "      <div>\n",
              "<style scoped>\n",
              "    .dataframe tbody tr th:only-of-type {\n",
              "        vertical-align: middle;\n",
              "    }\n",
              "\n",
              "    .dataframe tbody tr th {\n",
              "        vertical-align: top;\n",
              "    }\n",
              "\n",
              "    .dataframe thead th {\n",
              "        text-align: right;\n",
              "    }\n",
              "</style>\n",
              "<table border=\"1\" class=\"dataframe\">\n",
              "  <thead>\n",
              "    <tr style=\"text-align: right;\">\n",
              "      <th></th>\n",
              "      <th>x1</th>\n",
              "      <th>x2</th>\n",
              "      <th>x3</th>\n",
              "      <th>x4</th>\n",
              "      <th>x5</th>\n",
              "      <th>x6</th>\n",
              "      <th>x7</th>\n",
              "      <th>x8</th>\n",
              "      <th>x9</th>\n",
              "      <th>x10</th>\n",
              "      <th>x11</th>\n",
              "      <th>x12</th>\n",
              "      <th>x13</th>\n",
              "      <th>x14</th>\n",
              "      <th>x15</th>\n",
              "      <th>x16</th>\n",
              "      <th>x17</th>\n",
              "    </tr>\n",
              "  </thead>\n",
              "  <tbody>\n",
              "    <tr>\n",
              "      <th>1721</th>\n",
              "      <td>-0.143830</td>\n",
              "      <td>0.442558</td>\n",
              "      <td>0.0</td>\n",
              "      <td>0.0</td>\n",
              "      <td>1.0</td>\n",
              "      <td>0.0</td>\n",
              "      <td>0.124337</td>\n",
              "      <td>0.692182</td>\n",
              "      <td>-0.277188</td>\n",
              "      <td>-0.375322</td>\n",
              "      <td>0.345809</td>\n",
              "      <td>-0.168387</td>\n",
              "      <td>0.236242</td>\n",
              "      <td>0.0</td>\n",
              "      <td>0.0</td>\n",
              "      <td>0.135970</td>\n",
              "      <td>0.0</td>\n",
              "    </tr>\n",
              "    <tr>\n",
              "      <th>2857</th>\n",
              "      <td>-1.178824</td>\n",
              "      <td>0.101835</td>\n",
              "      <td>1.0</td>\n",
              "      <td>0.0</td>\n",
              "      <td>0.0</td>\n",
              "      <td>0.0</td>\n",
              "      <td>-0.628415</td>\n",
              "      <td>-0.679216</td>\n",
              "      <td>-1.017557</td>\n",
              "      <td>-0.877667</td>\n",
              "      <td>-0.022502</td>\n",
              "      <td>-0.493160</td>\n",
              "      <td>-0.475602</td>\n",
              "      <td>0.0</td>\n",
              "      <td>0.0</td>\n",
              "      <td>-0.559598</td>\n",
              "      <td>0.0</td>\n",
              "    </tr>\n",
              "    <tr>\n",
              "      <th>171</th>\n",
              "      <td>-0.520192</td>\n",
              "      <td>0.101835</td>\n",
              "      <td>1.0</td>\n",
              "      <td>0.0</td>\n",
              "      <td>0.0</td>\n",
              "      <td>0.0</td>\n",
              "      <td>-0.992531</td>\n",
              "      <td>-1.084760</td>\n",
              "      <td>-0.583365</td>\n",
              "      <td>-0.608340</td>\n",
              "      <td>-0.022502</td>\n",
              "      <td>-0.552277</td>\n",
              "      <td>-0.518662</td>\n",
              "      <td>0.0</td>\n",
              "      <td>0.0</td>\n",
              "      <td>-0.854529</td>\n",
              "      <td>0.0</td>\n",
              "    </tr>\n",
              "    <tr>\n",
              "      <th>2370</th>\n",
              "      <td>-0.049740</td>\n",
              "      <td>0.101835</td>\n",
              "      <td>0.0</td>\n",
              "      <td>0.0</td>\n",
              "      <td>1.0</td>\n",
              "      <td>0.0</td>\n",
              "      <td>-1.147411</td>\n",
              "      <td>-1.110467</td>\n",
              "      <td>-0.194045</td>\n",
              "      <td>-0.306693</td>\n",
              "      <td>-0.022502</td>\n",
              "      <td>-0.558057</td>\n",
              "      <td>-0.518815</td>\n",
              "      <td>1.0</td>\n",
              "      <td>1.0</td>\n",
              "      <td>-0.979981</td>\n",
              "      <td>0.0</td>\n",
              "    </tr>\n",
              "    <tr>\n",
              "      <th>700</th>\n",
              "      <td>1.361615</td>\n",
              "      <td>1.805449</td>\n",
              "      <td>0.0</td>\n",
              "      <td>0.0</td>\n",
              "      <td>1.0</td>\n",
              "      <td>0.0</td>\n",
              "      <td>0.196595</td>\n",
              "      <td>-0.392280</td>\n",
              "      <td>1.369836</td>\n",
              "      <td>1.331331</td>\n",
              "      <td>2.113702</td>\n",
              "      <td>-0.122848</td>\n",
              "      <td>-0.398967</td>\n",
              "      <td>0.0</td>\n",
              "      <td>0.0</td>\n",
              "      <td>0.562256</td>\n",
              "      <td>0.0</td>\n",
              "    </tr>\n",
              "    <tr>\n",
              "      <th>...</th>\n",
              "      <td>...</td>\n",
              "      <td>...</td>\n",
              "      <td>...</td>\n",
              "      <td>...</td>\n",
              "      <td>...</td>\n",
              "      <td>...</td>\n",
              "      <td>...</td>\n",
              "      <td>...</td>\n",
              "      <td>...</td>\n",
              "      <td>...</td>\n",
              "      <td>...</td>\n",
              "      <td>...</td>\n",
              "      <td>...</td>\n",
              "      <td>...</td>\n",
              "      <td>...</td>\n",
              "      <td>...</td>\n",
              "      <td>...</td>\n",
              "    </tr>\n",
              "    <tr>\n",
              "      <th>1993</th>\n",
              "      <td>-0.708372</td>\n",
              "      <td>0.101835</td>\n",
              "      <td>1.0</td>\n",
              "      <td>0.0</td>\n",
              "      <td>0.0</td>\n",
              "      <td>0.0</td>\n",
              "      <td>-0.909157</td>\n",
              "      <td>-0.913210</td>\n",
              "      <td>-0.720617</td>\n",
              "      <td>-0.701889</td>\n",
              "      <td>-0.022502</td>\n",
              "      <td>-0.544380</td>\n",
              "      <td>-0.509774</td>\n",
              "      <td>0.0</td>\n",
              "      <td>0.0</td>\n",
              "      <td>-0.786997</td>\n",
              "      <td>0.0</td>\n",
              "    </tr>\n",
              "    <tr>\n",
              "      <th>124</th>\n",
              "      <td>-1.084734</td>\n",
              "      <td>-0.238888</td>\n",
              "      <td>1.0</td>\n",
              "      <td>0.0</td>\n",
              "      <td>1.0</td>\n",
              "      <td>1.0</td>\n",
              "      <td>-0.449437</td>\n",
              "      <td>-0.590173</td>\n",
              "      <td>-0.963448</td>\n",
              "      <td>-0.848598</td>\n",
              "      <td>-0.361348</td>\n",
              "      <td>-0.440683</td>\n",
              "      <td>-0.455914</td>\n",
              "      <td>0.0</td>\n",
              "      <td>0.0</td>\n",
              "      <td>-0.461739</td>\n",
              "      <td>0.0</td>\n",
              "    </tr>\n",
              "    <tr>\n",
              "      <th>2111</th>\n",
              "      <td>0.138440</td>\n",
              "      <td>0.783281</td>\n",
              "      <td>1.0</td>\n",
              "      <td>0.0</td>\n",
              "      <td>1.0</td>\n",
              "      <td>0.0</td>\n",
              "      <td>-1.147411</td>\n",
              "      <td>-1.110467</td>\n",
              "      <td>-0.019840</td>\n",
              "      <td>-0.156019</td>\n",
              "      <td>0.743585</td>\n",
              "      <td>-0.558057</td>\n",
              "      <td>-0.518815</td>\n",
              "      <td>1.0</td>\n",
              "      <td>1.0</td>\n",
              "      <td>-0.979981</td>\n",
              "      <td>0.0</td>\n",
              "    </tr>\n",
              "    <tr>\n",
              "      <th>2713</th>\n",
              "      <td>-1.272914</td>\n",
              "      <td>-0.238888</td>\n",
              "      <td>1.0</td>\n",
              "      <td>0.0</td>\n",
              "      <td>0.0</td>\n",
              "      <td>1.0</td>\n",
              "      <td>-1.033965</td>\n",
              "      <td>-1.110467</td>\n",
              "      <td>-1.069026</td>\n",
              "      <td>-0.903971</td>\n",
              "      <td>-0.361348</td>\n",
              "      <td>-0.554956</td>\n",
              "      <td>-0.518815</td>\n",
              "      <td>0.0</td>\n",
              "      <td>1.0</td>\n",
              "      <td>-0.895748</td>\n",
              "      <td>0.0</td>\n",
              "    </tr>\n",
              "    <tr>\n",
              "      <th>338</th>\n",
              "      <td>-0.990643</td>\n",
              "      <td>-0.579611</td>\n",
              "      <td>0.0</td>\n",
              "      <td>0.0</td>\n",
              "      <td>0.0</td>\n",
              "      <td>1.0</td>\n",
              "      <td>0.866023</td>\n",
              "      <td>-0.349285</td>\n",
              "      <td>-0.906700</td>\n",
              "      <td>-0.816623</td>\n",
              "      <td>-0.670730</td>\n",
              "      <td>0.418662</td>\n",
              "      <td>-0.384187</td>\n",
              "      <td>0.0</td>\n",
              "      <td>0.0</td>\n",
              "      <td>0.379078</td>\n",
              "      <td>0.0</td>\n",
              "    </tr>\n",
              "  </tbody>\n",
              "</table>\n",
              "<p>1060 rows × 17 columns</p>\n",
              "</div>\n",
              "      <button class=\"colab-df-convert\" onclick=\"convertToInteractive('df-635ece5f-090f-4b08-85a8-8c332e398c09')\"\n",
              "              title=\"Convert this dataframe to an interactive table.\"\n",
              "              style=\"display:none;\">\n",
              "        \n",
              "  <svg xmlns=\"http://www.w3.org/2000/svg\" height=\"24px\"viewBox=\"0 0 24 24\"\n",
              "       width=\"24px\">\n",
              "    <path d=\"M0 0h24v24H0V0z\" fill=\"none\"/>\n",
              "    <path d=\"M18.56 5.44l.94 2.06.94-2.06 2.06-.94-2.06-.94-.94-2.06-.94 2.06-2.06.94zm-11 1L8.5 8.5l.94-2.06 2.06-.94-2.06-.94L8.5 2.5l-.94 2.06-2.06.94zm10 10l.94 2.06.94-2.06 2.06-.94-2.06-.94-.94-2.06-.94 2.06-2.06.94z\"/><path d=\"M17.41 7.96l-1.37-1.37c-.4-.4-.92-.59-1.43-.59-.52 0-1.04.2-1.43.59L10.3 9.45l-7.72 7.72c-.78.78-.78 2.05 0 2.83L4 21.41c.39.39.9.59 1.41.59.51 0 1.02-.2 1.41-.59l7.78-7.78 2.81-2.81c.8-.78.8-2.07 0-2.86zM5.41 20L4 18.59l7.72-7.72 1.47 1.35L5.41 20z\"/>\n",
              "  </svg>\n",
              "      </button>\n",
              "      \n",
              "  <style>\n",
              "    .colab-df-container {\n",
              "      display:flex;\n",
              "      flex-wrap:wrap;\n",
              "      gap: 12px;\n",
              "    }\n",
              "\n",
              "    .colab-df-convert {\n",
              "      background-color: #E8F0FE;\n",
              "      border: none;\n",
              "      border-radius: 50%;\n",
              "      cursor: pointer;\n",
              "      display: none;\n",
              "      fill: #1967D2;\n",
              "      height: 32px;\n",
              "      padding: 0 0 0 0;\n",
              "      width: 32px;\n",
              "    }\n",
              "\n",
              "    .colab-df-convert:hover {\n",
              "      background-color: #E2EBFA;\n",
              "      box-shadow: 0px 1px 2px rgba(60, 64, 67, 0.3), 0px 1px 3px 1px rgba(60, 64, 67, 0.15);\n",
              "      fill: #174EA6;\n",
              "    }\n",
              "\n",
              "    [theme=dark] .colab-df-convert {\n",
              "      background-color: #3B4455;\n",
              "      fill: #D2E3FC;\n",
              "    }\n",
              "\n",
              "    [theme=dark] .colab-df-convert:hover {\n",
              "      background-color: #434B5C;\n",
              "      box-shadow: 0px 1px 3px 1px rgba(0, 0, 0, 0.15);\n",
              "      filter: drop-shadow(0px 1px 2px rgba(0, 0, 0, 0.3));\n",
              "      fill: #FFFFFF;\n",
              "    }\n",
              "  </style>\n",
              "\n",
              "      <script>\n",
              "        const buttonEl =\n",
              "          document.querySelector('#df-635ece5f-090f-4b08-85a8-8c332e398c09 button.colab-df-convert');\n",
              "        buttonEl.style.display =\n",
              "          google.colab.kernel.accessAllowed ? 'block' : 'none';\n",
              "\n",
              "        async function convertToInteractive(key) {\n",
              "          const element = document.querySelector('#df-635ece5f-090f-4b08-85a8-8c332e398c09');\n",
              "          const dataTable =\n",
              "            await google.colab.kernel.invokeFunction('convertToInteractive',\n",
              "                                                     [key], {});\n",
              "          if (!dataTable) return;\n",
              "\n",
              "          const docLinkHtml = 'Like what you see? Visit the ' +\n",
              "            '<a target=\"_blank\" href=https://colab.research.google.com/notebooks/data_table.ipynb>data table notebook</a>'\n",
              "            + ' to learn more about interactive tables.';\n",
              "          element.innerHTML = '';\n",
              "          dataTable['output_type'] = 'display_data';\n",
              "          await google.colab.output.renderOutput(dataTable, element);\n",
              "          const docLink = document.createElement('div');\n",
              "          docLink.innerHTML = docLinkHtml;\n",
              "          element.appendChild(docLink);\n",
              "        }\n",
              "      </script>\n",
              "    </div>\n",
              "  </div>\n",
              "  "
            ]
          },
          "metadata": {},
          "execution_count": 50
        }
      ]
    },
    {
      "cell_type": "code",
      "execution_count": null,
      "metadata": {
        "id": "uB4EgZEr6IFG"
      },
      "outputs": [],
      "source": [
        ""
      ]
    },
    {
      "cell_type": "code",
      "execution_count": null,
      "metadata": {
        "id": "xjlcoXKp029S"
      },
      "outputs": [],
      "source": [
        "# Plot Feature Importance and comments"
      ]
    },
    {
      "cell_type": "code",
      "execution_count": null,
      "metadata": {
        "colab": {
          "base_uri": "https://localhost:8080/",
          "height": 295
        },
        "id": "J1FaXJvo0rYN",
        "outputId": "6e6780e0-3f95-4831-db5e-0450697ca063"
      },
      "outputs": [
        {
          "output_type": "display_data",
          "data": {
            "text/plain": [
              "<Figure size 432x288 with 1 Axes>"
            ],
            "image/png": "[encoded data removed]"
          },
          "metadata": {
            "needs_background": "light"
          }
        }
      ],
      "source": [
        "pyplot.bar([x for x in range(len(importance))], importance)\n",
        "pyplot.title(\"Feature Importance for Jobs dataset using Decision Tree Regressor\")\n",
        "pyplot.ylabel(\"Feature Score\")\n",
        "pyplot.xlabel(\"Feature Number\")\n",
        "pyplot.show()"
      ]
    },
    {
      "cell_type": "markdown",
      "metadata": {
        "id": "YWLrMNmM1JgB"
      },
      "source": [
        "##  Propensity score re-weighting\n",
        "### (a) Train a classifier (of your choice) to predict propensity scores based on background features X. See section 5.1 for more details.\n"
      ]
    },
    {
      "cell_type": "code",
      "execution_count": null,
      "metadata": {
        "id": "zmDxpFF01L7f"
      },
      "outputs": [],
      "source": [
        "T=job['t']\n",
        "\n",
        "from sklearn.linear_model import LogisticRegression\n",
        "\n",
        "ps_model = LogisticRegression().fit(X, T)\n"
      ]
    },
    {
      "cell_type": "code",
      "execution_count": null,
      "metadata": {
        "id": "fYmWVU6y1orN"
      },
      "outputs": [],
      "source": [
        "job['propensity_score']=ps_model.predict_proba(X)[:,1]"
      ]
    },
    {
      "cell_type": "code",
      "execution_count": null,
      "metadata": {
        "colab": {
          "base_uri": "https://localhost:8080/"
        },
        "id": "k3RkjM2o1s5-",
        "outputId": "ebd26d62-055e-4583-95a2-80e753bc30d0"
      },
      "outputs": [
        {
          "output_type": "stream",
          "name": "stdout",
          "text": [
            "Original Sample Size 3212\n",
            "Treated Population Sample Size 305.80165205910646\n",
            "Untreated Population Sample Size 2923.484130712986\n"
          ]
        }
      ],
      "source": [
        "weight_t = 1/job.query(\"t==1\")[\"propensity_score\"]\n",
        "weight_nt = 1/(1-job.query(\"t==0\")[\"propensity_score\"])\n",
        "print(\"Original Sample Size\", job.shape[0])\n",
        "print(\"Treated Population Sample Size\", sum(weight_t))\n",
        "print(\"Untreated Population Sample Size\", sum(weight_nt))"
      ]
    },
    {
      "cell_type": "markdown",
      "metadata": {
        "id": "C_5KdmpS3Pue"
      },
      "source": [
        "b) Create a function that calculates sample weights (wi) based on their propensity scores (e(xi))\n",
        "you calculated in the previous step."
      ]
    },
    {
      "cell_type": "code",
      "execution_count": null,
      "metadata": {
        "colab": {
          "base_uri": "https://localhost:8080/"
        },
        "id": "s-AXsY3L1yrU",
        "outputId": "89176448-2194-4fbb-b6c4-eb315eb650fc"
      },
      "outputs": [
        {
          "output_type": "stream",
          "name": "stdout",
          "text": [
            "Y1: 0.07384255204597623\n",
            "Y0: 0.7803351937988985\n",
            "ATE -0.7064926417529207\n"
          ]
        }
      ],
      "source": [
        "weight = ((job[\"t\"]-job[\"propensity_score\"]) /\n",
        "          (job[\"propensity_score\"]*(1-job[\"propensity_score\"])))\n",
        "\n",
        "y1 = sum(job.query(\"t==1\")[\"y\"]*weight_t) / len(job)\n",
        "y0 = sum(job.query(\"t==0\")[\"y\"]*weight_nt) / len(job)\n",
        "\n",
        "ate = np.mean(weight * job[\"y\"])\n",
        "\n",
        "print(\"Y1:\", y1)\n",
        "print(\"Y0:\", y0)\n",
        "print(\"ATE\", np.mean(weight * job[\"y\"]))"
      ]
    },
    {
      "cell_type": "markdown",
      "metadata": {
        "id": "TldCI0EP2-bL"
      },
      "source": [
        "c) Use the weights returned by the function as the sample weights to train a weighted regressor (use the regressor(s) chosen in task 3).\n"
      ]
    },
    {
      "cell_type": "code",
      "execution_count": null,
      "metadata": {
        "colab": {
          "base_uri": "https://localhost:8080/",
          "height": 594
        },
        "id": "quzLb04p28uX",
        "outputId": "4ec90eae-7350-4134-c0eb-14bbe3504bb6"
      },
      "outputs": [
        {
          "output_type": "stream",
          "name": "stdout",
          "text": [
            "x1, Score: 0.02036\n",
            "x2, Score: 0.02832\n",
            "x3, Score: 0.02956\n",
            "x4, Score: 0.00964\n",
            "x5, Score: 0.42051\n",
            "x6, Score: 0.00672\n",
            "x7, Score: 0.02114\n",
            "x8, Score: 0.18623\n",
            "x9, Score: 0.01562\n",
            "x10, Score: 0.03419\n",
            "x11, Score: 0.01532\n",
            "x12, Score: 0.01977\n",
            "x13, Score: 0.02621\n",
            "x14, Score: 0.00000\n",
            "x15, Score: 0.00000\n",
            "x16, Score: 0.03921\n",
            "x17, Score: 0.00069\n",
            "x18, Score: 0.12649\n"
          ]
        },
        {
          "output_type": "display_data",
          "data": {
            "text/plain": [
              "<Figure size 432x288 with 1 Axes>"
            ],
            "image/png": "[encoded data removed]"
          },
          "metadata": {
            "needs_background": "light"
          }
        }
      ],
      "source": [
        "model = DecisionTreeRegressor()\n",
        "# fit the model\n",
        "model.fit(X, y,abs(weight))\n",
        "# get importance\n",
        "importance = model.feature_importances_\n",
        "# summarize feature importance\n",
        "for i,v in enumerate(importance):\n",
        "\tprint('x%0d, Score: %.5f' % (i+1,v))\n",
        "# plot feature importance\n",
        "pyplot.bar([x for x in range(len(importance))], importance)\n",
        "pyplot.title(\"Feature Importance for Jobs dataset using Decision Tree Regressor\")\n",
        "pyplot.ylabel(\"Feature Score\")\n",
        "pyplot.ylabel(\"Feature Number\")\n",
        "pyplot.show()"
      ]
    },
    {
      "cell_type": "code",
      "execution_count": null,
      "metadata": {
        "id": "m6OeKE9O2EAn"
      },
      "outputs": [],
      "source": [
        "## (d) Repeat steps 3d - 3f, but for weighted regression.\n"
      ]
    },
    {
      "cell_type": "code",
      "execution_count": null,
      "metadata": {
        "id": "8U7uDztF13Z4"
      },
      "outputs": [],
      "source": [
        "model = DecisionTreeRegressor()\n",
        "# fit the model\n",
        "model.fit(X, y,abs(weight))\n",
        "# get importance\n",
        "pred_regre=model.predict(X)"
      ]
    },
    {
      "cell_type": "code",
      "execution_count": null,
      "metadata": {
        "id": "alwQudYC339w"
      },
      "outputs": [],
      "source": [
        "pred_regre[pred_regre>0.5]=1\n",
        "pred_regre[pred_regre<=0.5]=0"
      ]
    },
    {
      "cell_type": "code",
      "execution_count": null,
      "metadata": {
        "colab": {
          "base_uri": "https://localhost:8080/"
        },
        "id": "wBIohUwK37iu",
        "outputId": "902fa196-639d-4647-fc7d-fb97059d20b7"
      },
      "outputs": [
        {
          "output_type": "execute_result",
          "data": {
            "text/plain": [
              "0.22666181668951746"
            ]
          },
          "metadata": {},
          "execution_count": 32
        }
      ],
      "source": [
        "policy_risk(pred_regre,job['y'],job['t'],job['e'])"
      ]
    },
    {
      "cell_type": "code",
      "execution_count": null,
      "metadata": {
        "colab": {
          "base_uri": "https://localhost:8080/"
        },
        "id": "3CkbTOZy3_ab",
        "outputId": "0b4a751e-4148-45f5-8af3-52587d44383b"
      },
      "outputs": [
        {
          "output_type": "stream",
          "name": "stdout",
          "text": [
            "Best: 0.933681 using {'criterion': 'entropy', 'max_features': 'log2', 'splitter': 'best'}\n",
            "0.932444 (0.015953) with: {'criterion': 'gini', 'max_features': 'auto', 'splitter': 'best'}\n",
            "0.933276 (0.015243) with: {'criterion': 'gini', 'max_features': 'auto', 'splitter': 'random'}\n",
            "0.926215 (0.014972) with: {'criterion': 'gini', 'max_features': 'sqrt', 'splitter': 'best'}\n",
            "0.931715 (0.015751) with: {'criterion': 'gini', 'max_features': 'sqrt', 'splitter': 'random'}\n",
            "0.928393 (0.016291) with: {'criterion': 'gini', 'max_features': 'log2', 'splitter': 'best'}\n",
            "0.930778 (0.015060) with: {'criterion': 'gini', 'max_features': 'log2', 'splitter': 'random'}\n",
            "0.932442 (0.014707) with: {'criterion': 'entropy', 'max_features': 'auto', 'splitter': 'best'}\n",
            "0.931298 (0.012711) with: {'criterion': 'entropy', 'max_features': 'auto', 'splitter': 'random'}\n",
            "0.928392 (0.013504) with: {'criterion': 'entropy', 'max_features': 'sqrt', 'splitter': 'best'}\n",
            "0.930674 (0.014929) with: {'criterion': 'entropy', 'max_features': 'sqrt', 'splitter': 'random'}\n",
            "0.933681 (0.016041) with: {'criterion': 'entropy', 'max_features': 'log2', 'splitter': 'best'}\n",
            "0.931296 (0.015411) with: {'criterion': 'entropy', 'max_features': 'log2', 'splitter': 'random'}\n"
          ]
        }
      ],
      "source": [
        "X=job[job.columns[:18]]\n",
        "y=job['e']\n",
        "from sklearn.model_selection import GridSearchCV\n",
        "model = DecisionTreeClassifier()\n",
        "criterion = [\"gini\", \"entropy\"]\n",
        "max_features = ['auto', 'sqrt', 'log2']\n",
        "splitter = ['best', 'random']\n",
        "# define grid search\n",
        "grid = dict(criterion=criterion,max_features=max_features,splitter=splitter)\n",
        "cv = RepeatedStratifiedKFold(n_splits=10, n_repeats=3, random_state=1)\n",
        "grid_search = GridSearchCV(estimator=model, param_grid=grid, n_jobs=-1, cv=cv, scoring='accuracy',error_score=0)\n",
        "grid_result = grid_search.fit(X, y,sample_weight=abs(weight))\n",
        "# summarize results\n",
        "print(\"Best: %f using %s\" % (grid_result.best_score_, grid_result.best_params_))\n",
        "means = grid_result.cv_results_['mean_test_score']\n",
        "stds = grid_result.cv_results_['std_test_score']\n",
        "params = grid_result.cv_results_['params']\n",
        "for mean, stdev, param in zip(means, stds, params):\n",
        "    print(\"%f (%f) with: %r\" % (mean, stdev, param))"
      ]
    },
    {
      "cell_type": "code",
      "execution_count": null,
      "metadata": {
        "id": "r9JAXuQE4To-"
      },
      "outputs": [],
      "source": [
        "clf = DecisionTreeClassifier(criterion='gini',max_features='sqrt',splitter='random')\n",
        "scores = cross_val_score(clf, X, y, cv=10)"
      ]
    },
    {
      "cell_type": "code",
      "execution_count": null,
      "metadata": {
        "colab": {
          "base_uri": "https://localhost:8080/"
        },
        "id": "BcdobNhH4rdX",
        "outputId": "df25aae1-90b5-4043-9952-f1c837aad915"
      },
      "outputs": [
        {
          "output_type": "execute_result",
          "data": {
            "text/plain": [
              "array([0.91304348, 0.90993789, 0.94392523, 0.93457944, 0.94392523,\n",
              "       0.95015576, 0.91900312, 0.93146417, 0.94080997, 0.9470405 ])"
            ]
          },
          "metadata": {},
          "execution_count": 35
        }
      ],
      "source": [
        "scores"
      ]
    },
    {
      "cell_type": "code",
      "execution_count": null,
      "metadata": {
        "colab": {
          "base_uri": "https://localhost:8080/"
        },
        "id": "IyDUKaP16vPZ",
        "outputId": "25a6befb-bf31-4502-844d-2bf4a87079db"
      },
      "outputs": [
        {
          "output_type": "execute_result",
          "data": {
            "text/plain": [
              "0.25"
            ]
          },
          "metadata": {},
          "execution_count": 36
        }
      ],
      "source": [
        "X_train, X_test, y_train, y_test, Out_x,out_y,wt_1,wt_2 = train_test_split(X, y,job['y'],weight, test_size=0.33, random_state=1)\n",
        "model = DecisionTreeRegressor()\n",
        "# fit the model\n",
        "model.fit(X_train, y_train,wt_1)\n",
        "# get importance\n",
        "pred_regre=model.predict(X_test)\n",
        "policy_risk(pred_regre,out_y,X_test['t'],y_test)"
      ]
    },
    {
      "cell_type": "code",
      "execution_count": null,
      "metadata": {
        "colab": {
          "base_uri": "https://localhost:8080/",
          "height": 295
        },
        "id": "FiYW7kO545ml",
        "outputId": "769877f4-87bf-41dc-de26-5c2e5efabaec"
      },
      "outputs": [
        {
          "output_type": "display_data",
          "data": {
            "text/plain": [
              "<Figure size 432x288 with 1 Axes>"
            ],
            "image/png": "[encoded data removed]"
          },
          "metadata": {
            "needs_background": "light"
          }
        }
      ],
      "source": [
        "pyplot.bar([x for x in range(len(importance))], importance)\n",
        "pyplot.title(\"Feature Importance for Jobs dataset using Decision Tree Regressor\")\n",
        "pyplot.ylabel(\"Feature Score\")\n",
        "pyplot.xlabel(\"Feature Number\")\n",
        "pyplot.show()"
      ]
    },
    {
      "cell_type": "code",
      "execution_count": null,
      "metadata": {
        "id": "kzQDboxf5En0"
      },
      "outputs": [],
      "source": [
        ""
      ]
    },
    {
      "cell_type": "markdown",
      "metadata": {
        "id": "WP6CHa667SSP"
      },
      "source": [
        "5. Advanced CATE estimators\n",
        "(a) Choose at least one CATE estimator from EconML package (https://econml.azurewebsites.\n",
        "net/reference.html#cate-estimators). Comment on your choice(s).\n",
        "(b) Train the estimator(s) on the data.\n",
        "2\n",
        "(c) Predict effects and calculate relevant evaluation metrics.\n",
        "(d) Report the metrics and comment on your results. How do they compare to previous results?"
      ]
    },
    {
      "cell_type": "code",
      "execution_count": null,
      "metadata": {
        "colab": {
          "base_uri": "https://localhost:8080/"
        },
        "id": "dRFPbS6q7Sjs",
        "outputId": "9458366b-b30b-4ba1-dee4-eceb7a4e49f0"
      },
      "outputs": [
        {
          "output_type": "stream",
          "name": "stdout",
          "text": [
            "Requirement already satisfied: econml in /usr/local/lib/python3.7/dist-packages (0.13.0)\n",
            "Requirement already satisfied: sparse in /usr/local/lib/python3.7/dist-packages (from econml) (0.13.0)\n",
            "Requirement already satisfied: joblib>=0.13.0 in /usr/local/lib/python3.7/dist-packages (from econml) (1.1.0)\n",
            "Requirement already satisfied: pandas in /usr/local/lib/python3.7/dist-packages (from econml) (1.3.5)\n",
            "Requirement already satisfied: dowhy<0.7 in /usr/local/lib/python3.7/dist-packages (from econml) (0.6)\n",
            "Requirement already satisfied: lightgbm in /usr/local/lib/python3.7/dist-packages (from econml) (2.2.3)\n",
            "Requirement already satisfied: scikit-learn>0.22.0 in /usr/local/lib/python3.7/dist-packages (from econml) (1.0.2)\n",
            "Requirement already satisfied: numpy in /usr/local/lib/python3.7/dist-packages (from econml) (1.21.6)\n",
            "Requirement already satisfied: shap<0.40.0,>=0.38.1 in /usr/local/lib/python3.7/dist-packages (from econml) (0.39.0)\n",
            "Requirement already satisfied: scipy>1.4.0 in /usr/local/lib/python3.7/dist-packages (from econml) (1.4.1)\n",
            "Requirement already satisfied: statsmodels>=0.10 in /usr/local/lib/python3.7/dist-packages (from econml) (0.10.2)\n",
            "Requirement already satisfied: networkx>=2.0 in /usr/local/lib/python3.7/dist-packages (from dowhy<0.7->econml) (2.6.3)\n",
            "Requirement already satisfied: pydot>=1.4 in /usr/local/lib/python3.7/dist-packages (from dowhy<0.7->econml) (1.4.2)\n",
            "Requirement already satisfied: sympy>=1.4 in /usr/local/lib/python3.7/dist-packages (from dowhy<0.7->econml) (1.7.1)\n",
            "Requirement already satisfied: pytz>=2017.3 in /usr/local/lib/python3.7/dist-packages (from pandas->econml) (2022.1)\n",
            "Requirement already satisfied: python-dateutil>=2.7.3 in /usr/local/lib/python3.7/dist-packages (from pandas->econml) (2.8.2)\n",
            "Requirement already satisfied: pyparsing>=2.1.4 in /usr/local/lib/python3.7/dist-packages (from pydot>=1.4->dowhy<0.7->econml) (3.0.8)\n",
            "Requirement already satisfied: six>=1.5 in /usr/local/lib/python3.7/dist-packages (from python-dateutil>=2.7.3->pandas->econml) (1.15.0)\n",
            "Requirement already satisfied: threadpoolctl>=2.0.0 in /usr/local/lib/python3.7/dist-packages (from scikit-learn>0.22.0->econml) (3.1.0)\n",
            "Requirement already satisfied: tqdm>4.25.0 in /usr/local/lib/python3.7/dist-packages (from shap<0.40.0,>=0.38.1->econml) (4.64.0)\n",
            "Requirement already satisfied: slicer==0.0.7 in /usr/local/lib/python3.7/dist-packages (from shap<0.40.0,>=0.38.1->econml) (0.0.7)\n",
            "Requirement already satisfied: cloudpickle in /usr/local/lib/python3.7/dist-packages (from shap<0.40.0,>=0.38.1->econml) (1.3.0)\n",
            "Requirement already satisfied: numba in /usr/local/lib/python3.7/dist-packages (from shap<0.40.0,>=0.38.1->econml) (0.51.2)\n",
            "Requirement already satisfied: patsy>=0.4.0 in /usr/local/lib/python3.7/dist-packages (from statsmodels>=0.10->econml) (0.5.2)\n",
            "Requirement already satisfied: mpmath>=0.19 in /usr/local/lib/python3.7/dist-packages (from sympy>=1.4->dowhy<0.7->econml) (1.2.1)\n",
            "Requirement already satisfied: llvmlite<0.35,>=0.34.0.dev0 in /usr/local/lib/python3.7/dist-packages (from numba->shap<0.40.0,>=0.38.1->econml) (0.34.0)\n",
            "Requirement already satisfied: setuptools in /usr/local/lib/python3.7/dist-packages (from numba->shap<0.40.0,>=0.38.1->econml) (57.4.0)\n"
          ]
        }
      ],
      "source": [
        "!pip install econml"
      ]
    },
    {
      "cell_type": "code",
      "execution_count": null,
      "metadata": {
        "colab": {
          "base_uri": "https://localhost:8080/"
        },
        "id": "S2og5lJa7cHP",
        "outputId": "635b98cd-f952-4b81-ba7b-021a08232f84"
      },
      "outputs": [
        {
          "output_type": "stream",
          "name": "stderr",
          "text": [
            "/usr/local/lib/python3.7/dist-packages/statsmodels/tools/_testing.py:19: FutureWarning:\n",
            "\n",
            "pandas.util.testing is deprecated. Use the functions in the public API at pandas.testing instead.\n",
            "\n"
          ]
        }
      ],
      "source": [
        "# Main imports\n",
        "from econml.metalearners import TLearner, SLearner\n",
        "# Helper imports \n"
      ]
    },
    {
      "cell_type": "code",
      "execution_count": null,
      "metadata": {
        "id": "3S4vO-Av7x-U"
      },
      "outputs": [],
      "source": [
        "import numpy as np\n",
        "from numpy.random import binomial, multivariate_normal, normal, uniform\n",
        "from sklearn.linear_model import LinearRegression\n",
        "from sklearn.ensemble import RandomForestRegressor, RandomForestClassifier, GradientBoostingRegressor\n",
        "import matplotlib.pyplot as plt\n",
        "\n",
        "%matplotlib inline"
      ]
    },
    {
      "cell_type": "code",
      "execution_count": null,
      "metadata": {
        "id": "E8MPGQEE7YSa"
      },
      "outputs": [],
      "source": [
        "X=job[job.columns[:17]]\n",
        "Y=job['y']\n",
        "T=job['t']"
      ]
    },
    {
      "cell_type": "code",
      "execution_count": null,
      "metadata": {
        "colab": {
          "base_uri": "https://localhost:8080/"
        },
        "id": "2Jn1_oVh7h-4",
        "outputId": "358e9a7d-d56b-4984-ceaf-45cce2288012"
      },
      "outputs": [
        {
          "output_type": "stream",
          "name": "stderr",
          "text": [
            "Function get_feature_names is deprecated; get_feature_names is deprecated in 1.0 and will be removed in 1.2. Please use get_feature_names_out instead.\n"
          ]
        }
      ],
      "source": [
        "model = RandomForestClassifier(n_estimators=100, max_depth=6)\n",
        "T_learner = TLearner(models=model)\n",
        "# T-learner\n",
        "T_learner.fit(Y, T, X=X)\n",
        "T_te = T_learner.effect(X)"
      ]
    },
    {
      "cell_type": "code",
      "execution_count": null,
      "metadata": {
        "colab": {
          "base_uri": "https://localhost:8080/",
          "height": 37
        },
        "id": "k6RcYBdc7mkN",
        "outputId": "2f03a001-95ea-4a51-f0a8-d5ead08c5403"
      },
      "outputs": [
        {
          "output_type": "execute_result",
          "data": {
            "text/plain": [
              "0.25108580944524117"
            ],
            "image/png": "[encoded data removed]",
            "text/latex": "$\\displaystyle 0.251085809445241$"
          },
          "metadata": {},
          "execution_count": 43
        }
      ],
      "source": [
        "policy_risk(T_te,Y,T,job['e'])"
      ]
    },
    {
      "cell_type": "code",
      "execution_count": null,
      "metadata": {
        "colab": {
          "base_uri": "https://localhost:8080/",
          "height": 55
        },
        "id": "_aTkVcAq7zth",
        "outputId": "d8776db3-4caa-4b95-b3ce-ceacc7e95be8"
      },
      "outputs": [
        {
          "output_type": "stream",
          "name": "stderr",
          "text": [
            "Function get_feature_names is deprecated; get_feature_names is deprecated in 1.0 and will be removed in 1.2. Please use get_feature_names_out instead.\n"
          ]
        },
        {
          "output_type": "execute_result",
          "data": {
            "text/plain": [
              "0.27316610529030017"
            ],
            "image/png": "[encoded data removed]",
            "text/latex": "$\\displaystyle 0.2731661052903$"
          },
          "metadata": {},
          "execution_count": 44
        }
      ],
      "source": [
        "model = LogisticRegression(C=0.1, solver='newton-cg')\n",
        "T_learner = TLearner(models=model)\n",
        "# T-learner\n",
        "T_learner.fit(Y, T, X=X)\n",
        "T_te = T_learner.effect(X)\n",
        "policy_risk(T_te,Y,T,job['e'])"
      ]
    },
    {
      "cell_type": "code",
      "execution_count": null,
      "metadata": {
        "colab": {
          "base_uri": "https://localhost:8080/"
        },
        "id": "A2aznUGF77aR",
        "outputId": "d2d0d084-5ebe-400c-edb8-fb48222b6e31"
      },
      "outputs": [
        {
          "output_type": "stream",
          "name": "stderr",
          "text": [
            "Function get_feature_names is deprecated; get_feature_names is deprecated in 1.0 and will be removed in 1.2. Please use get_feature_names_out instead.\n"
          ]
        }
      ],
      "source": [
        "model = RandomForestClassifier(n_estimators=100, max_depth=6)\n",
        "S_learner = SLearner(overall_model=model)\n",
        "# S-learner\n",
        "S_learner.fit(Y, T, X=X)\n",
        "S_te = S_learner.effect(X)"
      ]
    },
    {
      "cell_type": "code",
      "execution_count": null,
      "metadata": {
        "colab": {
          "base_uri": "https://localhost:8080/",
          "height": 37
        },
        "id": "gO8R0BI38IOo",
        "outputId": "434ceaf7-6f52-4b9a-f663-c7128b8ea913"
      },
      "outputs": [
        {
          "output_type": "execute_result",
          "data": {
            "text/plain": [
              "0.27316610529030017"
            ],
            "image/png": "[encoded data removed]",
            "text/latex": "$\\displaystyle 0.2731661052903$"
          },
          "metadata": {},
          "execution_count": 46
        }
      ],
      "source": [
        "policy_risk(T_te,Y,T,job['e'])"
      ]
    },
    {
      "cell_type": "code",
      "execution_count": null,
      "metadata": {
        "colab": {
          "base_uri": "https://localhost:8080/",
          "height": 55
        },
        "id": "7MRljoB18U1p",
        "outputId": "28d00cae-3a81-4fff-cb4a-32f8f559565b"
      },
      "outputs": [
        {
          "output_type": "stream",
          "name": "stderr",
          "text": [
            "Function get_feature_names is deprecated; get_feature_names is deprecated in 1.0 and will be removed in 1.2. Please use get_feature_names_out instead.\n"
          ]
        },
        {
          "output_type": "execute_result",
          "data": {
            "text/plain": [
              "0.2830420293319459"
            ],
            "image/png": "[encoded data removed]",
            "text/latex": "$\\displaystyle 0.283042029331946$"
          },
          "metadata": {},
          "execution_count": 47
        }
      ],
      "source": [
        "model = LogisticRegression(C=0.1, solver='newton-cg')\n",
        "S_learner = SLearner(overall_model=model)\n",
        "# T-learner\n",
        "S_learner.fit(Y, T, X=X)\n",
        "S_te = S_learner.effect(X)\n",
        "policy_risk(S_te,Y,T,job['e'])"
      ]
    },
    {
      "cell_type": "code",
      "execution_count": null,
      "metadata": {
        "id": "_VmMm2Z18cbY"
      },
      "outputs": [],
      "source": [
        ""
      ]
    }
  ],
  "metadata": {
    "colab": {
      "collapsed_sections": [],
      "name": "Job_Data_Set_Work.ipynb",
      "provenance": []
    },
    "kernelspec": {
      "display_name": "Python 3",
      "language": "python",
      "name": "python3"
    },
    "language_info": {
      "codemirror_mode": {
        "name": "ipython",
        "version": 3
      },
      "file_extension": ".py",
      "mimetype": "text/x-python",
      "name": "python",
      "nbconvert_exporter": "python",
      "pygments_lexer": "ipython3",
      "version": "3.9.7"
    }
  },
  "nbformat": 4,
  "nbformat_minor": 0
}