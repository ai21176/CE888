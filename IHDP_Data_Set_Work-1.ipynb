{
  "cells": [
    {
      "cell_type": "markdown",
      "metadata": {
        "id": "GQh6QCOCtDOF"
      },
      "source": [
        "# IHDP Dataset"
      ]
    },
    {
      "cell_type": "markdown",
      "metadata": {
        "id": "MF0S-YEEtKKP"
      },
      "source": [
        "## 1. Load, clean, and explore the datasets provided"
      ]
    },
    {
      "cell_type": "code",
      "execution_count": null,
      "metadata": {
        "colab": {
          "base_uri": "https://localhost:8080/"
        },
        "id": "KVjoPRdPtEgp",
        "outputId": "e17a211a-c253-4bad-fd9e-27edafb34b8d"
      },
      "outputs": [
        {
          "output_type": "execute_result",
          "data": {
            "text/plain": [
              "x1     0\n",
              "x2     0\n",
              "x3     0\n",
              "x4     0\n",
              "x5     0\n",
              "x6     0\n",
              "x7     0\n",
              "x8     0\n",
              "x9     0\n",
              "x10    0\n",
              "x11    0\n",
              "x12    0\n",
              "x13    0\n",
              "x14    0\n",
              "x15    0\n",
              "x16    0\n",
              "x17    0\n",
              "x18    0\n",
              "x19    0\n",
              "x20    0\n",
              "x21    0\n",
              "x22    0\n",
              "x23    0\n",
              "x24    0\n",
              "x25    0\n",
              "t      0\n",
              "yf     0\n",
              "ycf    0\n",
              "ite    0\n",
              "dtype: int64"
            ]
          },
          "metadata": {},
          "execution_count": 51
        }
      ],
      "source": [
        "import pandas as pd\n",
        "IHDP=pd.read_csv(\"https://raw.githubusercontent.com/dmachlanski/CE888_2022/main/project/data/ihdp.csv\",on_bad_lines='skip')\n",
        "IHDP.head(7)\n",
        "IHDP.isnull().sum()"
      ]
    },
    {
      "cell_type": "code",
      "execution_count": null,
      "metadata": {
        "colab": {
          "base_uri": "https://localhost:8080/",
          "height": 959
        },
        "id": "CYi3mNfWtEkc",
        "outputId": "ef318c2c-1d6d-49c6-9cb1-644a7ba35101"
      },
      "outputs": [
        {
          "output_type": "execute_result",
          "data": {
            "text/plain": [
              "     count          mean       std       min       25%       50%       75%  \\\n",
              "x1   747.0  3.626431e-17  1.000000 -2.731287 -0.666946  0.165275  0.813759   \n",
              "x2   747.0  2.348263e-17  1.000000 -3.800823 -0.602710  0.196818  0.596582   \n",
              "x3   747.0 -4.666801e-17  1.000000 -1.850350 -0.733261 -0.360898  0.756191   \n",
              "x4   747.0 -9.012574e-16  1.000000 -0.879606 -0.879606  0.161703  0.161703   \n",
              "x5   747.0  4.518177e-17  1.000000 -5.130428 -0.566672  0.121017  0.683672   \n",
              "x6   747.0 -7.251376e-16  1.000000 -1.851480 -0.857787 -0.029709  0.632754   \n",
              "x7   747.0  5.140562e-01  0.500137  0.000000  0.000000  1.000000  1.000000   \n",
              "x8   747.0  9.370817e-02  0.291618  0.000000  0.000000  0.000000  0.000000   \n",
              "x9   747.0  5.207497e-01  0.499904  0.000000  0.000000  1.000000  1.000000   \n",
              "x10  747.0  3.641232e-01  0.481506  0.000000  0.000000  0.000000  1.000000   \n",
              "x11  747.0  2.690763e-01  0.443777  0.000000  0.000000  0.000000  1.000000   \n",
              "x12  747.0  2.195448e-01  0.414216  0.000000  0.000000  0.000000  0.000000   \n",
              "x13  747.0  3.587684e-01  0.479960  0.000000  0.000000  0.000000  1.000000   \n",
              "x14  747.0  4.631861e-01  0.498977  0.000000  0.000000  0.000000  1.000000   \n",
              "x15  747.0  1.405622e-01  0.347802  0.000000  0.000000  0.000000  0.000000   \n",
              "x16  747.0  9.598394e-01  0.196467  0.000000  1.000000  1.000000  1.000000   \n",
              "x17  747.0  5.943775e-01  0.491341  0.000000  0.000000  1.000000  1.000000   \n",
              "x18  747.0  9.638554e-01  0.186775  0.000000  1.000000  1.000000  1.000000   \n",
              "x19  747.0  1.352075e-01  0.342174  0.000000  0.000000  0.000000  0.000000   \n",
              "x20  747.0  1.352075e-01  0.342174  0.000000  0.000000  0.000000  0.000000   \n",
              "x21  747.0  1.566265e-01  0.363692  0.000000  0.000000  0.000000  0.000000   \n",
              "x22  747.0  8.165997e-02  0.274029  0.000000  0.000000  0.000000  0.000000   \n",
              "x23  747.0  7.362784e-02  0.261339  0.000000  0.000000  0.000000  0.000000   \n",
              "x24  747.0  1.285141e-01  0.334886  0.000000  0.000000  0.000000  0.000000   \n",
              "x25  747.0  1.579652e-01  0.364953  0.000000  0.000000  0.000000  0.000000   \n",
              "t    747.0  1.860776e-01  0.389430  0.000000  0.000000  0.000000  0.000000   \n",
              "yf   747.0  3.159538e+00  2.179956 -1.543902  1.626779  2.577294  4.494637   \n",
              "ycf  747.0  5.696107e+00  1.980121 -1.037628  5.053598  6.209686  6.948922   \n",
              "ite  747.0  4.016067e+00  0.859736 -1.866989  3.775936  4.304433  4.569454   \n",
              "\n",
              "           max  \n",
              "x1    1.505476  \n",
              "x2    2.595403  \n",
              "x3    2.990369  \n",
              "x4    2.244320  \n",
              "x5    2.371637  \n",
              "x6    2.951372  \n",
              "x7    1.000000  \n",
              "x8    1.000000  \n",
              "x9    1.000000  \n",
              "x10   1.000000  \n",
              "x11   1.000000  \n",
              "x12   1.000000  \n",
              "x13   1.000000  \n",
              "x14   1.000000  \n",
              "x15   1.000000  \n",
              "x16   1.000000  \n",
              "x17   1.000000  \n",
              "x18   1.000000  \n",
              "x19   1.000000  \n",
              "x20   1.000000  \n",
              "x21   1.000000  \n",
              "x22   1.000000  \n",
              "x23   1.000000  \n",
              "x24   1.000000  \n",
              "x25   1.000000  \n",
              "t     1.000000  \n",
              "yf   11.268228  \n",
              "ycf  10.171004  \n",
              "ite   4.670125  "
            ],
            "text/html": [
              "\n",
              "  <div id=\"df-229cba74-af8c-4e5f-bd6d-6694c9e007c1\">\n",
              "    <div class=\"colab-df-container\">\n",
              "      <div>\n",
              "<style scoped>\n",
              "    .dataframe tbody tr th:only-of-type {\n",
              "        vertical-align: middle;\n",
              "    }\n",
              "\n",
              "    .dataframe tbody tr th {\n",
              "        vertical-align: top;\n",
              "    }\n",
              "\n",
              "    .dataframe thead th {\n",
              "        text-align: right;\n",
              "    }\n",
              "</style>\n",
              "<table border=\"1\" class=\"dataframe\">\n",
              "  <thead>\n",
              "    <tr style=\"text-align: right;\">\n",
              "      <th></th>\n",
              "      <th>count</th>\n",
              "      <th>mean</th>\n",
              "      <th>std</th>\n",
              "      <th>min</th>\n",
              "      <th>25%</th>\n",
              "      <th>50%</th>\n",
              "      <th>75%</th>\n",
              "      <th>max</th>\n",
              "    </tr>\n",
              "  </thead>\n",
              "  <tbody>\n",
              "    <tr>\n",
              "      <th>x1</th>\n",
              "      <td>747.0</td>\n",
              "      <td>3.626431e-17</td>\n",
              "      <td>1.000000</td>\n",
              "      <td>-2.731287</td>\n",
              "      <td>-0.666946</td>\n",
              "      <td>0.165275</td>\n",
              "      <td>0.813759</td>\n",
              "      <td>1.505476</td>\n",
              "    </tr>\n",
              "    <tr>\n",
              "      <th>x2</th>\n",
              "      <td>747.0</td>\n",
              "      <td>2.348263e-17</td>\n",
              "      <td>1.000000</td>\n",
              "      <td>-3.800823</td>\n",
              "      <td>-0.602710</td>\n",
              "      <td>0.196818</td>\n",
              "      <td>0.596582</td>\n",
              "      <td>2.595403</td>\n",
              "    </tr>\n",
              "    <tr>\n",
              "      <th>x3</th>\n",
              "      <td>747.0</td>\n",
              "      <td>-4.666801e-17</td>\n",
              "      <td>1.000000</td>\n",
              "      <td>-1.850350</td>\n",
              "      <td>-0.733261</td>\n",
              "      <td>-0.360898</td>\n",
              "      <td>0.756191</td>\n",
              "      <td>2.990369</td>\n",
              "    </tr>\n",
              "    <tr>\n",
              "      <th>x4</th>\n",
              "      <td>747.0</td>\n",
              "      <td>-9.012574e-16</td>\n",
              "      <td>1.000000</td>\n",
              "      <td>-0.879606</td>\n",
              "      <td>-0.879606</td>\n",
              "      <td>0.161703</td>\n",
              "      <td>0.161703</td>\n",
              "      <td>2.244320</td>\n",
              "    </tr>\n",
              "    <tr>\n",
              "      <th>x5</th>\n",
              "      <td>747.0</td>\n",
              "      <td>4.518177e-17</td>\n",
              "      <td>1.000000</td>\n",
              "      <td>-5.130428</td>\n",
              "      <td>-0.566672</td>\n",
              "      <td>0.121017</td>\n",
              "      <td>0.683672</td>\n",
              "      <td>2.371637</td>\n",
              "    </tr>\n",
              "    <tr>\n",
              "      <th>x6</th>\n",
              "      <td>747.0</td>\n",
              "      <td>-7.251376e-16</td>\n",
              "      <td>1.000000</td>\n",
              "      <td>-1.851480</td>\n",
              "      <td>-0.857787</td>\n",
              "      <td>-0.029709</td>\n",
              "      <td>0.632754</td>\n",
              "      <td>2.951372</td>\n",
              "    </tr>\n",
              "    <tr>\n",
              "      <th>x7</th>\n",
              "      <td>747.0</td>\n",
              "      <td>5.140562e-01</td>\n",
              "      <td>0.500137</td>\n",
              "      <td>0.000000</td>\n",
              "      <td>0.000000</td>\n",
              "      <td>1.000000</td>\n",
              "      <td>1.000000</td>\n",
              "      <td>1.000000</td>\n",
              "    </tr>\n",
              "    <tr>\n",
              "      <th>x8</th>\n",
              "      <td>747.0</td>\n",
              "      <td>9.370817e-02</td>\n",
              "      <td>0.291618</td>\n",
              "      <td>0.000000</td>\n",
              "      <td>0.000000</td>\n",
              "      <td>0.000000</td>\n",
              "      <td>0.000000</td>\n",
              "      <td>1.000000</td>\n",
              "    </tr>\n",
              "    <tr>\n",
              "      <th>x9</th>\n",
              "      <td>747.0</td>\n",
              "      <td>5.207497e-01</td>\n",
              "      <td>0.499904</td>\n",
              "      <td>0.000000</td>\n",
              "      <td>0.000000</td>\n",
              "      <td>1.000000</td>\n",
              "      <td>1.000000</td>\n",
              "      <td>1.000000</td>\n",
              "    </tr>\n",
              "    <tr>\n",
              "      <th>x10</th>\n",
              "      <td>747.0</td>\n",
              "      <td>3.641232e-01</td>\n",
              "      <td>0.481506</td>\n",
              "      <td>0.000000</td>\n",
              "      <td>0.000000</td>\n",
              "      <td>0.000000</td>\n",
              "      <td>1.000000</td>\n",
              "      <td>1.000000</td>\n",
              "    </tr>\n",
              "    <tr>\n",
              "      <th>x11</th>\n",
              "      <td>747.0</td>\n",
              "      <td>2.690763e-01</td>\n",
              "      <td>0.443777</td>\n",
              "      <td>0.000000</td>\n",
              "      <td>0.000000</td>\n",
              "      <td>0.000000</td>\n",
              "      <td>1.000000</td>\n",
              "      <td>1.000000</td>\n",
              "    </tr>\n",
              "    <tr>\n",
              "      <th>x12</th>\n",
              "      <td>747.0</td>\n",
              "      <td>2.195448e-01</td>\n",
              "      <td>0.414216</td>\n",
              "      <td>0.000000</td>\n",
              "      <td>0.000000</td>\n",
              "      <td>0.000000</td>\n",
              "      <td>0.000000</td>\n",
              "      <td>1.000000</td>\n",
              "    </tr>\n",
              "    <tr>\n",
              "      <th>x13</th>\n",
              "      <td>747.0</td>\n",
              "      <td>3.587684e-01</td>\n",
              "      <td>0.479960</td>\n",
              "      <td>0.000000</td>\n",
              "      <td>0.000000</td>\n",
              "      <td>0.000000</td>\n",
              "      <td>1.000000</td>\n",
              "      <td>1.000000</td>\n",
              "    </tr>\n",
              "    <tr>\n",
              "      <th>x14</th>\n",
              "      <td>747.0</td>\n",
              "      <td>4.631861e-01</td>\n",
              "      <td>0.498977</td>\n",
              "      <td>0.000000</td>\n",
              "      <td>0.000000</td>\n",
              "      <td>0.000000</td>\n",
              "      <td>1.000000</td>\n",
              "      <td>1.000000</td>\n",
              "    </tr>\n",
              "    <tr>\n",
              "      <th>x15</th>\n",
              "      <td>747.0</td>\n",
              "      <td>1.405622e-01</td>\n",
              "      <td>0.347802</td>\n",
              "      <td>0.000000</td>\n",
              "      <td>0.000000</td>\n",
              "      <td>0.000000</td>\n",
              "      <td>0.000000</td>\n",
              "      <td>1.000000</td>\n",
              "    </tr>\n",
              "    <tr>\n",
              "      <th>x16</th>\n",
              "      <td>747.0</td>\n",
              "      <td>9.598394e-01</td>\n",
              "      <td>0.196467</td>\n",
              "      <td>0.000000</td>\n",
              "      <td>1.000000</td>\n",
              "      <td>1.000000</td>\n",
              "      <td>1.000000</td>\n",
              "      <td>1.000000</td>\n",
              "    </tr>\n",
              "    <tr>\n",
              "      <th>x17</th>\n",
              "      <td>747.0</td>\n",
              "      <td>5.943775e-01</td>\n",
              "      <td>0.491341</td>\n",
              "      <td>0.000000</td>\n",
              "      <td>0.000000</td>\n",
              "      <td>1.000000</td>\n",
              "      <td>1.000000</td>\n",
              "      <td>1.000000</td>\n",
              "    </tr>\n",
              "    <tr>\n",
              "      <th>x18</th>\n",
              "      <td>747.0</td>\n",
              "      <td>9.638554e-01</td>\n",
              "      <td>0.186775</td>\n",
              "      <td>0.000000</td>\n",
              "      <td>1.000000</td>\n",
              "      <td>1.000000</td>\n",
              "      <td>1.000000</td>\n",
              "      <td>1.000000</td>\n",
              "    </tr>\n",
              "    <tr>\n",
              "      <th>x19</th>\n",
              "      <td>747.0</td>\n",
              "      <td>1.352075e-01</td>\n",
              "      <td>0.342174</td>\n",
              "      <td>0.000000</td>\n",
              "      <td>0.000000</td>\n",
              "      <td>0.000000</td>\n",
              "      <td>0.000000</td>\n",
              "      <td>1.000000</td>\n",
              "    </tr>\n",
              "    <tr>\n",
              "      <th>x20</th>\n",
              "      <td>747.0</td>\n",
              "      <td>1.352075e-01</td>\n",
              "      <td>0.342174</td>\n",
              "      <td>0.000000</td>\n",
              "      <td>0.000000</td>\n",
              "      <td>0.000000</td>\n",
              "      <td>0.000000</td>\n",
              "      <td>1.000000</td>\n",
              "    </tr>\n",
              "    <tr>\n",
              "      <th>x21</th>\n",
              "      <td>747.0</td>\n",
              "      <td>1.566265e-01</td>\n",
              "      <td>0.363692</td>\n",
              "      <td>0.000000</td>\n",
              "      <td>0.000000</td>\n",
              "      <td>0.000000</td>\n",
              "      <td>0.000000</td>\n",
              "      <td>1.000000</td>\n",
              "    </tr>\n",
              "    <tr>\n",
              "      <th>x22</th>\n",
              "      <td>747.0</td>\n",
              "      <td>8.165997e-02</td>\n",
              "      <td>0.274029</td>\n",
              "      <td>0.000000</td>\n",
              "      <td>0.000000</td>\n",
              "      <td>0.000000</td>\n",
              "      <td>0.000000</td>\n",
              "      <td>1.000000</td>\n",
              "    </tr>\n",
              "    <tr>\n",
              "      <th>x23</th>\n",
              "      <td>747.0</td>\n",
              "      <td>7.362784e-02</td>\n",
              "      <td>0.261339</td>\n",
              "      <td>0.000000</td>\n",
              "      <td>0.000000</td>\n",
              "      <td>0.000000</td>\n",
              "      <td>0.000000</td>\n",
              "      <td>1.000000</td>\n",
              "    </tr>\n",
              "    <tr>\n",
              "      <th>x24</th>\n",
              "      <td>747.0</td>\n",
              "      <td>1.285141e-01</td>\n",
              "      <td>0.334886</td>\n",
              "      <td>0.000000</td>\n",
              "      <td>0.000000</td>\n",
              "      <td>0.000000</td>\n",
              "      <td>0.000000</td>\n",
              "      <td>1.000000</td>\n",
              "    </tr>\n",
              "    <tr>\n",
              "      <th>x25</th>\n",
              "      <td>747.0</td>\n",
              "      <td>1.579652e-01</td>\n",
              "      <td>0.364953</td>\n",
              "      <td>0.000000</td>\n",
              "      <td>0.000000</td>\n",
              "      <td>0.000000</td>\n",
              "      <td>0.000000</td>\n",
              "      <td>1.000000</td>\n",
              "    </tr>\n",
              "    <tr>\n",
              "      <th>t</th>\n",
              "      <td>747.0</td>\n",
              "      <td>1.860776e-01</td>\n",
              "      <td>0.389430</td>\n",
              "      <td>0.000000</td>\n",
              "      <td>0.000000</td>\n",
              "      <td>0.000000</td>\n",
              "      <td>0.000000</td>\n",
              "      <td>1.000000</td>\n",
              "    </tr>\n",
              "    <tr>\n",
              "      <th>yf</th>\n",
              "      <td>747.0</td>\n",
              "      <td>3.159538e+00</td>\n",
              "      <td>2.179956</td>\n",
              "      <td>-1.543902</td>\n",
              "      <td>1.626779</td>\n",
              "      <td>2.577294</td>\n",
              "      <td>4.494637</td>\n",
              "      <td>11.268228</td>\n",
              "    </tr>\n",
              "    <tr>\n",
              "      <th>ycf</th>\n",
              "      <td>747.0</td>\n",
              "      <td>5.696107e+00</td>\n",
              "      <td>1.980121</td>\n",
              "      <td>-1.037628</td>\n",
              "      <td>5.053598</td>\n",
              "      <td>6.209686</td>\n",
              "      <td>6.948922</td>\n",
              "      <td>10.171004</td>\n",
              "    </tr>\n",
              "    <tr>\n",
              "      <th>ite</th>\n",
              "      <td>747.0</td>\n",
              "      <td>4.016067e+00</td>\n",
              "      <td>0.859736</td>\n",
              "      <td>-1.866989</td>\n",
              "      <td>3.775936</td>\n",
              "      <td>4.304433</td>\n",
              "      <td>4.569454</td>\n",
              "      <td>4.670125</td>\n",
              "    </tr>\n",
              "  </tbody>\n",
              "</table>\n",
              "</div>\n",
              "      <button class=\"colab-df-convert\" onclick=\"convertToInteractive('df-229cba74-af8c-4e5f-bd6d-6694c9e007c1')\"\n",
              "              title=\"Convert this dataframe to an interactive table.\"\n",
              "              style=\"display:none;\">\n",
              "        \n",
              "  <svg xmlns=\"http://www.w3.org/2000/svg\" height=\"24px\"viewBox=\"0 0 24 24\"\n",
              "       width=\"24px\">\n",
              "    <path d=\"M0 0h24v24H0V0z\" fill=\"none\"/>\n",
              "    <path d=\"M18.56 5.44l.94 2.06.94-2.06 2.06-.94-2.06-.94-.94-2.06-.94 2.06-2.06.94zm-11 1L8.5 8.5l.94-2.06 2.06-.94-2.06-.94L8.5 2.5l-.94 2.06-2.06.94zm10 10l.94 2.06.94-2.06 2.06-.94-2.06-.94-.94-2.06-.94 2.06-2.06.94z\"/><path d=\"M17.41 7.96l-1.37-1.37c-.4-.4-.92-.59-1.43-.59-.52 0-1.04.2-1.43.59L10.3 9.45l-7.72 7.72c-.78.78-.78 2.05 0 2.83L4 21.41c.39.39.9.59 1.41.59.51 0 1.02-.2 1.41-.59l7.78-7.78 2.81-2.81c.8-.78.8-2.07 0-2.86zM5.41 20L4 18.59l7.72-7.72 1.47 1.35L5.41 20z\"/>\n",
              "  </svg>\n",
              "      </button>\n",
              "      \n",
              "  <style>\n",
              "    .colab-df-container {\n",
              "      display:flex;\n",
              "      flex-wrap:wrap;\n",
              "      gap: 12px;\n",
              "    }\n",
              "\n",
              "    .colab-df-convert {\n",
              "      background-color: #E8F0FE;\n",
              "      border: none;\n",
              "      border-radius: 50%;\n",
              "      cursor: pointer;\n",
              "      display: none;\n",
              "      fill: #1967D2;\n",
              "      height: 32px;\n",
              "      padding: 0 0 0 0;\n",
              "      width: 32px;\n",
              "    }\n",
              "\n",
              "    .colab-df-convert:hover {\n",
              "      background-color: #E2EBFA;\n",
              "      box-shadow: 0px 1px 2px rgba(60, 64, 67, 0.3), 0px 1px 3px 1px rgba(60, 64, 67, 0.15);\n",
              "      fill: #174EA6;\n",
              "    }\n",
              "\n",
              "    [theme=dark] .colab-df-convert {\n",
              "      background-color: #3B4455;\n",
              "      fill: #D2E3FC;\n",
              "    }\n",
              "\n",
              "    [theme=dark] .colab-df-convert:hover {\n",
              "      background-color: #434B5C;\n",
              "      box-shadow: 0px 1px 3px 1px rgba(0, 0, 0, 0.15);\n",
              "      filter: drop-shadow(0px 1px 2px rgba(0, 0, 0, 0.3));\n",
              "      fill: #FFFFFF;\n",
              "    }\n",
              "  </style>\n",
              "\n",
              "      <script>\n",
              "        const buttonEl =\n",
              "          document.querySelector('#df-229cba74-af8c-4e5f-bd6d-6694c9e007c1 button.colab-df-convert');\n",
              "        buttonEl.style.display =\n",
              "          google.colab.kernel.accessAllowed ? 'block' : 'none';\n",
              "\n",
              "        async function convertToInteractive(key) {\n",
              "          const element = document.querySelector('#df-229cba74-af8c-4e5f-bd6d-6694c9e007c1');\n",
              "          const dataTable =\n",
              "            await google.colab.kernel.invokeFunction('convertToInteractive',\n",
              "                                                     [key], {});\n",
              "          if (!dataTable) return;\n",
              "\n",
              "          const docLinkHtml = 'Like what you see? Visit the ' +\n",
              "            '<a target=\"_blank\" href=https://colab.research.google.com/notebooks/data_table.ipynb>data table notebook</a>'\n",
              "            + ' to learn more about interactive tables.';\n",
              "          element.innerHTML = '';\n",
              "          dataTable['output_type'] = 'display_data';\n",
              "          await google.colab.output.renderOutput(dataTable, element);\n",
              "          const docLink = document.createElement('div');\n",
              "          docLink.innerHTML = docLinkHtml;\n",
              "          element.appendChild(docLink);\n",
              "        }\n",
              "      </script>\n",
              "    </div>\n",
              "  </div>\n",
              "  "
            ]
          },
          "metadata": {},
          "execution_count": 52
        }
      ],
      "source": [
        "IHDP.describe().T"
      ]
    },
    {
      "cell_type": "code",
      "execution_count": null,
      "metadata": {
        "colab": {
          "base_uri": "https://localhost:8080/",
          "height": 282
        },
        "id": "OCERQgN2tUxF",
        "outputId": "18644290-bc61-4458-9cc6-a66c71eb4eda"
      },
      "outputs": [
        {
          "output_type": "execute_result",
          "data": {
            "text/plain": [
              "[<matplotlib.lines.Line2D at 0x7f4963a89710>]"
            ]
          },
          "metadata": {},
          "execution_count": 53
        },
        {
          "output_type": "display_data",
          "data": {
            "text/plain": [
              "<Figure size 432x288 with 1 Axes>"
            ],
            "image/png": "[encoded data removed]"
          },
          "metadata": {
            "needs_background": "light"
          }
        }
      ],
      "source": [
        "import matplotlib.pyplot as plt\n",
        "plt.plot(IHDP.ite)"
      ]
    },
    {
      "cell_type": "code",
      "execution_count": null,
      "metadata": {
        "colab": {
          "base_uri": "https://localhost:8080/",
          "height": 282
        },
        "id": "JWGJcVqG9XOi",
        "outputId": "5b169708-ed94-4140-fc4a-e3a9c185905b"
      },
      "outputs": [
        {
          "output_type": "execute_result",
          "data": {
            "text/plain": [
              "<matplotlib.axes._subplots.AxesSubplot at 0x7f49638c4950>"
            ]
          },
          "metadata": {},
          "execution_count": 54
        },
        {
          "output_type": "display_data",
          "data": {
            "text/plain": [
              "<Figure size 432x288 with 1 Axes>"
            ],
            "image/png": "[encoded data removed]"
          },
          "metadata": {
            "needs_background": "light"
          }
        }
      ],
      "source": [
        "IHDP.describe().tail(7)['ite'].T.plot()"
      ]
    },
    {
      "cell_type": "code",
      "execution_count": null,
      "metadata": {
        "colab": {
          "base_uri": "https://localhost:8080/"
        },
        "id": "iMrp-tMV9o_-",
        "outputId": "7e20febb-18c0-49bd-9c31-2d6aecd9855a"
      },
      "outputs": [
        {
          "output_type": "execute_result",
          "data": {
            "text/plain": [
              "Index(['x1', 'x2', 'x3', 'x4', 'x5', 'x6', 'x7', 'x8', 'x9', 'x10', 'x11',\n",
              "       'x12', 'x13', 'x14', 'x15', 'x16', 'x17', 'x18', 'x19', 'x20', 'x21',\n",
              "       'x22', 'x23', 'x24', 'x25', 't'],\n",
              "      dtype='object')"
            ]
          },
          "metadata": {},
          "execution_count": 55
        }
      ],
      "source": [
        "IHDP.columns[:26]"
      ]
    },
    {
      "cell_type": "code",
      "execution_count": null,
      "metadata": {
        "colab": {
          "base_uri": "https://localhost:8080/",
          "height": 733
        },
        "id": "nI6YEy46tUzH",
        "outputId": "3436d044-51d5-4f6a-993a-f51f639b2b97"
      },
      "outputs": [
        {
          "output_type": "stream",
          "name": "stdout",
          "text": [
            "x1, Score: 0.00647\n",
            "x2, Score: 0.00107\n",
            "x3, Score: 0.00339\n",
            "x4, Score: 0.06107\n",
            "x5, Score: 0.00284\n",
            "x6, Score: 0.79299\n",
            "x7, Score: 0.00090\n",
            "x8, Score: 0.00069\n",
            "x9, Score: 0.00070\n",
            "x10, Score: 0.01282\n",
            "x11, Score: 0.00267\n",
            "x12, Score: 0.00028\n",
            "x13, Score: 0.00017\n",
            "x14, Score: 0.00777\n",
            "x15, Score: 0.09999\n",
            "x16, Score: 0.00018\n",
            "x17, Score: 0.00010\n",
            "x18, Score: 0.00000\n",
            "x19, Score: 0.00013\n",
            "x20, Score: 0.00202\n",
            "x21, Score: 0.00021\n",
            "x22, Score: 0.00029\n",
            "x23, Score: 0.00049\n",
            "x24, Score: 0.00259\n",
            "x25, Score: 0.00009\n",
            "x26, Score: 0.00007\n"
          ]
        },
        {
          "output_type": "display_data",
          "data": {
            "text/plain": [
              "<Figure size 432x288 with 1 Axes>"
            ],
            "image/png": "[encoded data removed]"
          },
          "metadata": {
            "needs_background": "light"
          }
        }
      ],
      "source": [
        "# decision tree for feature importance on a regression problem\n",
        "from sklearn.datasets import make_regression\n",
        "from sklearn.tree import DecisionTreeRegressor,DecisionTreeClassifier\n",
        "from matplotlib import pyplot\n",
        "# define dataset\n",
        "X, y = IHDP[IHDP.columns[:26]],IHDP['ite']\n",
        "# define the model\n",
        "model = DecisionTreeRegressor()\n",
        "# fit the model\n",
        "model.fit(X, y)\n",
        "# get importance\n",
        "importance = model.feature_importances_\n",
        "# summarize feature importance\n",
        "for i,v in enumerate(importance):\n",
        "\tprint('x%0d, Score: %.5f' % (i+1,v))\n",
        "# plot feature importance\n",
        "pyplot.bar([x for x in range(len(importance))], importance)\n",
        "pyplot.title(\"Feature Importance for IHDPs dataset using Decision Tree Regressor\")\n",
        "pyplot.ylabel(\"Feature Score\")\n",
        "pyplot.ylabel(\"Feature Number\")\n",
        "pyplot.show()"
      ]
    },
    {
      "cell_type": "code",
      "execution_count": null,
      "metadata": {
        "colab": {
          "base_uri": "https://localhost:8080/",
          "height": 424
        },
        "id": "PljiDi7nuw6t",
        "outputId": "fd76b1a7-3e40-450d-fa08-8a764caa3a36"
      },
      "outputs": [
        {
          "output_type": "execute_result",
          "data": {
            "text/plain": [
              "           x1        x2        x3        x4        x5        x6   x7   x8  \\\n",
              "0    1.397395  0.996346 -1.105624 -0.879606  0.308569 -1.023402  1.0  0.0   \n",
              "1    0.269033  0.196818  0.383828  0.161703 -0.629189  1.460832  1.0  0.0   \n",
              "2    1.051537  1.795874 -1.105624  0.161703 -0.629189  0.963985  1.0  0.0   \n",
              "3    0.662446  0.196818 -0.733261 -0.879606  0.371086 -0.692171  1.0  0.0   \n",
              "4    0.856992  1.795874  0.011465 -0.879606  0.558638  0.301522  0.0  1.0   \n",
              "..        ...       ...       ...       ...       ...       ...  ...  ...   \n",
              "742 -1.853672 -2.201766  1.500917  0.161703 -0.129052 -1.023402  1.0  0.0   \n",
              "743 -1.066845 -1.402238  1.128554  2.244320  0.371086  2.288910  0.0  0.0   \n",
              "744 -1.045229 -1.337276  1.128554 -0.879606  0.683672  0.301522  1.0  0.0   \n",
              "745 -0.115735 -0.602710 -1.105624  2.244320  0.558638  2.785756  1.0  0.0   \n",
              "746  1.419011  1.396110 -0.733261  2.244320 -0.441638 -0.195324  0.0  1.0   \n",
              "\n",
              "      x9  x10  ...  x20  x21  x22  x23  x24  x25    t        yf       ycf  \\\n",
              "0    0.0  0.0  ...  0.0  0.0  0.0  0.0  0.0  1.0  1.0  4.771232 -0.298509   \n",
              "1    1.0  0.0  ...  0.0  0.0  0.0  0.0  0.0  0.0  0.0  2.956273  5.783770   \n",
              "2    1.0  1.0  ...  0.0  0.0  0.0  0.0  0.0  1.0  0.0  4.164164  7.055789   \n",
              "3    0.0  0.0  ...  1.0  0.0  0.0  0.0  0.0  0.0  1.0  6.172307  1.379697   \n",
              "4    1.0  0.0  ...  0.0  0.0  0.0  0.0  0.0  0.0  1.0  7.834469  2.747986   \n",
              "..   ...  ...  ...  ...  ...  ...  ...  ...  ...  ...       ...       ...   \n",
              "742  0.0  1.0  ...  0.0  0.0  0.0  1.0  0.0  0.0  0.0  2.244050  5.269701   \n",
              "743  1.0  0.0  ...  1.0  0.0  0.0  0.0  0.0  0.0  0.0  6.253175  8.393338   \n",
              "744  1.0  0.0  ...  0.0  0.0  0.0  0.0  0.0  0.0  0.0  2.908235  6.897207   \n",
              "745  1.0  0.0  ...  0.0  0.0  0.0  1.0  0.0  0.0  0.0  8.324520  9.208251   \n",
              "746  1.0  0.0  ...  0.0  0.0  0.0  0.0  0.0  1.0  0.0  1.915644  6.298299   \n",
              "\n",
              "          ite  \n",
              "0    4.657928  \n",
              "1    3.428604  \n",
              "2    3.658195  \n",
              "3    4.585505  \n",
              "4    4.265591  \n",
              "..        ...  \n",
              "742  4.598246  \n",
              "743  0.940855  \n",
              "744  4.373736  \n",
              "745  0.352653  \n",
              "746  4.115977  \n",
              "\n",
              "[747 rows x 29 columns]"
            ],
            "text/html": [
              "\n",
              "  <div id=\"df-0bd21fd4-79f0-415b-ae82-54cee12668d6\">\n",
              "    <div class=\"colab-df-container\">\n",
              "      <div>\n",
              "<style scoped>\n",
              "    .dataframe tbody tr th:only-of-type {\n",
              "        vertical-align: middle;\n",
              "    }\n",
              "\n",
              "    .dataframe tbody tr th {\n",
              "        vertical-align: top;\n",
              "    }\n",
              "\n",
              "    .dataframe thead th {\n",
              "        text-align: right;\n",
              "    }\n",
              "</style>\n",
              "<table border=\"1\" class=\"dataframe\">\n",
              "  <thead>\n",
              "    <tr style=\"text-align: right;\">\n",
              "      <th></th>\n",
              "      <th>x1</th>\n",
              "      <th>x2</th>\n",
              "      <th>x3</th>\n",
              "      <th>x4</th>\n",
              "      <th>x5</th>\n",
              "      <th>x6</th>\n",
              "      <th>x7</th>\n",
              "      <th>x8</th>\n",
              "      <th>x9</th>\n",
              "      <th>x10</th>\n",
              "      <th>...</th>\n",
              "      <th>x20</th>\n",
              "      <th>x21</th>\n",
              "      <th>x22</th>\n",
              "      <th>x23</th>\n",
              "      <th>x24</th>\n",
              "      <th>x25</th>\n",
              "      <th>t</th>\n",
              "      <th>yf</th>\n",
              "      <th>ycf</th>\n",
              "      <th>ite</th>\n",
              "    </tr>\n",
              "  </thead>\n",
              "  <tbody>\n",
              "    <tr>\n",
              "      <th>0</th>\n",
              "      <td>1.397395</td>\n",
              "      <td>0.996346</td>\n",
              "      <td>-1.105624</td>\n",
              "      <td>-0.879606</td>\n",
              "      <td>0.308569</td>\n",
              "      <td>-1.023402</td>\n",
              "      <td>1.0</td>\n",
              "      <td>0.0</td>\n",
              "      <td>0.0</td>\n",
              "      <td>0.0</td>\n",
              "      <td>...</td>\n",
              "      <td>0.0</td>\n",
              "      <td>0.0</td>\n",
              "      <td>0.0</td>\n",
              "      <td>0.0</td>\n",
              "      <td>0.0</td>\n",
              "      <td>1.0</td>\n",
              "      <td>1.0</td>\n",
              "      <td>4.771232</td>\n",
              "      <td>-0.298509</td>\n",
              "      <td>4.657928</td>\n",
              "    </tr>\n",
              "    <tr>\n",
              "      <th>1</th>\n",
              "      <td>0.269033</td>\n",
              "      <td>0.196818</td>\n",
              "      <td>0.383828</td>\n",
              "      <td>0.161703</td>\n",
              "      <td>-0.629189</td>\n",
              "      <td>1.460832</td>\n",
              "      <td>1.0</td>\n",
              "      <td>0.0</td>\n",
              "      <td>1.0</td>\n",
              "      <td>0.0</td>\n",
              "      <td>...</td>\n",
              "      <td>0.0</td>\n",
              "      <td>0.0</td>\n",
              "      <td>0.0</td>\n",
              "      <td>0.0</td>\n",
              "      <td>0.0</td>\n",
              "      <td>0.0</td>\n",
              "      <td>0.0</td>\n",
              "      <td>2.956273</td>\n",
              "      <td>5.783770</td>\n",
              "      <td>3.428604</td>\n",
              "    </tr>\n",
              "    <tr>\n",
              "      <th>2</th>\n",
              "      <td>1.051537</td>\n",
              "      <td>1.795874</td>\n",
              "      <td>-1.105624</td>\n",
              "      <td>0.161703</td>\n",
              "      <td>-0.629189</td>\n",
              "      <td>0.963985</td>\n",
              "      <td>1.0</td>\n",
              "      <td>0.0</td>\n",
              "      <td>1.0</td>\n",
              "      <td>1.0</td>\n",
              "      <td>...</td>\n",
              "      <td>0.0</td>\n",
              "      <td>0.0</td>\n",
              "      <td>0.0</td>\n",
              "      <td>0.0</td>\n",
              "      <td>0.0</td>\n",
              "      <td>1.0</td>\n",
              "      <td>0.0</td>\n",
              "      <td>4.164164</td>\n",
              "      <td>7.055789</td>\n",
              "      <td>3.658195</td>\n",
              "    </tr>\n",
              "    <tr>\n",
              "      <th>3</th>\n",
              "      <td>0.662446</td>\n",
              "      <td>0.196818</td>\n",
              "      <td>-0.733261</td>\n",
              "      <td>-0.879606</td>\n",
              "      <td>0.371086</td>\n",
              "      <td>-0.692171</td>\n",
              "      <td>1.0</td>\n",
              "      <td>0.0</td>\n",
              "      <td>0.0</td>\n",
              "      <td>0.0</td>\n",
              "      <td>...</td>\n",
              "      <td>1.0</td>\n",
              "      <td>0.0</td>\n",
              "      <td>0.0</td>\n",
              "      <td>0.0</td>\n",
              "      <td>0.0</td>\n",
              "      <td>0.0</td>\n",
              "      <td>1.0</td>\n",
              "      <td>6.172307</td>\n",
              "      <td>1.379697</td>\n",
              "      <td>4.585505</td>\n",
              "    </tr>\n",
              "    <tr>\n",
              "      <th>4</th>\n",
              "      <td>0.856992</td>\n",
              "      <td>1.795874</td>\n",
              "      <td>0.011465</td>\n",
              "      <td>-0.879606</td>\n",
              "      <td>0.558638</td>\n",
              "      <td>0.301522</td>\n",
              "      <td>0.0</td>\n",
              "      <td>1.0</td>\n",
              "      <td>1.0</td>\n",
              "      <td>0.0</td>\n",
              "      <td>...</td>\n",
              "      <td>0.0</td>\n",
              "      <td>0.0</td>\n",
              "      <td>0.0</td>\n",
              "      <td>0.0</td>\n",
              "      <td>0.0</td>\n",
              "      <td>0.0</td>\n",
              "      <td>1.0</td>\n",
              "      <td>7.834469</td>\n",
              "      <td>2.747986</td>\n",
              "      <td>4.265591</td>\n",
              "    </tr>\n",
              "    <tr>\n",
              "      <th>...</th>\n",
              "      <td>...</td>\n",
              "      <td>...</td>\n",
              "      <td>...</td>\n",
              "      <td>...</td>\n",
              "      <td>...</td>\n",
              "      <td>...</td>\n",
              "      <td>...</td>\n",
              "      <td>...</td>\n",
              "      <td>...</td>\n",
              "      <td>...</td>\n",
              "      <td>...</td>\n",
              "      <td>...</td>\n",
              "      <td>...</td>\n",
              "      <td>...</td>\n",
              "      <td>...</td>\n",
              "      <td>...</td>\n",
              "      <td>...</td>\n",
              "      <td>...</td>\n",
              "      <td>...</td>\n",
              "      <td>...</td>\n",
              "      <td>...</td>\n",
              "    </tr>\n",
              "    <tr>\n",
              "      <th>742</th>\n",
              "      <td>-1.853672</td>\n",
              "      <td>-2.201766</td>\n",
              "      <td>1.500917</td>\n",
              "      <td>0.161703</td>\n",
              "      <td>-0.129052</td>\n",
              "      <td>-1.023402</td>\n",
              "      <td>1.0</td>\n",
              "      <td>0.0</td>\n",
              "      <td>0.0</td>\n",
              "      <td>1.0</td>\n",
              "      <td>...</td>\n",
              "      <td>0.0</td>\n",
              "      <td>0.0</td>\n",
              "      <td>0.0</td>\n",
              "      <td>1.0</td>\n",
              "      <td>0.0</td>\n",
              "      <td>0.0</td>\n",
              "      <td>0.0</td>\n",
              "      <td>2.244050</td>\n",
              "      <td>5.269701</td>\n",
              "      <td>4.598246</td>\n",
              "    </tr>\n",
              "    <tr>\n",
              "      <th>743</th>\n",
              "      <td>-1.066845</td>\n",
              "      <td>-1.402238</td>\n",
              "      <td>1.128554</td>\n",
              "      <td>2.244320</td>\n",
              "      <td>0.371086</td>\n",
              "      <td>2.288910</td>\n",
              "      <td>0.0</td>\n",
              "      <td>0.0</td>\n",
              "      <td>1.0</td>\n",
              "      <td>0.0</td>\n",
              "      <td>...</td>\n",
              "      <td>1.0</td>\n",
              "      <td>0.0</td>\n",
              "      <td>0.0</td>\n",
              "      <td>0.0</td>\n",
              "      <td>0.0</td>\n",
              "      <td>0.0</td>\n",
              "      <td>0.0</td>\n",
              "      <td>6.253175</td>\n",
              "      <td>8.393338</td>\n",
              "      <td>0.940855</td>\n",
              "    </tr>\n",
              "    <tr>\n",
              "      <th>744</th>\n",
              "      <td>-1.045229</td>\n",
              "      <td>-1.337276</td>\n",
              "      <td>1.128554</td>\n",
              "      <td>-0.879606</td>\n",
              "      <td>0.683672</td>\n",
              "      <td>0.301522</td>\n",
              "      <td>1.0</td>\n",
              "      <td>0.0</td>\n",
              "      <td>1.0</td>\n",
              "      <td>0.0</td>\n",
              "      <td>...</td>\n",
              "      <td>0.0</td>\n",
              "      <td>0.0</td>\n",
              "      <td>0.0</td>\n",
              "      <td>0.0</td>\n",
              "      <td>0.0</td>\n",
              "      <td>0.0</td>\n",
              "      <td>0.0</td>\n",
              "      <td>2.908235</td>\n",
              "      <td>6.897207</td>\n",
              "      <td>4.373736</td>\n",
              "    </tr>\n",
              "    <tr>\n",
              "      <th>745</th>\n",
              "      <td>-0.115735</td>\n",
              "      <td>-0.602710</td>\n",
              "      <td>-1.105624</td>\n",
              "      <td>2.244320</td>\n",
              "      <td>0.558638</td>\n",
              "      <td>2.785756</td>\n",
              "      <td>1.0</td>\n",
              "      <td>0.0</td>\n",
              "      <td>1.0</td>\n",
              "      <td>0.0</td>\n",
              "      <td>...</td>\n",
              "      <td>0.0</td>\n",
              "      <td>0.0</td>\n",
              "      <td>0.0</td>\n",
              "      <td>1.0</td>\n",
              "      <td>0.0</td>\n",
              "      <td>0.0</td>\n",
              "      <td>0.0</td>\n",
              "      <td>8.324520</td>\n",
              "      <td>9.208251</td>\n",
              "      <td>0.352653</td>\n",
              "    </tr>\n",
              "    <tr>\n",
              "      <th>746</th>\n",
              "      <td>1.419011</td>\n",
              "      <td>1.396110</td>\n",
              "      <td>-0.733261</td>\n",
              "      <td>2.244320</td>\n",
              "      <td>-0.441638</td>\n",
              "      <td>-0.195324</td>\n",
              "      <td>0.0</td>\n",
              "      <td>1.0</td>\n",
              "      <td>1.0</td>\n",
              "      <td>0.0</td>\n",
              "      <td>...</td>\n",
              "      <td>0.0</td>\n",
              "      <td>0.0</td>\n",
              "      <td>0.0</td>\n",
              "      <td>0.0</td>\n",
              "      <td>0.0</td>\n",
              "      <td>1.0</td>\n",
              "      <td>0.0</td>\n",
              "      <td>1.915644</td>\n",
              "      <td>6.298299</td>\n",
              "      <td>4.115977</td>\n",
              "    </tr>\n",
              "  </tbody>\n",
              "</table>\n",
              "<p>747 rows × 29 columns</p>\n",
              "</div>\n",
              "      <button class=\"colab-df-convert\" onclick=\"convertToInteractive('df-0bd21fd4-79f0-415b-ae82-54cee12668d6')\"\n",
              "              title=\"Convert this dataframe to an interactive table.\"\n",
              "              style=\"display:none;\">\n",
              "        \n",
              "  <svg xmlns=\"http://www.w3.org/2000/svg\" height=\"24px\"viewBox=\"0 0 24 24\"\n",
              "       width=\"24px\">\n",
              "    <path d=\"M0 0h24v24H0V0z\" fill=\"none\"/>\n",
              "    <path d=\"M18.56 5.44l.94 2.06.94-2.06 2.06-.94-2.06-.94-.94-2.06-.94 2.06-2.06.94zm-11 1L8.5 8.5l.94-2.06 2.06-.94-2.06-.94L8.5 2.5l-.94 2.06-2.06.94zm10 10l.94 2.06.94-2.06 2.06-.94-2.06-.94-.94-2.06-.94 2.06-2.06.94z\"/><path d=\"M17.41 7.96l-1.37-1.37c-.4-.4-.92-.59-1.43-.59-.52 0-1.04.2-1.43.59L10.3 9.45l-7.72 7.72c-.78.78-.78 2.05 0 2.83L4 21.41c.39.39.9.59 1.41.59.51 0 1.02-.2 1.41-.59l7.78-7.78 2.81-2.81c.8-.78.8-2.07 0-2.86zM5.41 20L4 18.59l7.72-7.72 1.47 1.35L5.41 20z\"/>\n",
              "  </svg>\n",
              "      </button>\n",
              "      \n",
              "  <style>\n",
              "    .colab-df-container {\n",
              "      display:flex;\n",
              "      flex-wrap:wrap;\n",
              "      gap: 12px;\n",
              "    }\n",
              "\n",
              "    .colab-df-convert {\n",
              "      background-color: #E8F0FE;\n",
              "      border: none;\n",
              "      border-radius: 50%;\n",
              "      cursor: pointer;\n",
              "      display: none;\n",
              "      fill: #1967D2;\n",
              "      height: 32px;\n",
              "      padding: 0 0 0 0;\n",
              "      width: 32px;\n",
              "    }\n",
              "\n",
              "    .colab-df-convert:hover {\n",
              "      background-color: #E2EBFA;\n",
              "      box-shadow: 0px 1px 2px rgba(60, 64, 67, 0.3), 0px 1px 3px 1px rgba(60, 64, 67, 0.15);\n",
              "      fill: #174EA6;\n",
              "    }\n",
              "\n",
              "    [theme=dark] .colab-df-convert {\n",
              "      background-color: #3B4455;\n",
              "      fill: #D2E3FC;\n",
              "    }\n",
              "\n",
              "    [theme=dark] .colab-df-convert:hover {\n",
              "      background-color: #434B5C;\n",
              "      box-shadow: 0px 1px 3px 1px rgba(0, 0, 0, 0.15);\n",
              "      filter: drop-shadow(0px 1px 2px rgba(0, 0, 0, 0.3));\n",
              "      fill: #FFFFFF;\n",
              "    }\n",
              "  </style>\n",
              "\n",
              "      <script>\n",
              "        const buttonEl =\n",
              "          document.querySelector('#df-0bd21fd4-79f0-415b-ae82-54cee12668d6 button.colab-df-convert');\n",
              "        buttonEl.style.display =\n",
              "          google.colab.kernel.accessAllowed ? 'block' : 'none';\n",
              "\n",
              "        async function convertToInteractive(key) {\n",
              "          const element = document.querySelector('#df-0bd21fd4-79f0-415b-ae82-54cee12668d6');\n",
              "          const dataTable =\n",
              "            await google.colab.kernel.invokeFunction('convertToInteractive',\n",
              "                                                     [key], {});\n",
              "          if (!dataTable) return;\n",
              "\n",
              "          const docLinkHtml = 'Like what you see? Visit the ' +\n",
              "            '<a target=\"_blank\" href=https://colab.research.google.com/notebooks/data_table.ipynb>data table notebook</a>'\n",
              "            + ' to learn more about interactive tables.';\n",
              "          element.innerHTML = '';\n",
              "          dataTable['output_type'] = 'display_data';\n",
              "          await google.colab.output.renderOutput(dataTable, element);\n",
              "          const docLink = document.createElement('div');\n",
              "          docLink.innerHTML = docLinkHtml;\n",
              "          element.appendChild(docLink);\n",
              "        }\n",
              "      </script>\n",
              "    </div>\n",
              "  </div>\n",
              "  "
            ]
          },
          "metadata": {},
          "execution_count": 57
        }
      ],
      "source": [
        "IHDP"
      ]
    },
    {
      "cell_type": "code",
      "execution_count": null,
      "metadata": {
        "colab": {
          "base_uri": "https://localhost:8080/",
          "height": 865
        },
        "id": "F5BN7hCruyMh",
        "outputId": "8d60532e-6b8f-422c-fd33-a9822a62531b"
      },
      "outputs": [
        {
          "output_type": "execute_result",
          "data": {
            "text/plain": [
              "   Feature Name     Score\n",
              "5            x6  0.792995\n",
              "14          x15  0.099991\n",
              "3            x4  0.061069\n",
              "9           x10  0.012816\n",
              "13          x14   0.00777\n",
              "0            x1  0.006467\n",
              "2            x3  0.003388\n",
              "4            x5  0.002837\n",
              "10          x11  0.002673\n",
              "23          x24  0.002589\n",
              "19          x20  0.002016\n",
              "1            x2  0.001072\n",
              "6            x7    0.0009\n",
              "8            x9  0.000701\n",
              "7            x8  0.000692\n",
              "22          x23  0.000489\n",
              "21          x22  0.000295\n",
              "11          x12  0.000277\n",
              "20          x21  0.000213\n",
              "15          x16  0.000184\n",
              "12          x13  0.000171\n",
              "18          x19  0.000135\n",
              "16          x17  0.000098\n",
              "24          x25  0.000089\n",
              "25            t  0.000074\n",
              "17          x18       0.0"
            ],
            "text/html": [
              "\n",
              "  <div id=\"df-9f317a01-1f8b-41b8-a180-34d109560e15\">\n",
              "    <div class=\"colab-df-container\">\n",
              "      <div>\n",
              "<style scoped>\n",
              "    .dataframe tbody tr th:only-of-type {\n",
              "        vertical-align: middle;\n",
              "    }\n",
              "\n",
              "    .dataframe tbody tr th {\n",
              "        vertical-align: top;\n",
              "    }\n",
              "\n",
              "    .dataframe thead th {\n",
              "        text-align: right;\n",
              "    }\n",
              "</style>\n",
              "<table border=\"1\" class=\"dataframe\">\n",
              "  <thead>\n",
              "    <tr style=\"text-align: right;\">\n",
              "      <th></th>\n",
              "      <th>Feature Name</th>\n",
              "      <th>Score</th>\n",
              "    </tr>\n",
              "  </thead>\n",
              "  <tbody>\n",
              "    <tr>\n",
              "      <th>5</th>\n",
              "      <td>x6</td>\n",
              "      <td>0.792995</td>\n",
              "    </tr>\n",
              "    <tr>\n",
              "      <th>14</th>\n",
              "      <td>x15</td>\n",
              "      <td>0.099991</td>\n",
              "    </tr>\n",
              "    <tr>\n",
              "      <th>3</th>\n",
              "      <td>x4</td>\n",
              "      <td>0.061069</td>\n",
              "    </tr>\n",
              "    <tr>\n",
              "      <th>9</th>\n",
              "      <td>x10</td>\n",
              "      <td>0.012816</td>\n",
              "    </tr>\n",
              "    <tr>\n",
              "      <th>13</th>\n",
              "      <td>x14</td>\n",
              "      <td>0.00777</td>\n",
              "    </tr>\n",
              "    <tr>\n",
              "      <th>0</th>\n",
              "      <td>x1</td>\n",
              "      <td>0.006467</td>\n",
              "    </tr>\n",
              "    <tr>\n",
              "      <th>2</th>\n",
              "      <td>x3</td>\n",
              "      <td>0.003388</td>\n",
              "    </tr>\n",
              "    <tr>\n",
              "      <th>4</th>\n",
              "      <td>x5</td>\n",
              "      <td>0.002837</td>\n",
              "    </tr>\n",
              "    <tr>\n",
              "      <th>10</th>\n",
              "      <td>x11</td>\n",
              "      <td>0.002673</td>\n",
              "    </tr>\n",
              "    <tr>\n",
              "      <th>23</th>\n",
              "      <td>x24</td>\n",
              "      <td>0.002589</td>\n",
              "    </tr>\n",
              "    <tr>\n",
              "      <th>19</th>\n",
              "      <td>x20</td>\n",
              "      <td>0.002016</td>\n",
              "    </tr>\n",
              "    <tr>\n",
              "      <th>1</th>\n",
              "      <td>x2</td>\n",
              "      <td>0.001072</td>\n",
              "    </tr>\n",
              "    <tr>\n",
              "      <th>6</th>\n",
              "      <td>x7</td>\n",
              "      <td>0.0009</td>\n",
              "    </tr>\n",
              "    <tr>\n",
              "      <th>8</th>\n",
              "      <td>x9</td>\n",
              "      <td>0.000701</td>\n",
              "    </tr>\n",
              "    <tr>\n",
              "      <th>7</th>\n",
              "      <td>x8</td>\n",
              "      <td>0.000692</td>\n",
              "    </tr>\n",
              "    <tr>\n",
              "      <th>22</th>\n",
              "      <td>x23</td>\n",
              "      <td>0.000489</td>\n",
              "    </tr>\n",
              "    <tr>\n",
              "      <th>21</th>\n",
              "      <td>x22</td>\n",
              "      <td>0.000295</td>\n",
              "    </tr>\n",
              "    <tr>\n",
              "      <th>11</th>\n",
              "      <td>x12</td>\n",
              "      <td>0.000277</td>\n",
              "    </tr>\n",
              "    <tr>\n",
              "      <th>20</th>\n",
              "      <td>x21</td>\n",
              "      <td>0.000213</td>\n",
              "    </tr>\n",
              "    <tr>\n",
              "      <th>15</th>\n",
              "      <td>x16</td>\n",
              "      <td>0.000184</td>\n",
              "    </tr>\n",
              "    <tr>\n",
              "      <th>12</th>\n",
              "      <td>x13</td>\n",
              "      <td>0.000171</td>\n",
              "    </tr>\n",
              "    <tr>\n",
              "      <th>18</th>\n",
              "      <td>x19</td>\n",
              "      <td>0.000135</td>\n",
              "    </tr>\n",
              "    <tr>\n",
              "      <th>16</th>\n",
              "      <td>x17</td>\n",
              "      <td>0.000098</td>\n",
              "    </tr>\n",
              "    <tr>\n",
              "      <th>24</th>\n",
              "      <td>x25</td>\n",
              "      <td>0.000089</td>\n",
              "    </tr>\n",
              "    <tr>\n",
              "      <th>25</th>\n",
              "      <td>t</td>\n",
              "      <td>0.000074</td>\n",
              "    </tr>\n",
              "    <tr>\n",
              "      <th>17</th>\n",
              "      <td>x18</td>\n",
              "      <td>0.0</td>\n",
              "    </tr>\n",
              "  </tbody>\n",
              "</table>\n",
              "</div>\n",
              "      <button class=\"colab-df-convert\" onclick=\"convertToInteractive('df-9f317a01-1f8b-41b8-a180-34d109560e15')\"\n",
              "              title=\"Convert this dataframe to an interactive table.\"\n",
              "              style=\"display:none;\">\n",
              "        \n",
              "  <svg xmlns=\"http://www.w3.org/2000/svg\" height=\"24px\"viewBox=\"0 0 24 24\"\n",
              "       width=\"24px\">\n",
              "    <path d=\"M0 0h24v24H0V0z\" fill=\"none\"/>\n",
              "    <path d=\"M18.56 5.44l.94 2.06.94-2.06 2.06-.94-2.06-.94-.94-2.06-.94 2.06-2.06.94zm-11 1L8.5 8.5l.94-2.06 2.06-.94-2.06-.94L8.5 2.5l-.94 2.06-2.06.94zm10 10l.94 2.06.94-2.06 2.06-.94-2.06-.94-.94-2.06-.94 2.06-2.06.94z\"/><path d=\"M17.41 7.96l-1.37-1.37c-.4-.4-.92-.59-1.43-.59-.52 0-1.04.2-1.43.59L10.3 9.45l-7.72 7.72c-.78.78-.78 2.05 0 2.83L4 21.41c.39.39.9.59 1.41.59.51 0 1.02-.2 1.41-.59l7.78-7.78 2.81-2.81c.8-.78.8-2.07 0-2.86zM5.41 20L4 18.59l7.72-7.72 1.47 1.35L5.41 20z\"/>\n",
              "  </svg>\n",
              "      </button>\n",
              "      \n",
              "  <style>\n",
              "    .colab-df-container {\n",
              "      display:flex;\n",
              "      flex-wrap:wrap;\n",
              "      gap: 12px;\n",
              "    }\n",
              "\n",
              "    .colab-df-convert {\n",
              "      background-color: #E8F0FE;\n",
              "      border: none;\n",
              "      border-radius: 50%;\n",
              "      cursor: pointer;\n",
              "      display: none;\n",
              "      fill: #1967D2;\n",
              "      height: 32px;\n",
              "      padding: 0 0 0 0;\n",
              "      width: 32px;\n",
              "    }\n",
              "\n",
              "    .colab-df-convert:hover {\n",
              "      background-color: #E2EBFA;\n",
              "      box-shadow: 0px 1px 2px rgba(60, 64, 67, 0.3), 0px 1px 3px 1px rgba(60, 64, 67, 0.15);\n",
              "      fill: #174EA6;\n",
              "    }\n",
              "\n",
              "    [theme=dark] .colab-df-convert {\n",
              "      background-color: #3B4455;\n",
              "      fill: #D2E3FC;\n",
              "    }\n",
              "\n",
              "    [theme=dark] .colab-df-convert:hover {\n",
              "      background-color: #434B5C;\n",
              "      box-shadow: 0px 1px 3px 1px rgba(0, 0, 0, 0.15);\n",
              "      filter: drop-shadow(0px 1px 2px rgba(0, 0, 0, 0.3));\n",
              "      fill: #FFFFFF;\n",
              "    }\n",
              "  </style>\n",
              "\n",
              "      <script>\n",
              "        const buttonEl =\n",
              "          document.querySelector('#df-9f317a01-1f8b-41b8-a180-34d109560e15 button.colab-df-convert');\n",
              "        buttonEl.style.display =\n",
              "          google.colab.kernel.accessAllowed ? 'block' : 'none';\n",
              "\n",
              "        async function convertToInteractive(key) {\n",
              "          const element = document.querySelector('#df-9f317a01-1f8b-41b8-a180-34d109560e15');\n",
              "          const dataTable =\n",
              "            await google.colab.kernel.invokeFunction('convertToInteractive',\n",
              "                                                     [key], {});\n",
              "          if (!dataTable) return;\n",
              "\n",
              "          const docLinkHtml = 'Like what you see? Visit the ' +\n",
              "            '<a target=\"_blank\" href=https://colab.research.google.com/notebooks/data_table.ipynb>data table notebook</a>'\n",
              "            + ' to learn more about interactive tables.';\n",
              "          element.innerHTML = '';\n",
              "          dataTable['output_type'] = 'display_data';\n",
              "          await google.colab.output.renderOutput(dataTable, element);\n",
              "          const docLink = document.createElement('div');\n",
              "          docLink.innerHTML = docLinkHtml;\n",
              "          element.appendChild(docLink);\n",
              "        }\n",
              "      </script>\n",
              "    </div>\n",
              "  </div>\n",
              "  "
            ]
          },
          "metadata": {},
          "execution_count": 58
        }
      ],
      "source": [
        "Features_Importance=pd.DataFrame([IHDP.columns[:26],importance]).T\n",
        "Features_Importance.columns=['Feature Name','Score']\n",
        "Features_Importance.sort_values(\"Score\",ascending=False)"
      ]
    },
    {
      "cell_type": "markdown",
      "metadata": {
        "id": "8xENOzBpuj1X"
      },
      "source": [
        "## Train the model(s) of your choice on both datasets using all available features (including treatment)."
      ]
    },
    {
      "cell_type": "code",
      "execution_count": null,
      "metadata": {
        "id": "Hoz0m_dOtU2R"
      },
      "outputs": [],
      "source": [
        "X=IHDP[IHDP.columns[:25]]\n",
        "y=IHDP['ite']"
      ]
    },
    {
      "cell_type": "markdown",
      "metadata": {
        "id": "Dn2XliZovZuI"
      },
      "source": [
        "## b) Train the model(s) of your choice on both datasets using all available features (including treatment). \n",
        "### (c) Make effect predictions and compute relevant metrics.\n",
        "- Make predictions yˆ1 and yˆ0 by setting treatment to 1 and 0 respectively. Obtain effect estimates as yˆ1 − yˆ0."
      ]
    },
    {
      "cell_type": "code",
      "execution_count": null,
      "metadata": {
        "id": "kd30TJXdvYWz"
      },
      "outputs": [],
      "source": [
        "model = DecisionTreeRegressor()\n",
        "# fit the model\n",
        "model.fit(X, y)\n",
        "# get importance\n",
        "pred_regre=model.predict(X)"
      ]
    },
    {
      "cell_type": "code",
      "execution_count": null,
      "metadata": {
        "colab": {
          "base_uri": "https://localhost:8080/",
          "height": 37
        },
        "id": "3QnQT-YyxLca",
        "outputId": "9d5ad1b1-47c1-4b20-94d0-c69c23a6533b"
      },
      "outputs": [
        {
          "output_type": "execute_result",
          "data": {
            "text/plain": [
              "747"
            ],
            "image/png": "[encoded data removed]",
            "text/latex": "$\\displaystyle 747$"
          },
          "metadata": {},
          "execution_count": 61
        }
      ],
      "source": [
        "len(pred_regre)"
      ]
    },
    {
      "cell_type": "code",
      "execution_count": null,
      "metadata": {
        "id": "X8ygbQb3wn0l"
      },
      "outputs": [],
      "source": [
        "# Make effect predictions and compute relevant metrics."
      ]
    },
    {
      "cell_type": "code",
      "execution_count": null,
      "metadata": {
        "id": "1tXFmFVfwAT1"
      },
      "outputs": [],
      "source": [
        "#pred_regre[pred_regre>0.5]=1\n",
        "#pred_regre[pred_regre<=0.5]=0"
      ]
    },
    {
      "cell_type": "code",
      "execution_count": null,
      "metadata": {
        "colab": {
          "base_uri": "https://localhost:8080/",
          "height": 37
        },
        "id": "KPZ9d8sExI7j",
        "outputId": "45f4f26e-95d5-4e9c-c9e0-10deba51728d"
      },
      "outputs": [
        {
          "output_type": "execute_result",
          "data": {
            "text/plain": [
              "747"
            ],
            "image/png": "[encoded data removed]",
            "text/latex": "$\\displaystyle 747$"
          },
          "metadata": {},
          "execution_count": 64
        }
      ],
      "source": [
        "len(pred_regre)"
      ]
    },
    {
      "cell_type": "code",
      "execution_count": null,
      "metadata": {
        "id": "1HqQrvLr-22Q"
      },
      "outputs": [],
      "source": [
        ""
      ]
    },
    {
      "cell_type": "code",
      "execution_count": null,
      "metadata": {
        "id": "WCFtNXBOwBm_"
      },
      "outputs": [],
      "source": [
        "def abs_att(effect_pred, yf, t, e):\n",
        "    \"\"\"\n",
        "    Absolute error for the Average Treatment Effect on the Treated\n",
        "    :param effect_pred: predicted treatment effect value\n",
        "    :param yf: factual (observed) outcome\n",
        "    :param t: treatment status (treated/control)\n",
        "    :param e: whether belongs to the experimental group\n",
        "    :return: absolute error on ATT\n",
        "    \"\"\"\n",
        "    att_true = np.mean(yf[t > 0]) - np.mean(yf[(1 - t + e) > 1])\n",
        "    att_pred = np.mean(effect_pred[(t + e) > 1])\n",
        "\n",
        "    return np.abs(att_pred - att_true)"
      ]
    },
    {
      "cell_type": "code",
      "execution_count": null,
      "metadata": {
        "id": "6ZG2j2_TxBPV"
      },
      "outputs": [],
      "source": [
        "import numpy as np"
      ]
    },
    {
      "cell_type": "code",
      "execution_count": null,
      "metadata": {
        "colab": {
          "base_uri": "https://localhost:8080/",
          "height": 37
        },
        "id": "w8Fhbi9Wwxm2",
        "outputId": "94d7a88b-8ff3-4521-ce86-f355dc6adf41"
      },
      "outputs": [
        {
          "output_type": "execute_result",
          "data": {
            "text/plain": [
              "0.7745771168741102"
            ],
            "image/png": "[encoded data removed]",
            "text/latex": "$\\displaystyle 0.77457711687411$"
          },
          "metadata": {},
          "execution_count": 67
        }
      ],
      "source": [
        "abs_att(pred_regre,IHDP['yf'],IHDP['t'],IHDP['ite'])"
      ]
    },
    {
      "cell_type": "code",
      "execution_count": null,
      "metadata": {
        "id": "HI4dYd5I--JZ"
      },
      "outputs": [],
      "source": [
        "X=IHDP[IHDP.columns[:26]]\n",
        "y=IHDP['ite']"
      ]
    },
    {
      "cell_type": "markdown",
      "metadata": {
        "id": "i8wor18_xlhe"
      },
      "source": [
        "d) Perform hyperparameter optimisation for your model(s) using grid search and appropriate\n",
        "modeling techniques.\n"
      ]
    },
    {
      "cell_type": "code",
      "execution_count": null,
      "metadata": {
        "id": "kJP67OGhyJke"
      },
      "outputs": [],
      "source": [
        "from sklearn.model_selection import RepeatedKFold\n",
        "from sklearn.model_selection import RandomizedSearchCV\n",
        "from sklearn.model_selection import RepeatedStratifiedKFold"
      ]
    },
    {
      "cell_type": "code",
      "execution_count": null,
      "metadata": {
        "colab": {
          "base_uri": "https://localhost:8080/"
        },
        "id": "-NAZfVHJwas6",
        "outputId": "f8a63300-cce8-4ee1-b5fd-ac119c241663"
      },
      "outputs": [
        {
          "output_type": "stream",
          "name": "stdout",
          "text": [
            "Best Score: -0.11382215228597445\n",
            "Best Hyperparameters: {'splitter': 'random', 'max_features': 'auto', 'criterion': 'squared_error'}\n"
          ]
        }
      ],
      "source": [
        "from scipy.stats import loguniform\n",
        "from sklearn.model_selection import RepeatedKFold\n",
        "from sklearn.model_selection import RandomizedSearchCV\n",
        "model = DecisionTreeRegressor()\n",
        "# define evaluation\n",
        "cv = RepeatedKFold(n_splits=10, n_repeats=3, random_state=1)\n",
        "# define search space\n",
        "space = dict()\n",
        "space['criterion'] = ['squared_error', 'friedman_mse', 'absolute_error']\n",
        "space['splitter'] = ['best','random']\n",
        "space['max_features'] = ['auto','sqrt','log2']\n",
        "#space['normalize'] = [True, False]\n",
        "# define search\n",
        "search = RandomizedSearchCV(model, space, n_iter=10, scoring='neg_mean_absolute_error', n_jobs=-1, cv=cv, random_state=1)\n",
        "# execute search\n",
        "result = search.fit(X, y)\n",
        "# summarize result\n",
        "print('Best Score: %s' % result.best_score_)\n",
        "print('Best Hyperparameters: %s' % result.best_params_)"
      ]
    },
    {
      "cell_type": "code",
      "execution_count": null,
      "metadata": {
        "id": "BR72-6hfzjfq"
      },
      "outputs": [],
      "source": [
        "## e) Report the performance (chosen metric(s)) of your model(s) using 10-fold cross-validation or a training/validation/test split"
      ]
    },
    {
      "cell_type": "code",
      "execution_count": null,
      "metadata": {
        "id": "GmJ2Ky_R0EXj"
      },
      "outputs": [],
      "source": [
        "from sklearn.model_selection import cross_val_score\n",
        "clf = DecisionTreeRegressor(criterion='absolute_error',max_features='auto',splitter='random')\n",
        "scores = cross_val_score(clf, X, y, cv=10)"
      ]
    },
    {
      "cell_type": "markdown",
      "metadata": {
        "id": "i178Ck4x43QI"
      },
      "source": [
        ""
      ]
    },
    {
      "cell_type": "code",
      "execution_count": null,
      "metadata": {
        "colab": {
          "base_uri": "https://localhost:8080/"
        },
        "id": "laNjVJnA0qlN",
        "outputId": "b0a2888e-b0a0-4aa7-91a5-59eee7024aec"
      },
      "outputs": [
        {
          "output_type": "execute_result",
          "data": {
            "text/plain": [
              "array([0.88245351, 0.35504549, 0.96729801, 0.85963078, 0.85559241,\n",
              "       0.89473434, 0.89366022, 0.8570293 , 0.88600558, 0.89923203])"
            ]
          },
          "metadata": {},
          "execution_count": 73
        }
      ],
      "source": [
        "scores"
      ]
    },
    {
      "cell_type": "code",
      "execution_count": null,
      "metadata": {
        "id": "8rG9Ojlw5Vp2"
      },
      "outputs": [],
      "source": [
        "from sklearn.model_selection import train_test_split\n"
      ]
    },
    {
      "cell_type": "code",
      "execution_count": null,
      "metadata": {
        "id": "28i-ZvdI5JnO"
      },
      "outputs": [],
      "source": [
        ""
      ]
    },
    {
      "cell_type": "code",
      "execution_count": null,
      "metadata": {
        "colab": {
          "base_uri": "https://localhost:8080/",
          "height": 37
        },
        "id": "4eSTnwYA5K8b",
        "outputId": "11f591c6-60f8-49b5-839e-b7b33dcb189b"
      },
      "outputs": [
        {
          "output_type": "execute_result",
          "data": {
            "text/plain": [
              "0.8303664960906652"
            ],
            "image/png": "[encoded data removed]",
            "text/latex": "$\\displaystyle 0.830366496090665$"
          },
          "metadata": {},
          "execution_count": 75
        }
      ],
      "source": [
        "X_train, X_test, y_train, y_test, Out_x,out_y = train_test_split(X, y,IHDP['yf'], test_size=0.33, random_state=1)\n",
        "model = DecisionTreeRegressor()\n",
        "# fit the model\n",
        "model.fit(X_train, y_train)\n",
        "# get importance\n",
        "pred_regre=model.predict(X_test)\n",
        "abs_att(pred_regre,out_y,X_test['t'],y_test)"
      ]
    },
    {
      "cell_type": "code",
      "execution_count": null,
      "metadata": {
        "id": "uB4EgZEr6IFG"
      },
      "outputs": [],
      "source": [
        ""
      ]
    },
    {
      "cell_type": "code",
      "execution_count": null,
      "metadata": {
        "id": "xjlcoXKp029S"
      },
      "outputs": [],
      "source": [
        "# Plot Feature Importance and comments"
      ]
    },
    {
      "cell_type": "code",
      "execution_count": null,
      "metadata": {
        "colab": {
          "base_uri": "https://localhost:8080/",
          "height": 295
        },
        "id": "J1FaXJvo0rYN",
        "outputId": "e755fa24-9872-40fb-9f7a-ffc09502f917"
      },
      "outputs": [
        {
          "output_type": "display_data",
          "data": {
            "text/plain": [
              "<Figure size 432x288 with 1 Axes>"
            ],
            "image/png": "[encoded data removed]"
          },
          "metadata": {
            "needs_background": "light"
          }
        }
      ],
      "source": [
        "pyplot.bar([x for x in range(len(importance))], importance)\n",
        "pyplot.title(\"Feature Importance for IHDPs dataset using Decision Tree Regressor\")\n",
        "pyplot.ylabel(\"Feature Score\")\n",
        "pyplot.xlabel(\"Feature Number\")\n",
        "pyplot.show()"
      ]
    },
    {
      "cell_type": "markdown",
      "metadata": {
        "id": "YWLrMNmM1JgB"
      },
      "source": [
        "##  Propensity score re-weighting\n",
        "### (a) Train a classifier (of your choice) to predict propensity scores based on background features X. See section 5.1 for more details.\n"
      ]
    },
    {
      "cell_type": "code",
      "execution_count": null,
      "metadata": {
        "id": "zmDxpFF01L7f"
      },
      "outputs": [],
      "source": [
        "T=IHDP['t']\n",
        "\n",
        "from sklearn.linear_model import LogisticRegression\n",
        "\n",
        "ps_model = LogisticRegression().fit(X, T)\n"
      ]
    },
    {
      "cell_type": "code",
      "execution_count": null,
      "metadata": {
        "id": "fYmWVU6y1orN"
      },
      "outputs": [],
      "source": [
        "IHDP['propensity_score']=ps_model.predict_proba(X)[:,1]"
      ]
    },
    {
      "cell_type": "code",
      "execution_count": null,
      "metadata": {
        "colab": {
          "base_uri": "https://localhost:8080/"
        },
        "id": "k3RkjM2o1s5-",
        "outputId": "6470306a-b87f-4b1c-cfe8-d922243d497e"
      },
      "outputs": [
        {
          "output_type": "stream",
          "name": "stdout",
          "text": [
            "Original Sample Size 747\n",
            "Treated Population Sample Size 146.57854595833973\n",
            "Untreated Population Sample Size 615.2498436977343\n"
          ]
        }
      ],
      "source": [
        "weight_t = 1/IHDP.query(\"t==1\")[\"propensity_score\"]\n",
        "weight_nt = 1/(1-IHDP.query(\"t==0\")[\"propensity_score\"])\n",
        "print(\"Original Sample Size\", IHDP.shape[0])\n",
        "print(\"Treated Population Sample Size\", sum(weight_t))\n",
        "print(\"Untreated Population Sample Size\", sum(weight_nt))"
      ]
    },
    {
      "cell_type": "markdown",
      "metadata": {
        "id": "C_5KdmpS3Pue"
      },
      "source": [
        "b) Create a function that calculates sample weights (wi) based on their propensity scores (e(xi))\n",
        "you calculated in the previous step."
      ]
    },
    {
      "cell_type": "code",
      "execution_count": null,
      "metadata": {
        "colab": {
          "base_uri": "https://localhost:8080/"
        },
        "id": "s-AXsY3L1yrU",
        "outputId": "d2bc4aa8-4645-4c8b-f02a-f5a72a8d64fb"
      },
      "outputs": [
        {
          "output_type": "stream",
          "name": "stdout",
          "text": [
            "Y1: 1.2622499660543967\n",
            "Y0: 1.9869129595552766\n",
            "ATE -0.7246629935008778\n"
          ]
        }
      ],
      "source": [
        "weight = ((IHDP[\"t\"]-IHDP[\"propensity_score\"]) /\n",
        "          (IHDP[\"propensity_score\"]*(1-IHDP[\"propensity_score\"])))\n",
        "\n",
        "y1 = sum(IHDP.query(\"t==1\")[\"yf\"]*weight_t) / len(IHDP)\n",
        "y0 = sum(IHDP.query(\"t==0\")[\"yf\"]*weight_nt) / len(IHDP)\n",
        "\n",
        "ate = np.mean(weight * IHDP[\"yf\"])\n",
        "\n",
        "print(\"Y1:\", y1)\n",
        "print(\"Y0:\", y0)\n",
        "print(\"ATE\", np.mean(weight * IHDP[\"yf\"]))"
      ]
    },
    {
      "cell_type": "markdown",
      "metadata": {
        "id": "TldCI0EP2-bL"
      },
      "source": [
        "c) Use the weights returned by the function as the sample weights to train a weighted regressor (use the regressor(s) chosen in task 3).\n"
      ]
    },
    {
      "cell_type": "code",
      "execution_count": null,
      "metadata": {
        "colab": {
          "base_uri": "https://localhost:8080/",
          "height": 733
        },
        "id": "quzLb04p28uX",
        "outputId": "5783df12-0b5b-4950-c12f-eb97b22a7004"
      },
      "outputs": [
        {
          "output_type": "stream",
          "name": "stdout",
          "text": [
            "x1, Score: 0.01083\n",
            "x2, Score: 0.00140\n",
            "x3, Score: 0.00359\n",
            "x4, Score: 0.05782\n",
            "x5, Score: 0.00189\n",
            "x6, Score: 0.79265\n",
            "x7, Score: 0.00078\n",
            "x8, Score: 0.00047\n",
            "x9, Score: 0.00039\n",
            "x10, Score: 0.01327\n",
            "x11, Score: 0.00262\n",
            "x12, Score: 0.00033\n",
            "x13, Score: 0.00039\n",
            "x14, Score: 0.01125\n",
            "x15, Score: 0.09544\n",
            "x16, Score: 0.00033\n",
            "x17, Score: 0.00012\n",
            "x18, Score: 0.00005\n",
            "x19, Score: 0.00013\n",
            "x20, Score: 0.00213\n",
            "x21, Score: 0.00017\n",
            "x22, Score: 0.00006\n",
            "x23, Score: 0.00137\n",
            "x24, Score: 0.00242\n",
            "x25, Score: 0.00001\n",
            "x26, Score: 0.00010\n"
          ]
        },
        {
          "output_type": "display_data",
          "data": {
            "text/plain": [
              "<Figure size 432x288 with 1 Axes>"
            ],
            "image/png": "[encoded data removed]"
          },
          "metadata": {
            "needs_background": "light"
          }
        }
      ],
      "source": [
        "model = DecisionTreeRegressor()\n",
        "# fit the model\n",
        "model.fit(X, y,abs(weight))\n",
        "# get importance\n",
        "importance = model.feature_importances_\n",
        "# summarize feature importance\n",
        "for i,v in enumerate(importance):\n",
        "\tprint('x%0d, Score: %.5f' % (i+1,v))\n",
        "# plot feature importance\n",
        "pyplot.bar([x for x in range(len(importance))], importance)\n",
        "pyplot.title(\"Feature Importance for IHDPs dataset using Decision Tree Regressor\")\n",
        "pyplot.ylabel(\"Feature Score\")\n",
        "pyplot.ylabel(\"Feature Number\")\n",
        "pyplot.show()"
      ]
    },
    {
      "cell_type": "code",
      "execution_count": null,
      "metadata": {
        "id": "m6OeKE9O2EAn"
      },
      "outputs": [],
      "source": [
        "## (d) Repeat steps 3d - 3f, but for weighted regression.\n"
      ]
    },
    {
      "cell_type": "code",
      "execution_count": null,
      "metadata": {
        "id": "8U7uDztF13Z4"
      },
      "outputs": [],
      "source": [
        "model = DecisionTreeRegressor()\n",
        "# fit the model\n",
        "model.fit(X, y,abs(weight))\n",
        "# get importance\n",
        "pred_regre=model.predict(X)"
      ]
    },
    {
      "cell_type": "code",
      "execution_count": null,
      "metadata": {
        "id": "alwQudYC339w"
      },
      "outputs": [],
      "source": [
        "#pred_regre[pred_regre>0.5]=1\n",
        "#pred_regre[pred_regre<=0.5]=0"
      ]
    },
    {
      "cell_type": "code",
      "execution_count": null,
      "metadata": {
        "colab": {
          "base_uri": "https://localhost:8080/",
          "height": 37
        },
        "id": "wBIohUwK37iu",
        "outputId": "5505249a-7d65-45b9-8c98-3612a58d8479"
      },
      "outputs": [
        {
          "output_type": "execute_result",
          "data": {
            "text/plain": [
              "0.7745771168741102"
            ],
            "image/png": "[encoded data removed]",
            "text/latex": "$\\displaystyle 0.77457711687411$"
          },
          "metadata": {},
          "execution_count": 86
        }
      ],
      "source": [
        "abs_att(pred_regre,IHDP['yf'],IHDP['t'],IHDP['ite'])"
      ]
    },
    {
      "cell_type": "code",
      "execution_count": null,
      "metadata": {
        "colab": {
          "base_uri": "https://localhost:8080/"
        },
        "id": "3CkbTOZy3_ab",
        "outputId": "dae34043-d389-4e87-faa3-44557dd1e70e"
      },
      "outputs": [
        {
          "output_type": "stream",
          "name": "stdout",
          "text": [
            "Best Score: -0.11760837788443759\n",
            "Best Hyperparameters: {'splitter': 'random', 'max_features': 'auto', 'criterion': 'absolute_error'}\n"
          ]
        }
      ],
      "source": [
        "X=IHDP[IHDP.columns[:26]]\n",
        "y=IHDP['ite']\n",
        "model = DecisionTreeRegressor()\n",
        "# define evaluation\n",
        "cv = RepeatedKFold(n_splits=10, n_repeats=3, random_state=1)\n",
        "# define search space\n",
        "space = dict()\n",
        "space['criterion'] = ['squared_error', 'friedman_mse', 'absolute_error']\n",
        "space['splitter'] = ['best','random']\n",
        "space['max_features'] = ['auto','sqrt','log2']\n",
        "#space['normalize'] = [True, False]\n",
        "# define search\n",
        "search = RandomizedSearchCV(model, space, n_iter=10, scoring='neg_mean_absolute_error', n_jobs=-1, cv=cv, random_state=1)\n",
        "# execute search\n",
        "result = search.fit(X, y,sample_weight=abs(weight))\n",
        "# summarize result\n",
        "print('Best Score: %s' % result.best_score_)\n",
        "print('Best Hyperparameters: %s' % result.best_params_)"
      ]
    },
    {
      "cell_type": "code",
      "execution_count": null,
      "metadata": {
        "colab": {
          "base_uri": "https://localhost:8080/",
          "height": 37
        },
        "id": "IyDUKaP16vPZ",
        "outputId": "a1a8b804-b103-4250-8042-52e8b3d38ee3"
      },
      "outputs": [
        {
          "output_type": "execute_result",
          "data": {
            "text/plain": [
              "0.7128723235550076"
            ],
            "image/png": "[encoded data removed]",
            "text/latex": "$\\displaystyle 0.712872323555008$"
          },
          "metadata": {},
          "execution_count": 88
        }
      ],
      "source": [
        "X_train, X_test, y_train, y_test, Out_x,out_y,wt_1,wt_2 = train_test_split(X, y,IHDP['yf'],weight, test_size=0.33, random_state=1)\n",
        "model = DecisionTreeRegressor(criterion='squared_error',max_features='auto',splitter='random')\n",
        "# fit the model\n",
        "model.fit(X_train, y_train,wt_1)\n",
        "# get importance\n",
        "pred_regre=model.predict(X_test)\n",
        "abs_att(pred_regre,out_y,X_test['t'],y_test)\n",
        "#abs_att(pred_regre,IHDP['yf'],IHDP['t'],IHDP['ite'])"
      ]
    },
    {
      "cell_type": "code",
      "execution_count": null,
      "metadata": {
        "colab": {
          "base_uri": "https://localhost:8080/",
          "height": 424
        },
        "id": "NvXnNyzsBYqY",
        "outputId": "6bcfd3d9-c232-4b96-94bc-e3579f8b4a25"
      },
      "outputs": [
        {
          "output_type": "execute_result",
          "data": {
            "text/plain": [
              "           x1        x2        x3        x4        x5        x6   x7   x8  \\\n",
              "737  0.511133 -0.202946  0.383828 -0.879606 -0.879258 -1.354634  0.0  0.0   \n",
              "175 -0.677754 -1.002474  0.011465  0.161703  1.558913  0.301522  1.0  0.0   \n",
              "242  0.403053  0.196818  0.011465 -0.879606  1.746464 -1.354634  0.0  0.0   \n",
              "311  0.856992  1.064917 -1.105624 -0.879606 -1.191844 -0.692171  1.0  0.0   \n",
              "677  1.159618  0.996346 -1.477987  0.161703  0.121017 -0.526556  1.0  0.0   \n",
              "..        ...       ...       ...       ...       ...       ...  ...  ...   \n",
              "685 -0.785835 -1.002474  1.128554 -0.879606  0.621155 -0.857787  1.0  0.0   \n",
              "554  0.727295 -0.202946 -0.733261 -0.879606  0.808706  1.129600  0.0  0.0   \n",
              "400 -0.331896  0.596582 -0.360898  0.161703  0.371086  1.460832  1.0  1.0   \n",
              "135  0.273356 -0.202946 -0.360898  1.203011  0.121017 -0.029709  1.0  1.0   \n",
              "495 -0.396744 -0.202946  0.011465  2.244320  0.183534 -0.195324  0.0  0.0   \n",
              "\n",
              "      x9  x10  ...  x17  x18  x19  x20  x21  x22  x23  x24  x25    t  \n",
              "737  0.0  1.0  ...  0.0  1.0  0.0  0.0  1.0  0.0  0.0  0.0  0.0  1.0  \n",
              "175  1.0  0.0  ...  1.0  1.0  0.0  0.0  1.0  0.0  0.0  0.0  0.0  0.0  \n",
              "242  0.0  1.0  ...  1.0  1.0  1.0  0.0  0.0  0.0  0.0  0.0  0.0  0.0  \n",
              "311  0.0  0.0  ...  0.0  1.0  0.0  0.0  0.0  0.0  0.0  0.0  0.0  0.0  \n",
              "677  0.0  0.0  ...  0.0  1.0  0.0  0.0  0.0  0.0  0.0  1.0  0.0  0.0  \n",
              "..   ...  ...  ...  ...  ...  ...  ...  ...  ...  ...  ...  ...  ...  \n",
              "685  0.0  1.0  ...  0.0  1.0  0.0  1.0  0.0  0.0  0.0  0.0  0.0  0.0  \n",
              "554  1.0  0.0  ...  1.0  1.0  0.0  0.0  0.0  0.0  0.0  0.0  0.0  1.0  \n",
              "400  1.0  0.0  ...  0.0  1.0  0.0  0.0  0.0  0.0  0.0  0.0  0.0  0.0  \n",
              "135  1.0  1.0  ...  1.0  1.0  0.0  0.0  0.0  0.0  0.0  1.0  0.0  0.0  \n",
              "495  0.0  1.0  ...  0.0  1.0  0.0  1.0  0.0  0.0  0.0  0.0  0.0  0.0  \n",
              "\n",
              "[247 rows x 26 columns]"
            ],
            "text/html": [
              "\n",
              "  <div id=\"df-7739a2c8-d712-4ed8-8485-654c8ee606e3\">\n",
              "    <div class=\"colab-df-container\">\n",
              "      <div>\n",
              "<style scoped>\n",
              "    .dataframe tbody tr th:only-of-type {\n",
              "        vertical-align: middle;\n",
              "    }\n",
              "\n",
              "    .dataframe tbody tr th {\n",
              "        vertical-align: top;\n",
              "    }\n",
              "\n",
              "    .dataframe thead th {\n",
              "        text-align: right;\n",
              "    }\n",
              "</style>\n",
              "<table border=\"1\" class=\"dataframe\">\n",
              "  <thead>\n",
              "    <tr style=\"text-align: right;\">\n",
              "      <th></th>\n",
              "      <th>x1</th>\n",
              "      <th>x2</th>\n",
              "      <th>x3</th>\n",
              "      <th>x4</th>\n",
              "      <th>x5</th>\n",
              "      <th>x6</th>\n",
              "      <th>x7</th>\n",
              "      <th>x8</th>\n",
              "      <th>x9</th>\n",
              "      <th>x10</th>\n",
              "      <th>...</th>\n",
              "      <th>x17</th>\n",
              "      <th>x18</th>\n",
              "      <th>x19</th>\n",
              "      <th>x20</th>\n",
              "      <th>x21</th>\n",
              "      <th>x22</th>\n",
              "      <th>x23</th>\n",
              "      <th>x24</th>\n",
              "      <th>x25</th>\n",
              "      <th>t</th>\n",
              "    </tr>\n",
              "  </thead>\n",
              "  <tbody>\n",
              "    <tr>\n",
              "      <th>737</th>\n",
              "      <td>0.511133</td>\n",
              "      <td>-0.202946</td>\n",
              "      <td>0.383828</td>\n",
              "      <td>-0.879606</td>\n",
              "      <td>-0.879258</td>\n",
              "      <td>-1.354634</td>\n",
              "      <td>0.0</td>\n",
              "      <td>0.0</td>\n",
              "      <td>0.0</td>\n",
              "      <td>1.0</td>\n",
              "      <td>...</td>\n",
              "      <td>0.0</td>\n",
              "      <td>1.0</td>\n",
              "      <td>0.0</td>\n",
              "      <td>0.0</td>\n",
              "      <td>1.0</td>\n",
              "      <td>0.0</td>\n",
              "      <td>0.0</td>\n",
              "      <td>0.0</td>\n",
              "      <td>0.0</td>\n",
              "      <td>1.0</td>\n",
              "    </tr>\n",
              "    <tr>\n",
              "      <th>175</th>\n",
              "      <td>-0.677754</td>\n",
              "      <td>-1.002474</td>\n",
              "      <td>0.011465</td>\n",
              "      <td>0.161703</td>\n",
              "      <td>1.558913</td>\n",
              "      <td>0.301522</td>\n",
              "      <td>1.0</td>\n",
              "      <td>0.0</td>\n",
              "      <td>1.0</td>\n",
              "      <td>0.0</td>\n",
              "      <td>...</td>\n",
              "      <td>1.0</td>\n",
              "      <td>1.0</td>\n",
              "      <td>0.0</td>\n",
              "      <td>0.0</td>\n",
              "      <td>1.0</td>\n",
              "      <td>0.0</td>\n",
              "      <td>0.0</td>\n",
              "      <td>0.0</td>\n",
              "      <td>0.0</td>\n",
              "      <td>0.0</td>\n",
              "    </tr>\n",
              "    <tr>\n",
              "      <th>242</th>\n",
              "      <td>0.403053</td>\n",
              "      <td>0.196818</td>\n",
              "      <td>0.011465</td>\n",
              "      <td>-0.879606</td>\n",
              "      <td>1.746464</td>\n",
              "      <td>-1.354634</td>\n",
              "      <td>0.0</td>\n",
              "      <td>0.0</td>\n",
              "      <td>0.0</td>\n",
              "      <td>1.0</td>\n",
              "      <td>...</td>\n",
              "      <td>1.0</td>\n",
              "      <td>1.0</td>\n",
              "      <td>1.0</td>\n",
              "      <td>0.0</td>\n",
              "      <td>0.0</td>\n",
              "      <td>0.0</td>\n",
              "      <td>0.0</td>\n",
              "      <td>0.0</td>\n",
              "      <td>0.0</td>\n",
              "      <td>0.0</td>\n",
              "    </tr>\n",
              "    <tr>\n",
              "      <th>311</th>\n",
              "      <td>0.856992</td>\n",
              "      <td>1.064917</td>\n",
              "      <td>-1.105624</td>\n",
              "      <td>-0.879606</td>\n",
              "      <td>-1.191844</td>\n",
              "      <td>-0.692171</td>\n",
              "      <td>1.0</td>\n",
              "      <td>0.0</td>\n",
              "      <td>0.0</td>\n",
              "      <td>0.0</td>\n",
              "      <td>...</td>\n",
              "      <td>0.0</td>\n",
              "      <td>1.0</td>\n",
              "      <td>0.0</td>\n",
              "      <td>0.0</td>\n",
              "      <td>0.0</td>\n",
              "      <td>0.0</td>\n",
              "      <td>0.0</td>\n",
              "      <td>0.0</td>\n",
              "      <td>0.0</td>\n",
              "      <td>0.0</td>\n",
              "    </tr>\n",
              "    <tr>\n",
              "      <th>677</th>\n",
              "      <td>1.159618</td>\n",
              "      <td>0.996346</td>\n",
              "      <td>-1.477987</td>\n",
              "      <td>0.161703</td>\n",
              "      <td>0.121017</td>\n",
              "      <td>-0.526556</td>\n",
              "      <td>1.0</td>\n",
              "      <td>0.0</td>\n",
              "      <td>0.0</td>\n",
              "      <td>0.0</td>\n",
              "      <td>...</td>\n",
              "      <td>0.0</td>\n",
              "      <td>1.0</td>\n",
              "      <td>0.0</td>\n",
              "      <td>0.0</td>\n",
              "      <td>0.0</td>\n",
              "      <td>0.0</td>\n",
              "      <td>0.0</td>\n",
              "      <td>1.0</td>\n",
              "      <td>0.0</td>\n",
              "      <td>0.0</td>\n",
              "    </tr>\n",
              "    <tr>\n",
              "      <th>...</th>\n",
              "      <td>...</td>\n",
              "      <td>...</td>\n",
              "      <td>...</td>\n",
              "      <td>...</td>\n",
              "      <td>...</td>\n",
              "      <td>...</td>\n",
              "      <td>...</td>\n",
              "      <td>...</td>\n",
              "      <td>...</td>\n",
              "      <td>...</td>\n",
              "      <td>...</td>\n",
              "      <td>...</td>\n",
              "      <td>...</td>\n",
              "      <td>...</td>\n",
              "      <td>...</td>\n",
              "      <td>...</td>\n",
              "      <td>...</td>\n",
              "      <td>...</td>\n",
              "      <td>...</td>\n",
              "      <td>...</td>\n",
              "      <td>...</td>\n",
              "    </tr>\n",
              "    <tr>\n",
              "      <th>685</th>\n",
              "      <td>-0.785835</td>\n",
              "      <td>-1.002474</td>\n",
              "      <td>1.128554</td>\n",
              "      <td>-0.879606</td>\n",
              "      <td>0.621155</td>\n",
              "      <td>-0.857787</td>\n",
              "      <td>1.0</td>\n",
              "      <td>0.0</td>\n",
              "      <td>0.0</td>\n",
              "      <td>1.0</td>\n",
              "      <td>...</td>\n",
              "      <td>0.0</td>\n",
              "      <td>1.0</td>\n",
              "      <td>0.0</td>\n",
              "      <td>1.0</td>\n",
              "      <td>0.0</td>\n",
              "      <td>0.0</td>\n",
              "      <td>0.0</td>\n",
              "      <td>0.0</td>\n",
              "      <td>0.0</td>\n",
              "      <td>0.0</td>\n",
              "    </tr>\n",
              "    <tr>\n",
              "      <th>554</th>\n",
              "      <td>0.727295</td>\n",
              "      <td>-0.202946</td>\n",
              "      <td>-0.733261</td>\n",
              "      <td>-0.879606</td>\n",
              "      <td>0.808706</td>\n",
              "      <td>1.129600</td>\n",
              "      <td>0.0</td>\n",
              "      <td>0.0</td>\n",
              "      <td>1.0</td>\n",
              "      <td>0.0</td>\n",
              "      <td>...</td>\n",
              "      <td>1.0</td>\n",
              "      <td>1.0</td>\n",
              "      <td>0.0</td>\n",
              "      <td>0.0</td>\n",
              "      <td>0.0</td>\n",
              "      <td>0.0</td>\n",
              "      <td>0.0</td>\n",
              "      <td>0.0</td>\n",
              "      <td>0.0</td>\n",
              "      <td>1.0</td>\n",
              "    </tr>\n",
              "    <tr>\n",
              "      <th>400</th>\n",
              "      <td>-0.331896</td>\n",
              "      <td>0.596582</td>\n",
              "      <td>-0.360898</td>\n",
              "      <td>0.161703</td>\n",
              "      <td>0.371086</td>\n",
              "      <td>1.460832</td>\n",
              "      <td>1.0</td>\n",
              "      <td>1.0</td>\n",
              "      <td>1.0</td>\n",
              "      <td>0.0</td>\n",
              "      <td>...</td>\n",
              "      <td>0.0</td>\n",
              "      <td>1.0</td>\n",
              "      <td>0.0</td>\n",
              "      <td>0.0</td>\n",
              "      <td>0.0</td>\n",
              "      <td>0.0</td>\n",
              "      <td>0.0</td>\n",
              "      <td>0.0</td>\n",
              "      <td>0.0</td>\n",
              "      <td>0.0</td>\n",
              "    </tr>\n",
              "    <tr>\n",
              "      <th>135</th>\n",
              "      <td>0.273356</td>\n",
              "      <td>-0.202946</td>\n",
              "      <td>-0.360898</td>\n",
              "      <td>1.203011</td>\n",
              "      <td>0.121017</td>\n",
              "      <td>-0.029709</td>\n",
              "      <td>1.0</td>\n",
              "      <td>1.0</td>\n",
              "      <td>1.0</td>\n",
              "      <td>1.0</td>\n",
              "      <td>...</td>\n",
              "      <td>1.0</td>\n",
              "      <td>1.0</td>\n",
              "      <td>0.0</td>\n",
              "      <td>0.0</td>\n",
              "      <td>0.0</td>\n",
              "      <td>0.0</td>\n",
              "      <td>0.0</td>\n",
              "      <td>1.0</td>\n",
              "      <td>0.0</td>\n",
              "      <td>0.0</td>\n",
              "    </tr>\n",
              "    <tr>\n",
              "      <th>495</th>\n",
              "      <td>-0.396744</td>\n",
              "      <td>-0.202946</td>\n",
              "      <td>0.011465</td>\n",
              "      <td>2.244320</td>\n",
              "      <td>0.183534</td>\n",
              "      <td>-0.195324</td>\n",
              "      <td>0.0</td>\n",
              "      <td>0.0</td>\n",
              "      <td>0.0</td>\n",
              "      <td>1.0</td>\n",
              "      <td>...</td>\n",
              "      <td>0.0</td>\n",
              "      <td>1.0</td>\n",
              "      <td>0.0</td>\n",
              "      <td>1.0</td>\n",
              "      <td>0.0</td>\n",
              "      <td>0.0</td>\n",
              "      <td>0.0</td>\n",
              "      <td>0.0</td>\n",
              "      <td>0.0</td>\n",
              "      <td>0.0</td>\n",
              "    </tr>\n",
              "  </tbody>\n",
              "</table>\n",
              "<p>247 rows × 26 columns</p>\n",
              "</div>\n",
              "      <button class=\"colab-df-convert\" onclick=\"convertToInteractive('df-7739a2c8-d712-4ed8-8485-654c8ee606e3')\"\n",
              "              title=\"Convert this dataframe to an interactive table.\"\n",
              "              style=\"display:none;\">\n",
              "        \n",
              "  <svg xmlns=\"http://www.w3.org/2000/svg\" height=\"24px\"viewBox=\"0 0 24 24\"\n",
              "       width=\"24px\">\n",
              "    <path d=\"M0 0h24v24H0V0z\" fill=\"none\"/>\n",
              "    <path d=\"M18.56 5.44l.94 2.06.94-2.06 2.06-.94-2.06-.94-.94-2.06-.94 2.06-2.06.94zm-11 1L8.5 8.5l.94-2.06 2.06-.94-2.06-.94L8.5 2.5l-.94 2.06-2.06.94zm10 10l.94 2.06.94-2.06 2.06-.94-2.06-.94-.94-2.06-.94 2.06-2.06.94z\"/><path d=\"M17.41 7.96l-1.37-1.37c-.4-.4-.92-.59-1.43-.59-.52 0-1.04.2-1.43.59L10.3 9.45l-7.72 7.72c-.78.78-.78 2.05 0 2.83L4 21.41c.39.39.9.59 1.41.59.51 0 1.02-.2 1.41-.59l7.78-7.78 2.81-2.81c.8-.78.8-2.07 0-2.86zM5.41 20L4 18.59l7.72-7.72 1.47 1.35L5.41 20z\"/>\n",
              "  </svg>\n",
              "      </button>\n",
              "      \n",
              "  <style>\n",
              "    .colab-df-container {\n",
              "      display:flex;\n",
              "      flex-wrap:wrap;\n",
              "      gap: 12px;\n",
              "    }\n",
              "\n",
              "    .colab-df-convert {\n",
              "      background-color: #E8F0FE;\n",
              "      border: none;\n",
              "      border-radius: 50%;\n",
              "      cursor: pointer;\n",
              "      display: none;\n",
              "      fill: #1967D2;\n",
              "      height: 32px;\n",
              "      padding: 0 0 0 0;\n",
              "      width: 32px;\n",
              "    }\n",
              "\n",
              "    .colab-df-convert:hover {\n",
              "      background-color: #E2EBFA;\n",
              "      box-shadow: 0px 1px 2px rgba(60, 64, 67, 0.3), 0px 1px 3px 1px rgba(60, 64, 67, 0.15);\n",
              "      fill: #174EA6;\n",
              "    }\n",
              "\n",
              "    [theme=dark] .colab-df-convert {\n",
              "      background-color: #3B4455;\n",
              "      fill: #D2E3FC;\n",
              "    }\n",
              "\n",
              "    [theme=dark] .colab-df-convert:hover {\n",
              "      background-color: #434B5C;\n",
              "      box-shadow: 0px 1px 3px 1px rgba(0, 0, 0, 0.15);\n",
              "      filter: drop-shadow(0px 1px 2px rgba(0, 0, 0, 0.3));\n",
              "      fill: #FFFFFF;\n",
              "    }\n",
              "  </style>\n",
              "\n",
              "      <script>\n",
              "        const buttonEl =\n",
              "          document.querySelector('#df-7739a2c8-d712-4ed8-8485-654c8ee606e3 button.colab-df-convert');\n",
              "        buttonEl.style.display =\n",
              "          google.colab.kernel.accessAllowed ? 'block' : 'none';\n",
              "\n",
              "        async function convertToInteractive(key) {\n",
              "          const element = document.querySelector('#df-7739a2c8-d712-4ed8-8485-654c8ee606e3');\n",
              "          const dataTable =\n",
              "            await google.colab.kernel.invokeFunction('convertToInteractive',\n",
              "                                                     [key], {});\n",
              "          if (!dataTable) return;\n",
              "\n",
              "          const docLinkHtml = 'Like what you see? Visit the ' +\n",
              "            '<a target=\"_blank\" href=https://colab.research.google.com/notebooks/data_table.ipynb>data table notebook</a>'\n",
              "            + ' to learn more about interactive tables.';\n",
              "          element.innerHTML = '';\n",
              "          dataTable['output_type'] = 'display_data';\n",
              "          await google.colab.output.renderOutput(dataTable, element);\n",
              "          const docLink = document.createElement('div');\n",
              "          docLink.innerHTML = docLinkHtml;\n",
              "          element.appendChild(docLink);\n",
              "        }\n",
              "      </script>\n",
              "    </div>\n",
              "  </div>\n",
              "  "
            ]
          },
          "metadata": {},
          "execution_count": 89
        }
      ],
      "source": [
        "X_test"
      ]
    },
    {
      "cell_type": "code",
      "execution_count": null,
      "metadata": {
        "colab": {
          "base_uri": "https://localhost:8080/",
          "height": 295
        },
        "id": "FiYW7kO545ml",
        "outputId": "9619e65e-aa9e-4bc6-f397-167babdace60"
      },
      "outputs": [
        {
          "output_type": "display_data",
          "data": {
            "text/plain": [
              "<Figure size 432x288 with 1 Axes>"
            ],
            "image/png": "[encoded data removed]"
          },
          "metadata": {
            "needs_background": "light"
          }
        }
      ],
      "source": [
        "pyplot.bar([x for x in range(len(importance))], importance)\n",
        "pyplot.title(\"Feature Importance for IHDPs dataset using Decision Tree Regressor\")\n",
        "pyplot.ylabel(\"Feature Score\")\n",
        "pyplot.xlabel(\"Feature Number\")\n",
        "pyplot.show()"
      ]
    },
    {
      "cell_type": "code",
      "execution_count": null,
      "metadata": {
        "id": "kzQDboxf5En0"
      },
      "outputs": [],
      "source": [
        ""
      ]
    },
    {
      "cell_type": "markdown",
      "metadata": {
        "id": "WP6CHa667SSP"
      },
      "source": [
        "5. Advanced CATE estimators\n",
        "(a) Choose at least one CATE estimator from EconML package (https://econml.azurewebsites.\n",
        "net/reference.html#cate-estimators). Comment on your choice(s).\n",
        "(b) Train the estimator(s) on the data.\n",
        "2\n",
        "(c) Predict effects and calculate relevant evaluation metrics.\n",
        "(d) Report the metrics and comment on your results. How do they compare to previous results?"
      ]
    },
    {
      "cell_type": "code",
      "execution_count": null,
      "metadata": {
        "colab": {
          "base_uri": "https://localhost:8080/"
        },
        "id": "dRFPbS6q7Sjs",
        "outputId": "e529c4d2-8ab8-4813-bffe-d476f1d87593"
      },
      "outputs": [
        {
          "output_type": "stream",
          "name": "stdout",
          "text": [
            "Requirement already satisfied: econml in /usr/local/lib/python3.7/dist-packages (0.13.0)\n",
            "Requirement already satisfied: lightgbm in /usr/local/lib/python3.7/dist-packages (from econml) (2.2.3)\n",
            "Requirement already satisfied: numpy in /usr/local/lib/python3.7/dist-packages (from econml) (1.21.6)\n",
            "Requirement already satisfied: scikit-learn>0.22.0 in /usr/local/lib/python3.7/dist-packages (from econml) (1.0.2)\n",
            "Requirement already satisfied: pandas in /usr/local/lib/python3.7/dist-packages (from econml) (1.3.5)\n",
            "Requirement already satisfied: shap<0.40.0,>=0.38.1 in /usr/local/lib/python3.7/dist-packages (from econml) (0.39.0)\n",
            "Requirement already satisfied: sparse in /usr/local/lib/python3.7/dist-packages (from econml) (0.13.0)\n",
            "Requirement already satisfied: dowhy<0.7 in /usr/local/lib/python3.7/dist-packages (from econml) (0.6)\n",
            "Requirement already satisfied: joblib>=0.13.0 in /usr/local/lib/python3.7/dist-packages (from econml) (1.1.0)\n",
            "Requirement already satisfied: scipy>1.4.0 in /usr/local/lib/python3.7/dist-packages (from econml) (1.4.1)\n",
            "Requirement already satisfied: statsmodels>=0.10 in /usr/local/lib/python3.7/dist-packages (from econml) (0.10.2)\n",
            "Requirement already satisfied: pydot>=1.4 in /usr/local/lib/python3.7/dist-packages (from dowhy<0.7->econml) (1.4.2)\n",
            "Requirement already satisfied: networkx>=2.0 in /usr/local/lib/python3.7/dist-packages (from dowhy<0.7->econml) (2.6.3)\n",
            "Requirement already satisfied: sympy>=1.4 in /usr/local/lib/python3.7/dist-packages (from dowhy<0.7->econml) (1.7.1)\n",
            "Requirement already satisfied: python-dateutil>=2.7.3 in /usr/local/lib/python3.7/dist-packages (from pandas->econml) (2.8.2)\n",
            "Requirement already satisfied: pytz>=2017.3 in /usr/local/lib/python3.7/dist-packages (from pandas->econml) (2022.1)\n",
            "Requirement already satisfied: pyparsing>=2.1.4 in /usr/local/lib/python3.7/dist-packages (from pydot>=1.4->dowhy<0.7->econml) (3.0.8)\n",
            "Requirement already satisfied: six>=1.5 in /usr/local/lib/python3.7/dist-packages (from python-dateutil>=2.7.3->pandas->econml) (1.15.0)\n",
            "Requirement already satisfied: threadpoolctl>=2.0.0 in /usr/local/lib/python3.7/dist-packages (from scikit-learn>0.22.0->econml) (3.1.0)\n",
            "Requirement already satisfied: cloudpickle in /usr/local/lib/python3.7/dist-packages (from shap<0.40.0,>=0.38.1->econml) (1.3.0)\n",
            "Requirement already satisfied: tqdm>4.25.0 in /usr/local/lib/python3.7/dist-packages (from shap<0.40.0,>=0.38.1->econml) (4.64.0)\n",
            "Requirement already satisfied: slicer==0.0.7 in /usr/local/lib/python3.7/dist-packages (from shap<0.40.0,>=0.38.1->econml) (0.0.7)\n",
            "Requirement already satisfied: numba in /usr/local/lib/python3.7/dist-packages (from shap<0.40.0,>=0.38.1->econml) (0.51.2)\n",
            "Requirement already satisfied: patsy>=0.4.0 in /usr/local/lib/python3.7/dist-packages (from statsmodels>=0.10->econml) (0.5.2)\n",
            "Requirement already satisfied: mpmath>=0.19 in /usr/local/lib/python3.7/dist-packages (from sympy>=1.4->dowhy<0.7->econml) (1.2.1)\n",
            "Requirement already satisfied: llvmlite<0.35,>=0.34.0.dev0 in /usr/local/lib/python3.7/dist-packages (from numba->shap<0.40.0,>=0.38.1->econml) (0.34.0)\n",
            "Requirement already satisfied: setuptools in /usr/local/lib/python3.7/dist-packages (from numba->shap<0.40.0,>=0.38.1->econml) (57.4.0)\n"
          ]
        }
      ],
      "source": [
        "!pip install econml"
      ]
    },
    {
      "cell_type": "code",
      "execution_count": null,
      "metadata": {
        "id": "S2og5lJa7cHP"
      },
      "outputs": [],
      "source": [
        "# Main imports\n",
        "from econml.metalearners import TLearner, SLearner\n",
        "# Helper imports \n"
      ]
    },
    {
      "cell_type": "code",
      "execution_count": null,
      "metadata": {
        "id": "3S4vO-Av7x-U"
      },
      "outputs": [],
      "source": [
        "import numpy as np\n",
        "from numpy.random import binomial, multivariate_normal, normal, uniform\n",
        "from sklearn.linear_model import LinearRegression\n",
        "from sklearn.ensemble import RandomForestRegressor, RandomForestClassifier, GradientBoostingRegressor\n",
        "import matplotlib.pyplot as plt\n",
        "\n",
        "%matplotlib inline"
      ]
    },
    {
      "cell_type": "code",
      "execution_count": null,
      "metadata": {
        "id": "E8MPGQEE7YSa"
      },
      "outputs": [],
      "source": [
        "X=IHDP[IHDP.columns[:25]]\n",
        "Y=IHDP['yf']\n",
        "T=IHDP['t']\n",
        "expected_te=IHDP['ite']"
      ]
    },
    {
      "cell_type": "code",
      "execution_count": null,
      "metadata": {
        "colab": {
          "base_uri": "https://localhost:8080/"
        },
        "id": "2Jn1_oVh7h-4",
        "outputId": "764a1850-f414-4768-c54f-73a0f20a46bc"
      },
      "outputs": [
        {
          "output_type": "stream",
          "name": "stderr",
          "text": [
            "Function get_feature_names is deprecated; get_feature_names is deprecated in 1.0 and will be removed in 1.2. Please use get_feature_names_out instead.\n"
          ]
        }
      ],
      "source": [
        "model = RandomForestRegressor(n_estimators=100, max_depth=6)\n",
        "T_learner = TLearner(models=model)\n",
        "# T-learner\n",
        "T_learner.fit(Y, T, X=X)\n",
        "T_te = T_learner.effect(X)"
      ]
    },
    {
      "cell_type": "code",
      "execution_count": null,
      "metadata": {
        "colab": {
          "base_uri": "https://localhost:8080/",
          "height": 37
        },
        "id": "k6RcYBdc7mkN",
        "outputId": "38b04248-ba66-484c-a1ad-49ca2fca8814"
      },
      "outputs": [
        {
          "output_type": "execute_result",
          "data": {
            "text/plain": [
              "0.6517732917568888"
            ],
            "image/png": "[encoded data removed]",
            "text/latex": "$\\displaystyle 0.651773291756889$"
          },
          "metadata": {},
          "execution_count": 96
        }
      ],
      "source": [
        "abs_att(T_te,Y,T,IHDP['ite'])"
      ]
    },
    {
      "cell_type": "code",
      "execution_count": null,
      "metadata": {
        "colab": {
          "base_uri": "https://localhost:8080/",
          "height": 55
        },
        "id": "_aTkVcAq7zth",
        "outputId": "7e0716de-c9aa-4427-edb6-ea85e5333f2a"
      },
      "outputs": [
        {
          "output_type": "stream",
          "name": "stderr",
          "text": [
            "Function get_feature_names is deprecated; get_feature_names is deprecated in 1.0 and will be removed in 1.2. Please use get_feature_names_out instead.\n"
          ]
        },
        {
          "output_type": "execute_result",
          "data": {
            "text/plain": [
              "0.7299820261429177"
            ],
            "image/png": "[encoded data removed]",
            "text/latex": "$\\displaystyle 0.729982026142918$"
          },
          "metadata": {},
          "execution_count": 97
        }
      ],
      "source": [
        "model = GradientBoostingRegressor()\n",
        "T_learner = TLearner(models=model)\n",
        "# T-learner\n",
        "T_learner.fit(Y, T, X=X)\n",
        "T_te = T_learner.effect(X)\n",
        "abs_att(T_te,Y,T,IHDP['ite'])"
      ]
    },
    {
      "cell_type": "code",
      "execution_count": null,
      "metadata": {
        "colab": {
          "base_uri": "https://localhost:8080/"
        },
        "id": "A2aznUGF77aR",
        "outputId": "9f8b3076-6718-4f9e-e8de-105f81f84106"
      },
      "outputs": [
        {
          "output_type": "stream",
          "name": "stderr",
          "text": [
            "Function get_feature_names is deprecated; get_feature_names is deprecated in 1.0 and will be removed in 1.2. Please use get_feature_names_out instead.\n"
          ]
        }
      ],
      "source": [
        "model = RandomForestRegressor(n_estimators=100, max_depth=6)\n",
        "S_learner = SLearner(overall_model=model)\n",
        "# S-learner\n",
        "S_learner.fit(Y, T, X=X)\n",
        "S_te = S_learner.effect(X)"
      ]
    },
    {
      "cell_type": "code",
      "execution_count": null,
      "metadata": {
        "colab": {
          "base_uri": "https://localhost:8080/",
          "height": 37
        },
        "id": "gO8R0BI38IOo",
        "outputId": "6ee7dc76-1076-4a1c-cebe-4d8fd617bb4f"
      },
      "outputs": [
        {
          "output_type": "execute_result",
          "data": {
            "text/plain": [
              "0.7299820261429177"
            ],
            "image/png": "[encoded data removed]",
            "text/latex": "$\\displaystyle 0.729982026142918$"
          },
          "metadata": {},
          "execution_count": 99
        }
      ],
      "source": [
        "abs_att(T_te,Y,T,IHDP['ite'])"
      ]
    },
    {
      "cell_type": "code",
      "execution_count": null,
      "metadata": {
        "colab": {
          "base_uri": "https://localhost:8080/",
          "height": 55
        },
        "id": "7MRljoB18U1p",
        "outputId": "555701f7-ab42-4807-e583-4176e30e94a1"
      },
      "outputs": [
        {
          "output_type": "stream",
          "name": "stderr",
          "text": [
            "Function get_feature_names is deprecated; get_feature_names is deprecated in 1.0 and will be removed in 1.2. Please use get_feature_names_out instead.\n"
          ]
        },
        {
          "output_type": "execute_result",
          "data": {
            "text/plain": [
              "0.6553073197514276"
            ],
            "image/png": "[encoded data removed]",
            "text/latex": "$\\displaystyle 0.655307319751428$"
          },
          "metadata": {},
          "execution_count": 100
        }
      ],
      "source": [
        "model = GradientBoostingRegressor()\n",
        "S_learner = SLearner(overall_model=model)\n",
        "# T-learner\n",
        "S_learner.fit(Y, T, X=X)\n",
        "S_te = S_learner.effect(X)\n",
        "abs_att(S_te,Y,T,IHDP['ite'])"
      ]
    },
    {
      "cell_type": "code",
      "execution_count": null,
      "metadata": {
        "id": "_VmMm2Z18cbY"
      },
      "outputs": [],
      "source": [
        ""
      ]
    }
  ],
  "metadata": {
    "colab": {
      "collapsed_sections": [],
      "name": "IHDP_Data_Set_Work.ipynb",
      "provenance": []
    },
    "kernelspec": {
      "display_name": "Python 3",
      "language": "python",
      "name": "python3"
    },
    "language_info": {
      "codemirror_mode": {
        "name": "ipython",
        "version": 3
      },
      "file_extension": ".py",
      "mimetype": "text/x-python",
      "name": "python",
      "nbconvert_exporter": "python",
      "pygments_lexer": "ipython3",
      "version": "3.9.7"
    }
  },
  "nbformat": 4,
  "nbformat_minor": 0
}